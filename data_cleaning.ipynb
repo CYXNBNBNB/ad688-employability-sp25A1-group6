{
 "cells": [
  {
   "cell_type": "markdown",
   "id": "7d57246d",
   "metadata": {},
   "source": [
    "# Step 1: Load the Dataset {.unnumbered}"
   ]
  },
  {
   "cell_type": "code",
   "execution_count": 1,
   "id": "791d9198",
   "metadata": {},
   "outputs": [
    {
     "name": "stderr",
     "output_type": "stream",
     "text": [
      "your 131072x1 screen size is bogus. expect trouble\n"
     ]
    },
    {
     "name": "stdout",
     "output_type": "stream",
     "text": [
      "25/04/17 20:02:13 WARN Utils: Your hostname, DESKTOP-AEE21PF resolves to a loopback address: 127.0.1.1; using 192.168.167.208 instead (on interface eth0)\n",
      "25/04/17 20:02:13 WARN Utils: Set SPARK_LOCAL_IP if you need to bind to another address\n"
     ]
    },
    {
     "name": "stderr",
     "output_type": "stream",
     "text": [
      "Setting default log level to \"WARN\".\n",
      "To adjust logging level use sc.setLogLevel(newLevel). For SparkR, use setLogLevel(newLevel).\n"
     ]
    },
    {
     "name": "stdout",
     "output_type": "stream",
     "text": [
      "25/04/17 20:02:15 WARN NativeCodeLoader: Unable to load native-hadoop library for your platform... using builtin-java classes where applicable\n"
     ]
    },
    {
     "name": "stderr",
     "output_type": "stream",
     "text": [
      "                                                                                \r"
     ]
    },
    {
     "name": "stdout",
     "output_type": "stream",
     "text": [
      "root\n",
      " |-- ID: string (nullable = true)\n",
      " |-- LAST_UPDATED_DATE: timestamp (nullable = true)\n",
      " |-- LAST_UPDATED_TIMESTAMP: timestamp (nullable = true)\n",
      " |-- DUPLICATES: integer (nullable = true)\n",
      " |-- POSTED: timestamp (nullable = true)\n",
      " |-- EXPIRED: timestamp (nullable = true)\n",
      " |-- DURATION: integer (nullable = true)\n",
      " |-- SOURCE_TYPES: string (nullable = true)\n",
      " |-- SOURCES: string (nullable = true)\n",
      " |-- URL: string (nullable = true)\n",
      " |-- ACTIVE_URLS: string (nullable = true)\n",
      " |-- ACTIVE_SOURCES_INFO: string (nullable = true)\n",
      " |-- TITLE_RAW: string (nullable = true)\n",
      " |-- BODY: string (nullable = true)\n",
      " |-- MODELED_EXPIRED: timestamp (nullable = true)\n",
      " |-- MODELED_DURATION: integer (nullable = true)\n",
      " |-- COMPANY: integer (nullable = true)\n",
      " |-- COMPANY_NAME: string (nullable = true)\n",
      " |-- COMPANY_RAW: string (nullable = true)\n",
      " |-- COMPANY_IS_STAFFING: boolean (nullable = true)\n",
      " |-- EDUCATION_LEVELS: string (nullable = true)\n",
      " |-- EDUCATION_LEVELS_NAME: string (nullable = true)\n",
      " |-- MIN_EDULEVELS: integer (nullable = true)\n",
      " |-- MIN_EDULEVELS_NAME: string (nullable = true)\n",
      " |-- MAX_EDULEVELS: integer (nullable = true)\n",
      " |-- MAX_EDULEVELS_NAME: string (nullable = true)\n",
      " |-- EMPLOYMENT_TYPE: integer (nullable = true)\n",
      " |-- EMPLOYMENT_TYPE_NAME: string (nullable = true)\n",
      " |-- MIN_YEARS_EXPERIENCE: integer (nullable = true)\n",
      " |-- MAX_YEARS_EXPERIENCE: integer (nullable = true)\n",
      " |-- IS_INTERNSHIP: boolean (nullable = true)\n",
      " |-- SALARY: integer (nullable = true)\n",
      " |-- REMOTE_TYPE: integer (nullable = true)\n",
      " |-- REMOTE_TYPE_NAME: string (nullable = true)\n",
      " |-- ORIGINAL_PAY_PERIOD: string (nullable = true)\n",
      " |-- SALARY_TO: integer (nullable = true)\n",
      " |-- SALARY_FROM: integer (nullable = true)\n",
      " |-- LOCATION: string (nullable = true)\n",
      " |-- CITY: string (nullable = true)\n",
      " |-- CITY_NAME: string (nullable = true)\n",
      " |-- COUNTY: integer (nullable = true)\n",
      " |-- COUNTY_NAME: string (nullable = true)\n",
      " |-- MSA: integer (nullable = true)\n",
      " |-- MSA_NAME: string (nullable = true)\n",
      " |-- STATE: integer (nullable = true)\n",
      " |-- STATE_NAME: string (nullable = true)\n",
      " |-- COUNTY_OUTGOING: integer (nullable = true)\n",
      " |-- COUNTY_NAME_OUTGOING: string (nullable = true)\n",
      " |-- COUNTY_INCOMING: integer (nullable = true)\n",
      " |-- COUNTY_NAME_INCOMING: string (nullable = true)\n",
      " |-- MSA_OUTGOING: integer (nullable = true)\n",
      " |-- MSA_NAME_OUTGOING: string (nullable = true)\n",
      " |-- MSA_INCOMING: integer (nullable = true)\n",
      " |-- MSA_NAME_INCOMING: string (nullable = true)\n",
      " |-- NAICS2: integer (nullable = true)\n",
      " |-- NAICS2_NAME: string (nullable = true)\n",
      " |-- NAICS3: integer (nullable = true)\n",
      " |-- NAICS3_NAME: string (nullable = true)\n",
      " |-- NAICS4: integer (nullable = true)\n",
      " |-- NAICS4_NAME: string (nullable = true)\n",
      " |-- NAICS5: integer (nullable = true)\n",
      " |-- NAICS5_NAME: string (nullable = true)\n",
      " |-- NAICS6: integer (nullable = true)\n",
      " |-- NAICS6_NAME: string (nullable = true)\n",
      " |-- TITLE: string (nullable = true)\n",
      " |-- TITLE_NAME: string (nullable = true)\n",
      " |-- TITLE_CLEAN: string (nullable = true)\n",
      " |-- SKILLS: string (nullable = true)\n",
      " |-- SKILLS_NAME: string (nullable = true)\n",
      " |-- SPECIALIZED_SKILLS: string (nullable = true)\n",
      " |-- SPECIALIZED_SKILLS_NAME: string (nullable = true)\n",
      " |-- CERTIFICATIONS: string (nullable = true)\n",
      " |-- CERTIFICATIONS_NAME: string (nullable = true)\n",
      " |-- COMMON_SKILLS: string (nullable = true)\n",
      " |-- COMMON_SKILLS_NAME: string (nullable = true)\n",
      " |-- SOFTWARE_SKILLS: string (nullable = true)\n",
      " |-- SOFTWARE_SKILLS_NAME: string (nullable = true)\n",
      " |-- ONET: string (nullable = true)\n",
      " |-- ONET_NAME: string (nullable = true)\n",
      " |-- ONET_2019: string (nullable = true)\n",
      " |-- ONET_2019_NAME: string (nullable = true)\n",
      " |-- CIP6: string (nullable = true)\n",
      " |-- CIP6_NAME: string (nullable = true)\n",
      " |-- CIP4: string (nullable = true)\n",
      " |-- CIP4_NAME: string (nullable = true)\n",
      " |-- CIP2: string (nullable = true)\n",
      " |-- CIP2_NAME: string (nullable = true)\n",
      " |-- SOC_2021_2: string (nullable = true)\n",
      " |-- SOC_2021_2_NAME: string (nullable = true)\n",
      " |-- SOC_2021_3: string (nullable = true)\n",
      " |-- SOC_2021_3_NAME: string (nullable = true)\n",
      " |-- SOC_2021_4: string (nullable = true)\n",
      " |-- SOC_2021_4_NAME: string (nullable = true)\n",
      " |-- SOC_2021_5: string (nullable = true)\n",
      " |-- SOC_2021_5_NAME: string (nullable = true)\n",
      " |-- LOT_CAREER_AREA: integer (nullable = true)\n",
      " |-- LOT_CAREER_AREA_NAME: string (nullable = true)\n",
      " |-- LOT_OCCUPATION: integer (nullable = true)\n",
      " |-- LOT_OCCUPATION_NAME: string (nullable = true)\n",
      " |-- LOT_SPECIALIZED_OCCUPATION: integer (nullable = true)\n",
      " |-- LOT_SPECIALIZED_OCCUPATION_NAME: string (nullable = true)\n",
      " |-- LOT_OCCUPATION_GROUP: integer (nullable = true)\n",
      " |-- LOT_OCCUPATION_GROUP_NAME: string (nullable = true)\n",
      " |-- LOT_V6_SPECIALIZED_OCCUPATION: integer (nullable = true)\n",
      " |-- LOT_V6_SPECIALIZED_OCCUPATION_NAME: string (nullable = true)\n",
      " |-- LOT_V6_OCCUPATION: integer (nullable = true)\n",
      " |-- LOT_V6_OCCUPATION_NAME: string (nullable = true)\n",
      " |-- LOT_V6_OCCUPATION_GROUP: integer (nullable = true)\n",
      " |-- LOT_V6_OCCUPATION_GROUP_NAME: string (nullable = true)\n",
      " |-- LOT_V6_CAREER_AREA: integer (nullable = true)\n",
      " |-- LOT_V6_CAREER_AREA_NAME: string (nullable = true)\n",
      " |-- SOC_2: string (nullable = true)\n",
      " |-- SOC_2_NAME: string (nullable = true)\n",
      " |-- SOC_3: string (nullable = true)\n",
      " |-- SOC_3_NAME: string (nullable = true)\n",
      " |-- SOC_4: string (nullable = true)\n",
      " |-- SOC_4_NAME: string (nullable = true)\n",
      " |-- SOC_5: string (nullable = true)\n",
      " |-- SOC_5_NAME: string (nullable = true)\n",
      " |-- LIGHTCAST_SECTORS: string (nullable = true)\n",
      " |-- LIGHTCAST_SECTORS_NAME: string (nullable = true)\n",
      " |-- NAICS_2022_2: integer (nullable = true)\n",
      " |-- NAICS_2022_2_NAME: string (nullable = true)\n",
      " |-- NAICS_2022_3: integer (nullable = true)\n",
      " |-- NAICS_2022_3_NAME: string (nullable = true)\n",
      " |-- NAICS_2022_4: integer (nullable = true)\n",
      " |-- NAICS_2022_4_NAME: string (nullable = true)\n",
      " |-- NAICS_2022_5: integer (nullable = true)\n",
      " |-- NAICS_2022_5_NAME: string (nullable = true)\n",
      " |-- NAICS_2022_6: integer (nullable = true)\n",
      " |-- NAICS_2022_6_NAME: string (nullable = true)\n",
      "\n",
      "25/04/17 20:02:20 WARN package: Truncated the string representation of a plan since it was too large. This behavior can be adjusted by setting 'spark.sql.debug.maxToStringFields'.\n",
      "+--------------------+-------------------+----------------------+----------+-------------------+-------------------+--------+--------------------+--------------------+--------------------+-----------+-------------------+--------------------+--------------------+-------------------+----------------+--------+--------------------+-----------+-------------------+----------------+---------------------+-------------+-------------------+-------------+------------------+---------------+--------------------+--------------------+--------------------+-------------+------+-----------+----------------+-------------------+---------+-----------+--------------------+--------------------+-------------+------+--------------+-----+--------------------+-----+----------+---------------+--------------------+---------------+--------------------+------------+--------------------+------------+--------------------+------+--------------------+------+--------------------+------+--------------------+------+--------------------+------+--------------------+------------------+-------------------+--------------------+--------------------+--------------------+--------------------+-----------------------+--------------------+--------------------+--------------------+--------------------+--------------------+--------------------+----------+--------------------+----------+--------------------+--------------------+--------------------+--------------------+--------------------+--------------------+--------------------+----------+--------------------+----------+--------------------+----------+---------------+----------+---------------+---------------+--------------------+--------------+--------------------+--------------------------+-------------------------------+--------------------+-------------------------+-----------------------------+----------------------------------+-----------------+----------------------+-----------------------+----------------------------+------------------+-----------------------+-------+--------------------+-------+--------------------+-------+---------------+-------+---------------+-----------------+----------------------+------------+--------------------+------------+--------------------+------------+--------------------+------------+--------------------+------------+--------------------+\n",
      "|                  ID|  LAST_UPDATED_DATE|LAST_UPDATED_TIMESTAMP|DUPLICATES|             POSTED|            EXPIRED|DURATION|        SOURCE_TYPES|             SOURCES|                 URL|ACTIVE_URLS|ACTIVE_SOURCES_INFO|           TITLE_RAW|                BODY|    MODELED_EXPIRED|MODELED_DURATION| COMPANY|        COMPANY_NAME|COMPANY_RAW|COMPANY_IS_STAFFING|EDUCATION_LEVELS|EDUCATION_LEVELS_NAME|MIN_EDULEVELS| MIN_EDULEVELS_NAME|MAX_EDULEVELS|MAX_EDULEVELS_NAME|EMPLOYMENT_TYPE|EMPLOYMENT_TYPE_NAME|MIN_YEARS_EXPERIENCE|MAX_YEARS_EXPERIENCE|IS_INTERNSHIP|SALARY|REMOTE_TYPE|REMOTE_TYPE_NAME|ORIGINAL_PAY_PERIOD|SALARY_TO|SALARY_FROM|            LOCATION|                CITY|    CITY_NAME|COUNTY|   COUNTY_NAME|  MSA|            MSA_NAME|STATE|STATE_NAME|COUNTY_OUTGOING|COUNTY_NAME_OUTGOING|COUNTY_INCOMING|COUNTY_NAME_INCOMING|MSA_OUTGOING|   MSA_NAME_OUTGOING|MSA_INCOMING|   MSA_NAME_INCOMING|NAICS2|         NAICS2_NAME|NAICS3|         NAICS3_NAME|NAICS4|         NAICS4_NAME|NAICS5|         NAICS5_NAME|NAICS6|         NAICS6_NAME|             TITLE|         TITLE_NAME|         TITLE_CLEAN|              SKILLS|         SKILLS_NAME|  SPECIALIZED_SKILLS|SPECIALIZED_SKILLS_NAME|      CERTIFICATIONS| CERTIFICATIONS_NAME|       COMMON_SKILLS|  COMMON_SKILLS_NAME|     SOFTWARE_SKILLS|SOFTWARE_SKILLS_NAME|      ONET|           ONET_NAME| ONET_2019|      ONET_2019_NAME|                CIP6|           CIP6_NAME|                CIP4|           CIP4_NAME|                CIP2|           CIP2_NAME|SOC_2021_2|     SOC_2021_2_NAME|SOC_2021_3|     SOC_2021_3_NAME|SOC_2021_4|SOC_2021_4_NAME|SOC_2021_5|SOC_2021_5_NAME|LOT_CAREER_AREA|LOT_CAREER_AREA_NAME|LOT_OCCUPATION| LOT_OCCUPATION_NAME|LOT_SPECIALIZED_OCCUPATION|LOT_SPECIALIZED_OCCUPATION_NAME|LOT_OCCUPATION_GROUP|LOT_OCCUPATION_GROUP_NAME|LOT_V6_SPECIALIZED_OCCUPATION|LOT_V6_SPECIALIZED_OCCUPATION_NAME|LOT_V6_OCCUPATION|LOT_V6_OCCUPATION_NAME|LOT_V6_OCCUPATION_GROUP|LOT_V6_OCCUPATION_GROUP_NAME|LOT_V6_CAREER_AREA|LOT_V6_CAREER_AREA_NAME|  SOC_2|          SOC_2_NAME|  SOC_3|          SOC_3_NAME|  SOC_4|     SOC_4_NAME|  SOC_5|     SOC_5_NAME|LIGHTCAST_SECTORS|LIGHTCAST_SECTORS_NAME|NAICS_2022_2|   NAICS_2022_2_NAME|NAICS_2022_3|   NAICS_2022_3_NAME|NAICS_2022_4|   NAICS_2022_4_NAME|NAICS_2022_5|   NAICS_2022_5_NAME|NAICS_2022_6|   NAICS_2022_6_NAME|\n",
      "+--------------------+-------------------+----------------------+----------+-------------------+-------------------+--------+--------------------+--------------------+--------------------+-----------+-------------------+--------------------+--------------------+-------------------+----------------+--------+--------------------+-----------+-------------------+----------------+---------------------+-------------+-------------------+-------------+------------------+---------------+--------------------+--------------------+--------------------+-------------+------+-----------+----------------+-------------------+---------+-----------+--------------------+--------------------+-------------+------+--------------+-----+--------------------+-----+----------+---------------+--------------------+---------------+--------------------+------------+--------------------+------------+--------------------+------+--------------------+------+--------------------+------+--------------------+------+--------------------+------+--------------------+------------------+-------------------+--------------------+--------------------+--------------------+--------------------+-----------------------+--------------------+--------------------+--------------------+--------------------+--------------------+--------------------+----------+--------------------+----------+--------------------+--------------------+--------------------+--------------------+--------------------+--------------------+--------------------+----------+--------------------+----------+--------------------+----------+---------------+----------+---------------+---------------+--------------------+--------------+--------------------+--------------------------+-------------------------------+--------------------+-------------------------+-----------------------------+----------------------------------+-----------------+----------------------+-----------------------+----------------------------+------------------+-----------------------+-------+--------------------+-------+--------------------+-------+---------------+-------+---------------+-----------------+----------------------+------------+--------------------+------------+--------------------+------------+--------------------+------------+--------------------+------------+--------------------+\n",
      "|1f57d95acf4dc67ed...|2024-09-06 00:00:00|  2024-09-06 16:32:...|         0|2024-06-02 00:00:00|2024-06-08 00:00:00|       6|   [\\n  \"Company\"\\n]|[\\n  \"brassring.c...|[\\n  \"https://sjo...|         []|               null|Enterprise Analys...|31-May-2024\\n\\nEn...|2024-06-08 00:00:00|               6|  894731|          Murphy USA| Murphy USA|              false|       [\\n  2\\n]| [\\n  \"Bachelor's ...|            2|  Bachelor's degree|         null|              null|              1|Full-time (> 32 h...|                   2|                   2|        false|  null|          0|          [None]|               null|     null|       null|{\\n  \"lat\": 33.20...|RWwgRG9yYWRvLCBBUg==|El Dorado, AR|  5139|     Union, AR|20980|       El Dorado, AR|    5|  Arkansas|           5139|           Union, AR|           5139|           Union, AR|       20980|       El Dorado, AR|       20980|       El Dorado, AR|    44|        Retail Trade|   441|Motor Vehicle and...|  4413|Automotive Parts,...| 44133|Automotive Parts ...|441330|Automotive Parts ...|ET29C073C03D1F86B4|Enterprise Analysts|enterprise analys...|[\\n  \"KS126DB6T06...|[\\n  \"Merchandisi...|[\\n  \"KS126DB6T06...|   [\\n  \"Merchandisi...|                  []|                  []|[\\n  \"KS126706DPF...|[\\n  \"Mathematics...|[\\n  \"KS440W865GC...|[\\n  \"SQL (Progra...|15-2051.01|Business Intellig...|15-2051.01|Business Intellig...|[\\n  \"45.0601\",\\n...|[\\n  \"Economics, ...|[\\n  \"45.06\",\\n  ...|[\\n  \"Economics\",...|[\\n  \"45\",\\n  \"27...|[\\n  \"Social Scie...|   15-0000|Computer and Math...|   15-2000|Mathematical Scie...|   15-2050|Data Scientists|   15-2051|Data Scientists|             23|Information Techn...|        231010|Business Intellig...|                  23101011|           General ERP Analy...|                2310|     Business Intellig...|                     23101011|              General ERP Analy...|           231010|  Business Intellig...|                   2310|        Business Intellig...|                23|   Information Techn...|15-0000|Computer and Math...|15-2000|Mathematical Scie...|15-2050|Data Scientists|15-2051|Data Scientists|        [\\n  7\\n]|  [\\n  \"Artificial ...|          44|        Retail Trade|         441|Motor Vehicle and...|        4413|Automotive Parts,...|       44133|Automotive Parts ...|      441330|Automotive Parts ...|\n",
      "|0cb072af26757b6c4...|2024-08-02 00:00:00|  2024-08-02 13:08:...|         0|2024-06-02 00:00:00|2024-08-01 00:00:00|    null| [\\n  \"Job Board\"\\n]| [\\n  \"maine.gov\"\\n]|[\\n  \"https://job...|         []|               null|Oracle Consultant...|Oracle Consultant...|2024-08-01 00:00:00|            null|  133098|Smx Corporation L...|        SMX|               true|      [\\n  99\\n]| [\\n  \"No Educatio...|           99|No Education Listed|         null|              null|              1|Full-time (> 32 h...|                   3|                   3|        false|  null|          1|          Remote|               null|     null|       null|{\\n  \"lat\": 44.31...|    QXVndXN0YSwgTUU=|  Augusta, ME| 23011|  Kennebec, ME|12300|Augusta-Watervill...|   23|     Maine|          23011|        Kennebec, ME|          23011|        Kennebec, ME|       12300|Augusta-Watervill...|       12300|Augusta-Watervill...|    56|Administrative an...|   561|Administrative an...|  5613| Employment Services| 56132|Temporary Help Se...|561320|Temporary Help Se...|ET21DDA63780A7DC09| Oracle Consultants|oracle consultant...|[\\n  \"KS122626T55...|[\\n  \"Procurement...|[\\n  \"KS122626T55...|   [\\n  \"Procurement...|                  []|                  []|                  []|                  []|[\\n  \"BGSBF3F508F...|[\\n  \"Oracle Busi...|15-2051.01|Business Intellig...|15-2051.01|Business Intellig...|                  []|                  []|                  []|                  []|                  []|                  []|   15-0000|Computer and Math...|   15-2000|Mathematical Scie...|   15-2050|Data Scientists|   15-2051|Data Scientists|             23|Information Techn...|        231010|Business Intellig...|                  23101012|           Oracle Consultant...|                2310|     Business Intellig...|                     23101012|              Oracle Consultant...|           231010|  Business Intellig...|                   2310|        Business Intellig...|                23|   Information Techn...|15-0000|Computer and Math...|15-2000|Mathematical Scie...|15-2050|Data Scientists|15-2051|Data Scientists|             null|                  null|          56|Administrative an...|         561|Administrative an...|        5613| Employment Services|       56132|Temporary Help Se...|      561320|Temporary Help Se...|\n",
      "|85318b12b3331fa49...|2024-09-06 00:00:00|  2024-09-06 16:32:...|         1|2024-06-02 00:00:00|2024-07-07 00:00:00|      35| [\\n  \"Job Board\"\\n]|[\\n  \"dejobs.org\"\\n]|[\\n  \"https://dej...|         []|               null|        Data Analyst|Taking care of pe...|2024-06-10 00:00:00|               8|39063746|            Sedgwick|   Sedgwick|              false|       [\\n  2\\n]| [\\n  \"Bachelor's ...|            2|  Bachelor's degree|         null|              null|              1|Full-time (> 32 h...|                   5|                null|        false|  null|          0|          [None]|               null|     null|       null|{\\n  \"lat\": 32.77...|    RGFsbGFzLCBUWA==|   Dallas, TX| 48113|    Dallas, TX|19100|Dallas-Fort Worth...|   48|     Texas|          48113|          Dallas, TX|          48113|          Dallas, TX|       19100|Dallas-Fort Worth...|       19100|Dallas-Fort Worth...|    52|Finance and Insur...|   524|Insurance Carrier...|  5242|Agencies, Brokera...| 52429|Other Insurance R...|524291|    Claims Adjusting|ET3037E0C947A02404|      Data Analysts|        data analyst|[\\n  \"KS1218W78FG...|[\\n  \"Management\"...|[\\n  \"ESF3939CE1F...|   [\\n  \"Exception R...|[\\n  \"KS683TN76T7...|[\\n  \"Security Cl...|[\\n  \"KS1218W78FG...|[\\n  \"Management\"...|[\\n  \"KS126HY6YLT...|[\\n  \"Microsoft O...|15-2051.01|Business Intellig...|15-2051.01|Business Intellig...|                  []|                  []|                  []|                  []|                  []|                  []|   15-0000|Computer and Math...|   15-2000|Mathematical Scie...|   15-2050|Data Scientists|   15-2051|Data Scientists|             23|Information Techn...|        231113|Data / Data Minin...|                  23111310|                   Data Analyst|                2311|     Data Analysis and...|                     23111310|                      Data Analyst|           231113|  Data / Data Minin...|                   2311|        Data Analysis and...|                23|   Information Techn...|15-0000|Computer and Math...|15-2000|Mathematical Scie...|15-2050|Data Scientists|15-2051|Data Scientists|             null|                  null|          52|Finance and Insur...|         524|Insurance Carrier...|        5242|Agencies, Brokera...|       52429|Other Insurance R...|      524291|    Claims Adjusting|\n",
      "|1b5c3941e54a1889e...|2024-09-06 00:00:00|  2024-09-06 16:32:...|         1|2024-06-02 00:00:00|2024-07-20 00:00:00|      48| [\\n  \"Job Board\"\\n]|[\\n  \"disabledper...|[\\n  \"https://www...|         []|               null|Sr. Lead Data Mgm...|About this role:\\...|2024-06-12 00:00:00|              10|37615159|         Wells Fargo|Wells Fargo|              false|      [\\n  99\\n]| [\\n  \"No Educatio...|           99|No Education Listed|         null|              null|              1|Full-time (> 32 h...|                   3|                null|        false|  null|          0|          [None]|               null|     null|       null|{\\n  \"lat\": 33.44...|    UGhvZW5peCwgQVo=|  Phoenix, AZ|  4013|  Maricopa, AZ|38060|Phoenix-Mesa-Chan...|    4|   Arizona|           4013|        Maricopa, AZ|           4013|        Maricopa, AZ|       38060|Phoenix-Mesa-Chan...|       38060|Phoenix-Mesa-Chan...|    52|Finance and Insur...|   522|Credit Intermedia...|  5221|Depository Credit...| 52211|  Commercial Banking|522110|  Commercial Banking|ET2114E0404BA30075|Management Analysts|sr lead data mgmt...|[\\n  \"KS123QX62QY...|[\\n  \"Exit Strate...|[\\n  \"KS123QX62QY...|   [\\n  \"Exit Strate...|                  []|                  []|[\\n  \"KS7G6NP6R6L...|[\\n  \"Reliability...|[\\n  \"KS4409D76NW...|[\\n  \"SAS (Softwa...|15-2051.01|Business Intellig...|15-2051.01|Business Intellig...|                  []|                  []|                  []|                  []|                  []|                  []|   15-0000|Computer and Math...|   15-2000|Mathematical Scie...|   15-2050|Data Scientists|   15-2051|Data Scientists|             23|Information Techn...|        231113|Data / Data Minin...|                  23111310|                   Data Analyst|                2311|     Data Analysis and...|                     23111310|                      Data Analyst|           231113|  Data / Data Minin...|                   2311|        Data Analysis and...|                23|   Information Techn...|15-0000|Computer and Math...|15-2000|Mathematical Scie...|15-2050|Data Scientists|15-2051|Data Scientists|        [\\n  6\\n]|  [\\n  \"Data Privac...|          52|Finance and Insur...|         522|Credit Intermedia...|        5221|Depository Credit...|       52211|  Commercial Banking|      522110|  Commercial Banking|\n",
      "|cb5ca25f02bdf25c1...|2024-06-19 00:00:00|   2024-06-19 03:00:00|         0|2024-06-02 00:00:00|2024-06-17 00:00:00|      15|[\\n  \"FreeJobBoar...|[\\n  \"craigslist....|[\\n  \"https://mod...|         []|               null|Comisiones de $10...|Comisiones de $10...|2024-06-17 00:00:00|              15|       0|        Unclassified|      LH/GM|              false|      [\\n  99\\n]| [\\n  \"No Educatio...|           99|No Education Listed|         null|              null|              3|Part-time / full-...|                null|                null|        false| 92500|          0|          [None]|               year|   150000|      35000|{\\n  \"lat\": 37.63...|    TW9kZXN0bywgQ0E=|  Modesto, CA|  6099|Stanislaus, CA|33700|         Modesto, CA|    6|California|           6099|      Stanislaus, CA|           6099|      Stanislaus, CA|       33700|         Modesto, CA|       33700|         Modesto, CA|    99|Unclassified Indu...|   999|Unclassified Indu...|  9999|Unclassified Indu...| 99999|Unclassified Indu...|999999|Unclassified Indu...|ET0000000000000000|       Unclassified|comisiones de por...|                  []|                  []|                  []|                     []|                  []|                  []|                  []|                  []|                  []|                  []|15-2051.01|Business Intellig...|15-2051.01|Business Intellig...|                  []|                  []|                  []|                  []|                  []|                  []|   15-0000|Computer and Math...|   15-2000|Mathematical Scie...|   15-2050|Data Scientists|   15-2051|Data Scientists|             23|Information Techn...|        231010|Business Intellig...|                  23101012|           Oracle Consultant...|                2310|     Business Intellig...|                     23101012|              Oracle Consultant...|           231010|  Business Intellig...|                   2310|        Business Intellig...|                23|   Information Techn...|15-0000|Computer and Math...|15-2000|Mathematical Scie...|15-2050|Data Scientists|15-2051|Data Scientists|             null|                  null|          99|Unclassified Indu...|         999|Unclassified Indu...|        9999|Unclassified Indu...|       99999|Unclassified Indu...|      999999|Unclassified Indu...|\n",
      "+--------------------+-------------------+----------------------+----------+-------------------+-------------------+--------+--------------------+--------------------+--------------------+-----------+-------------------+--------------------+--------------------+-------------------+----------------+--------+--------------------+-----------+-------------------+----------------+---------------------+-------------+-------------------+-------------+------------------+---------------+--------------------+--------------------+--------------------+-------------+------+-----------+----------------+-------------------+---------+-----------+--------------------+--------------------+-------------+------+--------------+-----+--------------------+-----+----------+---------------+--------------------+---------------+--------------------+------------+--------------------+------------+--------------------+------+--------------------+------+--------------------+------+--------------------+------+--------------------+------+--------------------+------------------+-------------------+--------------------+--------------------+--------------------+--------------------+-----------------------+--------------------+--------------------+--------------------+--------------------+--------------------+--------------------+----------+--------------------+----------+--------------------+--------------------+--------------------+--------------------+--------------------+--------------------+--------------------+----------+--------------------+----------+--------------------+----------+---------------+----------+---------------+---------------+--------------------+--------------+--------------------+--------------------------+-------------------------------+--------------------+-------------------------+-----------------------------+----------------------------------+-----------------+----------------------+-----------------------+----------------------------+------------------+-----------------------+-------+--------------------+-------+--------------------+-------+---------------+-------+---------------+-----------------+----------------------+------------+--------------------+------------+--------------------+------------+--------------------+------------+--------------------+------------+--------------------+\n",
      "only showing top 5 rows\n",
      "\n"
     ]
    }
   ],
   "source": [
    "import pandas as pd\n",
    "import plotly.express as px\n",
    "import plotly.io as pio\n",
    "pio.renderers.default = \"vscode\"\n",
    "from pyspark.sql import SparkSession\n",
    "from pyspark.sql.functions import split, explode, col, regexp_replace, transform, isnan\n",
    "\n",
    "\n",
    "# Initialize Spark Session\n",
    "spark = SparkSession.builder.appName(\"LightcastData\").getOrCreate()\n",
    "\n",
    "# Load Data\n",
    "df = spark.read.option(\"header\", \"true\").option(\"inferSchema\", \"true\").option(\"multiLine\",\"true\").option(\"escape\", \"\\\"\").csv(\"./data/lightcast_job_postings.csv\")\n",
    "\n",
    "# Show Schema and Sample Data\n",
    "df.printSchema()\n",
    "df.show(5)\n"
   ]
  },
  {
   "cell_type": "markdown",
   "id": "94e6cffe",
   "metadata": {},
   "source": [
    "# Data Cleaning and Typecasting"
   ]
  },
  {
   "cell_type": "code",
   "execution_count": 2,
   "id": "e12fe6a8",
   "metadata": {},
   "outputs": [
    {
     "name": "stdout",
     "output_type": "stream",
     "text": [
      "+----------+----------+--------+\n",
      "|POSTED    |EXPIRED   |DURATION|\n",
      "+----------+----------+--------+\n",
      "|2024-06-02|2024-06-08|6       |\n",
      "|2024-06-02|2024-08-01|60      |\n",
      "|2024-06-02|2024-07-07|35      |\n",
      "|2024-06-02|2024-07-20|48      |\n",
      "|2024-06-02|2024-06-17|15      |\n",
      "|2024-06-02|2024-06-12|10      |\n",
      "|2024-06-02|2024-08-01|60      |\n",
      "|2024-06-02|2024-07-07|35      |\n",
      "|2024-06-02|2024-06-20|18      |\n",
      "|2024-06-02|2024-08-01|60      |\n",
      "|2024-06-02|2024-09-27|117     |\n",
      "|2024-06-02|2024-06-08|6       |\n",
      "|2024-06-02|2024-07-05|33      |\n",
      "|2024-06-02|2024-07-27|55      |\n",
      "|2024-06-02|2024-08-01|60      |\n",
      "|2024-06-02|2024-08-09|68      |\n",
      "|2024-06-02|2024-06-20|18      |\n",
      "|2024-06-02|2024-08-01|60      |\n",
      "|2024-06-02|2024-08-01|60      |\n",
      "|2024-06-02|2024-08-11|70      |\n",
      "+----------+----------+--------+\n",
      "only showing top 20 rows\n",
      "\n"
     ]
    }
   ],
   "source": [
    "# 1.DURATION = EXPIRED - POSTED\n",
    "\n",
    "spark.conf.set(\"spark.sql.legacy.timeParserPolicy\", \"LEGACY\")\n",
    "\n",
    "from pyspark.sql.functions import datediff, when, to_date, col\n",
    "\n",
    "# 将日期列转换为日期格式\n",
    "df = df.withColumn(\"POSTED\", to_date(\"POSTED\", \"MM/dd/yyyy\")) \\\n",
    "       .withColumn(\"EXPIRED\", to_date(\"EXPIRED\", \"MM/dd/yyyy\"))\n",
    "\n",
    "# 直接用日期差填充 DURATION\n",
    "df = df.withColumn(\n",
    "    \"DURATION\",\n",
    "    when(col(\"DURATION\").isNull(), datediff(\"EXPIRED\", \"POSTED\"))\n",
    "    .otherwise(col(\"DURATION\"))\n",
    ")\n",
    "\n",
    "df.select(\"POSTED\", \"EXPIRED\", \"DURATION\").show(truncate=False)"
   ]
  },
  {
   "cell_type": "code",
   "execution_count": 4,
   "id": "cb67df85",
   "metadata": {},
   "outputs": [
    {
     "name": "stdout",
     "output_type": "stream",
     "text": [
      "+--------------------+-------------------+----------------------+----------+----------+----------+--------+------------+------------------+--------------------+-----------+-------------------+--------------------+--------------------+-------------------+----------------+---------+--------------------+--------------------+-------------------+----------------+---------------------+-------------+-------------------+-------------+------------------+---------------+--------------------+--------------------+--------------------+-------------+------+-----------+----------------+-------------------+---------+-----------+--------------------+--------------------+------------------+------+--------------------+-----+--------------------+-----+----------+---------------+--------------------+---------------+--------------------+------------+--------------------+------------+--------------------+------+--------------------+------+--------------------+------+--------------------+------+--------------------+------+--------------------+------------------+-------------------+--------------------+--------------------+--------------------+--------------------+-----------------------+--------------------+-------------------+--------------------+------------------+--------------------+--------------------+----------+--------------------+----------+--------------------+-------+--------------------+-----+--------------------+----+--------------------+----------+--------------------+----------+--------------------+----------+---------------+----------+---------------+---------------+--------------------+--------------+--------------------+--------------------------+-------------------------------+--------------------+-------------------------+-----------------------------+----------------------------------+-----------------+----------------------+-----------------------+----------------------------+------------------+-----------------------+-------+--------------------+-------+--------------------+-------+---------------+-------+---------------+-----------------+----------------------+------------+--------------------+------------+--------------------+------------+--------------------+------------+--------------------+------------+--------------------+\n",
      "|                  ID|  LAST_UPDATED_DATE|LAST_UPDATED_TIMESTAMP|DUPLICATES|    POSTED|   EXPIRED|DURATION|SOURCE_TYPES|           SOURCES|                 URL|ACTIVE_URLS|ACTIVE_SOURCES_INFO|           TITLE_RAW|                BODY|    MODELED_EXPIRED|MODELED_DURATION|  COMPANY|        COMPANY_NAME|         COMPANY_RAW|COMPANY_IS_STAFFING|EDUCATION_LEVELS|EDUCATION_LEVELS_NAME|MIN_EDULEVELS| MIN_EDULEVELS_NAME|MAX_EDULEVELS|MAX_EDULEVELS_NAME|EMPLOYMENT_TYPE|EMPLOYMENT_TYPE_NAME|MIN_YEARS_EXPERIENCE|MAX_YEARS_EXPERIENCE|IS_INTERNSHIP|SALARY|REMOTE_TYPE|REMOTE_TYPE_NAME|ORIGINAL_PAY_PERIOD|SALARY_TO|SALARY_FROM|            LOCATION|                CITY|         CITY_NAME|COUNTY|         COUNTY_NAME|  MSA|            MSA_NAME|STATE|STATE_NAME|COUNTY_OUTGOING|COUNTY_NAME_OUTGOING|COUNTY_INCOMING|COUNTY_NAME_INCOMING|MSA_OUTGOING|   MSA_NAME_OUTGOING|MSA_INCOMING|   MSA_NAME_INCOMING|NAICS2|         NAICS2_NAME|NAICS3|         NAICS3_NAME|NAICS4|         NAICS4_NAME|NAICS5|         NAICS5_NAME|NAICS6|         NAICS6_NAME|             TITLE|         TITLE_NAME|         TITLE_CLEAN|              SKILLS|         SKILLS_NAME|  SPECIALIZED_SKILLS|SPECIALIZED_SKILLS_NAME|      CERTIFICATIONS|CERTIFICATIONS_NAME|       COMMON_SKILLS|COMMON_SKILLS_NAME|     SOFTWARE_SKILLS|SOFTWARE_SKILLS_NAME|      ONET|           ONET_NAME| ONET_2019|      ONET_2019_NAME|   CIP6|           CIP6_NAME| CIP4|           CIP4_NAME|CIP2|           CIP2_NAME|SOC_2021_2|     SOC_2021_2_NAME|SOC_2021_3|     SOC_2021_3_NAME|SOC_2021_4|SOC_2021_4_NAME|SOC_2021_5|SOC_2021_5_NAME|LOT_CAREER_AREA|LOT_CAREER_AREA_NAME|LOT_OCCUPATION| LOT_OCCUPATION_NAME|LOT_SPECIALIZED_OCCUPATION|LOT_SPECIALIZED_OCCUPATION_NAME|LOT_OCCUPATION_GROUP|LOT_OCCUPATION_GROUP_NAME|LOT_V6_SPECIALIZED_OCCUPATION|LOT_V6_SPECIALIZED_OCCUPATION_NAME|LOT_V6_OCCUPATION|LOT_V6_OCCUPATION_NAME|LOT_V6_OCCUPATION_GROUP|LOT_V6_OCCUPATION_GROUP_NAME|LOT_V6_CAREER_AREA|LOT_V6_CAREER_AREA_NAME|  SOC_2|          SOC_2_NAME|  SOC_3|          SOC_3_NAME|  SOC_4|     SOC_4_NAME|  SOC_5|     SOC_5_NAME|LIGHTCAST_SECTORS|LIGHTCAST_SECTORS_NAME|NAICS_2022_2|   NAICS_2022_2_NAME|NAICS_2022_3|   NAICS_2022_3_NAME|NAICS_2022_4|   NAICS_2022_4_NAME|NAICS_2022_5|   NAICS_2022_5_NAME|NAICS_2022_6|   NAICS_2022_6_NAME|\n",
      "+--------------------+-------------------+----------------------+----------+----------+----------+--------+------------+------------------+--------------------+-----------+-------------------+--------------------+--------------------+-------------------+----------------+---------+--------------------+--------------------+-------------------+----------------+---------------------+-------------+-------------------+-------------+------------------+---------------+--------------------+--------------------+--------------------+-------------+------+-----------+----------------+-------------------+---------+-----------+--------------------+--------------------+------------------+------+--------------------+-----+--------------------+-----+----------+---------------+--------------------+---------------+--------------------+------------+--------------------+------------+--------------------+------+--------------------+------+--------------------+------+--------------------+------+--------------------+------+--------------------+------------------+-------------------+--------------------+--------------------+--------------------+--------------------+-----------------------+--------------------+-------------------+--------------------+------------------+--------------------+--------------------+----------+--------------------+----------+--------------------+-------+--------------------+-----+--------------------+----+--------------------+----------+--------------------+----------+--------------------+----------+---------------+----------+---------------+---------------+--------------------+--------------+--------------------+--------------------------+-------------------------------+--------------------+-------------------------+-----------------------------+----------------------------------+-----------------+----------------------+-----------------------+----------------------------+------------------+-----------------------+-------+--------------------+-------+--------------------+-------+---------------+-------+---------------+-----------------+----------------------+------------+--------------------+------------+--------------------+------------+--------------------+------------+--------------------+------------+--------------------+\n",
      "|1f57d95acf4dc67ed...|2024-09-06 00:00:00|  2024-09-06 16:32:...|         0|2024-06-02|2024-06-08|       6|     Company|     brassring.com|https://sjobs.bra...|         []|               null|Enterprise Analys...|31-May-2024\\n\\nEn...|2024-06-08 00:00:00|               6|   894731|          Murphy USA|          Murphy USA|              false|       [\\n  2\\n]|    Bachelor's degree|            2|  Bachelor's degree|         null|              null|              1|Full-time (> 32 h...|                   2|                   2|        false|  null|          0|          [None]|               null|     null|       null|{\\n  \"lat\": 33.20...|RWwgRG9yYWRvLCBBUg==|     El Dorado, AR|  5139|           Union, AR|20980|       El Dorado, AR|    5|  Arkansas|           5139|           Union, AR|           5139|           Union, AR|       20980|       El Dorado, AR|       20980|       El Dorado, AR|    44|        Retail Trade|   441|Motor Vehicle and...|  4413|Automotive Parts,...| 44133|Automotive Parts ...|441330|Automotive Parts ...|ET29C073C03D1F86B4|Enterprise Analysts|enterprise analys...|KS126DB6T061MHD7RTGQ|       Merchandising|KS126DB6T061MHD7RTGQ|          Merchandising|                    |                   |KS126706DPFD3354M7YK|       Mathematics|KS440W865GC4VRBW6LJP|SQL (Programming ...|15-2051.01|Business Intellig...|15-2051.01|Business Intellig...|45.0601|  Economics, General|45.06|           Economics|  45|     Social Sciences|   15-0000|Computer and Math...|   15-2000|Mathematical Scie...|   15-2050|Data Scientists|   15-2051|Data Scientists|             23|Information Techn...|        231010|Business Intellig...|                  23101011|           General ERP Analy...|                2310|     Business Intellig...|                     23101011|              General ERP Analy...|           231010|  Business Intellig...|                   2310|        Business Intellig...|                23|   Information Techn...|15-0000|Computer and Math...|15-2000|Mathematical Scie...|15-2050|Data Scientists|15-2051|Data Scientists|                 |  Artificial Intell...|          44|        Retail Trade|         441|Motor Vehicle and...|        4413|Automotive Parts,...|       44133|Automotive Parts ...|      441330|Automotive Parts ...|\n",
      "|0cb072af26757b6c4...|2024-08-02 00:00:00|  2024-08-02 13:08:...|         0|2024-06-02|2024-08-01|      60|   Job Board|         maine.gov|https://joblink.m...|         []|               null|Oracle Consultant...|Oracle Consultant...|2024-08-01 00:00:00|            null|   133098|Smx Corporation L...|                 SMX|               true|      [\\n  99\\n]|  No Education Listed|           99|No Education Listed|         null|              null|              1|Full-time (> 32 h...|                   3|                   3|        false|  null|          1|          Remote|               null|     null|       null|{\\n  \"lat\": 44.31...|    QXVndXN0YSwgTUU=|       Augusta, ME| 23011|        Kennebec, ME|12300|Augusta-Watervill...|   23|     Maine|          23011|        Kennebec, ME|          23011|        Kennebec, ME|       12300|Augusta-Watervill...|       12300|Augusta-Watervill...|    56|Administrative an...|   561|Administrative an...|  5613| Employment Services| 56132|Temporary Help Se...|561320|Temporary Help Se...|ET21DDA63780A7DC09| Oracle Consultants|oracle consultant...|KS122626T550SLQ7QZ1C|         Procurement|KS122626T550SLQ7QZ1C|            Procurement|                    |                   |                    |                  |BGSBF3F508F7F46312E3|Oracle Business I...|15-2051.01|Business Intellig...|15-2051.01|Business Intellig...|       |                    |     |                    |    |                    |   15-0000|Computer and Math...|   15-2000|Mathematical Scie...|   15-2050|Data Scientists|   15-2051|Data Scientists|             23|Information Techn...|        231010|Business Intellig...|                  23101012|           Oracle Consultant...|                2310|     Business Intellig...|                     23101012|              Oracle Consultant...|           231010|  Business Intellig...|                   2310|        Business Intellig...|                23|   Information Techn...|15-0000|Computer and Math...|15-2000|Mathematical Scie...|15-2050|Data Scientists|15-2051|Data Scientists|             null|                  null|          56|Administrative an...|         561|Administrative an...|        5613| Employment Services|       56132|Temporary Help Se...|      561320|Temporary Help Se...|\n",
      "|85318b12b3331fa49...|2024-09-06 00:00:00|  2024-09-06 16:32:...|         1|2024-06-02|2024-07-07|      35|   Job Board|        dejobs.org|https://dejobs.or...|         []|               null|        Data Analyst|Taking care of pe...|2024-06-10 00:00:00|               8| 39063746|            Sedgwick|            Sedgwick|              false|       [\\n  2\\n]|    Bachelor's degree|            2|  Bachelor's degree|         null|              null|              1|Full-time (> 32 h...|                   5|                null|        false|  null|          0|          [None]|               null|     null|       null|{\\n  \"lat\": 32.77...|    RGFsbGFzLCBUWA==|        Dallas, TX| 48113|          Dallas, TX|19100|Dallas-Fort Worth...|   48|     Texas|          48113|          Dallas, TX|          48113|          Dallas, TX|       19100|Dallas-Fort Worth...|       19100|Dallas-Fort Worth...|    52|Finance and Insur...|   524|Insurance Carrier...|  5242|Agencies, Brokera...| 52429|Other Insurance R...|524291|    Claims Adjusting|ET3037E0C947A02404|      Data Analysts|        data analyst|KS1218W78FGVPVP2KXPX|          Management|ESF3939CE1F80C10C327|    Exception Reporting|KS683TN76T77DQDVBZ1B| Security Clearance|KS1218W78FGVPVP2KXPX|        Management|KS126HY6YLTB9R7XJC4Z|    Microsoft Office|15-2051.01|Business Intellig...|15-2051.01|Business Intellig...|       |                    |     |                    |    |                    |   15-0000|Computer and Math...|   15-2000|Mathematical Scie...|   15-2050|Data Scientists|   15-2051|Data Scientists|             23|Information Techn...|        231113|Data / Data Minin...|                  23111310|                   Data Analyst|                2311|     Data Analysis and...|                     23111310|                      Data Analyst|           231113|  Data / Data Minin...|                   2311|        Data Analysis and...|                23|   Information Techn...|15-0000|Computer and Math...|15-2000|Mathematical Scie...|15-2050|Data Scientists|15-2051|Data Scientists|             null|                  null|          52|Finance and Insur...|         524|Insurance Carrier...|        5242|Agencies, Brokera...|       52429|Other Insurance R...|      524291|    Claims Adjusting|\n",
      "|1b5c3941e54a1889e...|2024-09-06 00:00:00|  2024-09-06 16:32:...|         1|2024-06-02|2024-07-20|      48|   Job Board|disabledperson.com|https://www.disab...|         []|               null|Sr. Lead Data Mgm...|About this role:\\...|2024-06-12 00:00:00|              10| 37615159|         Wells Fargo|         Wells Fargo|              false|      [\\n  99\\n]|  No Education Listed|           99|No Education Listed|         null|              null|              1|Full-time (> 32 h...|                   3|                null|        false|  null|          0|          [None]|               null|     null|       null|{\\n  \"lat\": 33.44...|    UGhvZW5peCwgQVo=|       Phoenix, AZ|  4013|        Maricopa, AZ|38060|Phoenix-Mesa-Chan...|    4|   Arizona|           4013|        Maricopa, AZ|           4013|        Maricopa, AZ|       38060|Phoenix-Mesa-Chan...|       38060|Phoenix-Mesa-Chan...|    52|Finance and Insur...|   522|Credit Intermedia...|  5221|Depository Credit...| 52211|  Commercial Banking|522110|  Commercial Banking|ET2114E0404BA30075|Management Analysts|sr lead data mgmt...|KS123QX62QYTC4JF38H8|     Exit Strategies|KS123QX62QYTC4JF38H8|        Exit Strategies|                    |                   |KS7G6NP6R6L1H1SKFTSY|       Reliability|KS4409D76NW1S5LNCL18|      SAS (Software)|15-2051.01|Business Intellig...|15-2051.01|Business Intellig...|       |                    |     |                    |    |                    |   15-0000|Computer and Math...|   15-2000|Mathematical Scie...|   15-2050|Data Scientists|   15-2051|Data Scientists|             23|Information Techn...|        231113|Data / Data Minin...|                  23111310|                   Data Analyst|                2311|     Data Analysis and...|                     23111310|                      Data Analyst|           231113|  Data / Data Minin...|                   2311|        Data Analysis and...|                23|   Information Techn...|15-0000|Computer and Math...|15-2000|Mathematical Scie...|15-2050|Data Scientists|15-2051|Data Scientists|                 |  Data Privacy/Prot...|          52|Finance and Insur...|         522|Credit Intermedia...|        5221|Depository Credit...|       52211|  Commercial Banking|      522110|  Commercial Banking|\n",
      "|cb5ca25f02bdf25c1...|2024-06-19 00:00:00|   2024-06-19 03:00:00|         0|2024-06-02|2024-06-17|      15|FreeJobBoard|    craigslist.org|https://modesto.c...|         []|               null|Comisiones de $10...|Comisiones de $10...|2024-06-17 00:00:00|              15|        0|        Unclassified|               LH/GM|              false|      [\\n  99\\n]|  No Education Listed|           99|No Education Listed|         null|              null|              3|Part-time / full-...|                null|                null|        false| 92500|          0|          [None]|               year|   150000|      35000|{\\n  \"lat\": 37.63...|    TW9kZXN0bywgQ0E=|       Modesto, CA|  6099|      Stanislaus, CA|33700|         Modesto, CA|    6|California|           6099|      Stanislaus, CA|           6099|      Stanislaus, CA|       33700|         Modesto, CA|       33700|         Modesto, CA|    99|Unclassified Indu...|   999|Unclassified Indu...|  9999|Unclassified Indu...| 99999|Unclassified Indu...|999999|Unclassified Indu...|ET0000000000000000|       Unclassified|comisiones de por...|                    |                    |                    |                       |                    |                   |                    |                  |                    |                    |15-2051.01|Business Intellig...|15-2051.01|Business Intellig...|       |                    |     |                    |    |                    |   15-0000|Computer and Math...|   15-2000|Mathematical Scie...|   15-2050|Data Scientists|   15-2051|Data Scientists|             23|Information Techn...|        231010|Business Intellig...|                  23101012|           Oracle Consultant...|                2310|     Business Intellig...|                     23101012|              Oracle Consultant...|           231010|  Business Intellig...|                   2310|        Business Intellig...|                23|   Information Techn...|15-0000|Computer and Math...|15-2000|Mathematical Scie...|15-2050|Data Scientists|15-2051|Data Scientists|             null|                  null|          99|Unclassified Indu...|         999|Unclassified Indu...|        9999|Unclassified Indu...|       99999|Unclassified Indu...|      999999|Unclassified Indu...|\n",
      "|35a6cd2183d9fb270...|2024-09-06 00:00:00|  2024-09-06 16:32:...|         0|2024-06-02|2024-06-12|      10|   Job Board|        dejobs.org|https://dejobs.or...|         []|               null|SR Lead Data Analyst|About Lumen\\n\\nLu...|2024-06-12 00:00:00|              10|  2233642|  Lumen Technologies|               Lumen|              false|       [\\n  2\\n]|    Bachelor's degree|            2|  Bachelor's degree|         null|              null|              1|Full-time (> 32 h...|                null|                null|        false|110155|          1|          Remote|               year|   125890|      94420|{\\n  \"lat\": 0,\\n ...|W1Vua25vd24gQ2l0e...|[Unknown City], AR|  5999|[Unknown county], AR| null|                null|    5|  Arkansas|           5999|[Unknown county], AR|           5999|[Unknown county], AR|        null|                null|        null|                null|    51|         Information|   517|  Telecommunications|  5178|All Other Telecom...| 51781|All Other Telecom...|517810|All Other Telecom...|ET95DB859B53CCACA7| Lead Data Analysts|sr lead data analyst|KS13USA80NE38XJHA2TL|            Power BI|KS13USA80NE38XJHA2TL|               Power BI|                    |                   |KS1280B68GD79P4WMVYW|     Presentations|KS13USA80NE38XJHA2TL|            Power BI|15-2051.01|Business Intellig...|15-2051.01|Business Intellig...|52.0201|Business Administ...|52.02|Business Administ...|  52|Business, Managem...|   15-0000|Computer and Math...|   15-2000|Mathematical Scie...|   15-2050|Data Scientists|   15-2051|Data Scientists|             23|Information Techn...|        231113|Data / Data Minin...|                  23111310|                   Data Analyst|                2311|     Data Analysis and...|                     23111310|                      Data Analyst|           231113|  Data / Data Minin...|                   2311|        Data Analysis and...|                23|   Information Techn...|15-0000|Computer and Math...|15-2000|Mathematical Scie...|15-2050|Data Scientists|15-2051|Data Scientists|             null|                  null|          51|         Information|         517|  Telecommunications|        5178|All Other Telecom...|       51781|All Other Telecom...|      517810|All Other Telecom...|\n",
      "|06de8d192f30b1d8d...|2024-08-02 00:00:00|  2024-08-02 13:08:...|         0|2024-06-02|2024-08-01|      60|     Company|   oraclecloud.com|https://hctz.fa.u...|         []|               null| Talent Data Analyst|Id : 2501314,\\nTi...|2024-06-22 00:00:00|              20| 44896740|Semiconductor Com...|Semiconductor Com...|              false|       [\\n  2\\n]|    Bachelor's degree|            2|  Bachelor's degree|         null|              null|              1|Full-time (> 32 h...|                null|                null|        false|  null|          0|          [None]|               null|     null|       null|{\\n  \"lat\": 33.49...|U2NvdHRzZGFsZSwgQVo=|    Scottsdale, AZ|  4013|        Maricopa, AZ|38060|Phoenix-Mesa-Chan...|    4|   Arizona|           4013|        Maricopa, AZ|           4013|        Maricopa, AZ|       38060|Phoenix-Mesa-Chan...|       38060|Phoenix-Mesa-Chan...|    31|       Manufacturing|   334|Computer and Elec...|  3344|Semiconductor and...| 33441|Semiconductor and...|334413|Semiconductor and...|ETA9B609BE4E431E44|   IT Data Analysts| talent data analyst|KS1250B78VWB0P2L3N40|Interactive Data ...|KS1250B78VWB0P2L3N40|   Interactive Data ...|                    |                   |ESFA9982A2A945E439CB| Analytical Skills|KS1250B78VWB0P2L3N40|Interactive Data ...|15-2051.01|Business Intellig...|15-2051.01|Business Intellig...|       |                    |     |                    |    |                    |   15-0000|Computer and Math...|   15-2000|Mathematical Scie...|   15-2050|Data Scientists|   15-2051|Data Scientists|             23|Information Techn...|        231113|Data / Data Minin...|                  23111310|                   Data Analyst|                2311|     Data Analysis and...|                     23111310|                      Data Analyst|           231113|  Data / Data Minin...|                   2311|        Data Analysis and...|                23|   Information Techn...|15-0000|Computer and Math...|15-2000|Mathematical Scie...|15-2050|Data Scientists|15-2051|Data Scientists|             null|                  null|          31|       Manufacturing|         334|Computer and Elec...|        3344|Semiconductor and...|       33441|Semiconductor and...|      334413|Semiconductor and...|\n",
      "|3d589c9d84677ca94...|2024-09-06 00:00:00|  2024-09-06 16:32:...|         1|2024-06-02|2024-07-07|      35|   Job Board|        dejobs.org|https://dejobs.or...|         []|               null|        Data Analyst|Taking care of pe...|2024-06-10 00:00:00|               8| 39063746|            Sedgwick|            Sedgwick|              false|       [\\n  2\\n]|    Bachelor's degree|            2|  Bachelor's degree|         null|              null|              1|Full-time (> 32 h...|                   5|                null|        false|  null|          0|          [None]|               null|     null|       null|{\\n  \"lat\": 39.75...|    RGF5dG9uLCBPSA==|        Dayton, OH| 39113|      Montgomery, OH|19430|Dayton-Kettering, OH|   39|      Ohio|          39113|      Montgomery, OH|          39113|      Montgomery, OH|       19430|Dayton-Kettering, OH|       19430|Dayton-Kettering-...|    52|Finance and Insur...|   524|Insurance Carrier...|  5242|Agencies, Brokera...| 52429|Other Insurance R...|524291|    Claims Adjusting|ET3037E0C947A02404|      Data Analysts|        data analyst|KS1218W78FGVPVP2KXPX|          Management|ESF3939CE1F80C10C327|    Exception Reporting|KS683TN76T77DQDVBZ1B| Security Clearance|KS1218W78FGVPVP2KXPX|        Management|KS126HY6YLTB9R7XJC4Z|    Microsoft Office|15-2051.01|Business Intellig...|15-2051.01|Business Intellig...|       |                    |     |                    |    |                    |   15-0000|Computer and Math...|   15-2000|Mathematical Scie...|   15-2050|Data Scientists|   15-2051|Data Scientists|             23|Information Techn...|        231113|Data / Data Minin...|                  23111310|                   Data Analyst|                2311|     Data Analysis and...|                     23111310|                      Data Analyst|           231113|  Data / Data Minin...|                   2311|        Data Analysis and...|                23|   Information Techn...|15-0000|Computer and Math...|15-2000|Mathematical Scie...|15-2050|Data Scientists|15-2051|Data Scientists|             null|                  null|          52|Finance and Insur...|         524|Insurance Carrier...|        5242|Agencies, Brokera...|       52429|Other Insurance R...|      524291|    Claims Adjusting|\n",
      "|5a843df632e1ff756...|2024-06-21 00:00:00|   2024-06-21 03:00:00|         0|2024-06-02|2024-06-20|      18|   Job Board|  computerwork.com|http://computerwo...|         []|               null|SAP SD/OTC Consul...|SAP SD/OTC Consul...|2024-06-20 00:00:00|              18|100173263|Global Enterprise...|Global Enterprise...|               true|      [\\n  99\\n]|  No Education Listed|           99|No Education Listed|         null|              null|              1|Full-time (> 32 h...|                   7|                   7|        false|  null|          0|          [None]|               null|     null|       null|{\\n  \"lat\": 41.12...|    RnJhbmtsaW4sIE5K|      Franklin, NJ| 34037|          Sussex, NJ|35620|New York-Newark-J...|   34|New Jersey|          34037|          Sussex, NJ|          34037|          Sussex, NJ|       35620|New York-Newark-J...|       35620|New York-Newark-J...|    99|Unclassified Indu...|   999|Unclassified Indu...|  9999|Unclassified Indu...| 99999|Unclassified Indu...|999999|Unclassified Indu...|ET6244BCEEC5921581|SAP OTC Consultants|sap sd otc consul...|KS1200771D9CR9LB4MWW|JavaScript (Progr...|KS1200771D9CR9LB4MWW|   JavaScript (Progr...|                    |                   |                    |                  |KS1200771D9CR9LB4MWW|JavaScript (Progr...|15-2051.01|Business Intellig...|15-2051.01|Business Intellig...|       |                    |     |                    |    |                    |   15-0000|Computer and Math...|   15-2000|Mathematical Scie...|   15-2050|Data Scientists|   15-2051|Data Scientists|             23|Information Techn...|        231010|Business Intellig...|                  23101011|           General ERP Analy...|                2310|     Business Intellig...|                     23101011|              General ERP Analy...|           231010|  Business Intellig...|                   2310|        Business Intellig...|                23|   Information Techn...|15-0000|Computer and Math...|15-2000|Mathematical Scie...|15-2050|Data Scientists|15-2051|Data Scientists|             null|                  null|          99|Unclassified Indu...|         999|Unclassified Indu...|        9999|Unclassified Indu...|       99999|Unclassified Indu...|      999999|Unclassified Indu...|\n",
      "|229620073766234e8...|2024-10-09 00:00:00|  2024-10-09 14:07:...|         0|2024-06-02|2024-08-01|      60|     Company|           3ds.com|https://www.3ds.c...|         []|               null|Sr. Marketing Ana...|Sr. Marketing Ana...|2024-08-01 00:00:00|            null| 39016169|   Dassault Systèmes|    Dassault Systmes|              false| [\\n  2,\\n  3\\n]|    Bachelor's degree|            2|  Bachelor's degree|            3|   Master's degree|              1|Full-time (> 32 h...|                   2|                   2|        false| 92962|          0|          [None]|               year|   106424|      79500|{\\n  \"lat\": 40.75...|    TmV3IFlvcmssIE5Z|      New York, NY| 36061|        New York, NY|35620|New York-Newark-J...|   36|  New York|          36061|        New York, NY|          36061|        New York, NY|       35620|New York-Newark-J...|       35620|New York-Newark-J...|    54|Professional, Sci...|   541|Professional, Sci...|  5415|Computer Systems ...| 54151|Computer Systems ...|541511|Custom Computer P...|ET1CE3CFA5447376E9| Marketing Analysts|sr marketing analyst|KS4407N6CMTCYT0NYSVM|          Salesforce|KS4407N6CMTCYT0NYSVM|             Salesforce|                    |                   |KS7G747655VG23WXMS9B|    Prioritization|KS4407N6CMTCYT0NYSVM|          Salesforce|15-2051.01|Business Intellig...|15-2051.01|Business Intellig...|52.0101|Business/Commerce...|52.01|Business/Commerce...|  52|Business, Managem...|   15-0000|Computer and Math...|   15-2000|Mathematical Scie...|   15-2050|Data Scientists|   15-2051|Data Scientists|             23|Information Techn...|        231113|Data / Data Minin...|                  23111310|                   Data Analyst|                2311|     Data Analysis and...|                     23111310|                      Data Analyst|           231113|  Data / Data Minin...|                   2311|        Data Analysis and...|                23|   Information Techn...|15-0000|Computer and Math...|15-2000|Mathematical Scie...|15-2050|Data Scientists|15-2051|Data Scientists|                 |  Artificial Intell...|          54|Professional, Sci...|         541|Professional, Sci...|        5415|Computer Systems ...|       54151|Computer Systems ...|      541511|Custom Computer P...|\n",
      "+--------------------+-------------------+----------------------+----------+----------+----------+--------+------------+------------------+--------------------+-----------+-------------------+--------------------+--------------------+-------------------+----------------+---------+--------------------+--------------------+-------------------+----------------+---------------------+-------------+-------------------+-------------+------------------+---------------+--------------------+--------------------+--------------------+-------------+------+-----------+----------------+-------------------+---------+-----------+--------------------+--------------------+------------------+------+--------------------+-----+--------------------+-----+----------+---------------+--------------------+---------------+--------------------+------------+--------------------+------------+--------------------+------+--------------------+------+--------------------+------+--------------------+------+--------------------+------+--------------------+------------------+-------------------+--------------------+--------------------+--------------------+--------------------+-----------------------+--------------------+-------------------+--------------------+------------------+--------------------+--------------------+----------+--------------------+----------+--------------------+-------+--------------------+-----+--------------------+----+--------------------+----------+--------------------+----------+--------------------+----------+---------------+----------+---------------+---------------+--------------------+--------------+--------------------+--------------------------+-------------------------------+--------------------+-------------------------+-----------------------------+----------------------------------+-----------------+----------------------+-----------------------+----------------------------+------------------+-----------------------+-------+--------------------+-------+--------------------+-------+---------------+-------+---------------+-----------------+----------------------+------------+--------------------+------------+--------------------+------------+--------------------+------------+--------------------+------------+--------------------+\n",
      "only showing top 10 rows\n",
      "\n"
     ]
    }
   ],
   "source": [
    "# 2.SOURCE_TYPES, SOURCES, URL等列只保留双引号内容\n",
    "\n",
    "from pyspark.sql.functions import regexp_extract, col\n",
    "from functools import reduce\n",
    "\n",
    "# 指定要处理的列\n",
    "columns_to_clean = [\"SOURCE_TYPES\", \"SOURCES\", \"URL\", \"EDUCATION_LEVELS_NAME\", \"SKILLS\", \"SKILLS_NAME\", \"SPECIALIZED_SKILLS\", \n",
    "                    \"SPECIALIZED_SKILLS_NAME\", \"CERTIFICATIONS\", \"CERTIFICATIONS_NAME\", \"COMMON_SKILLS\", \"COMMON_SKILLS_NAME\", \n",
    "                    \"SOFTWARE_SKILLS\", \"SOFTWARE_SKILLS_NAME\", \"CIP6\", \"CIP6_NAME\", \"CIP4\", \"CIP4_NAME\", \"CIP2\", \"CIP2_NAME\", \n",
    "                    \"LIGHTCAST_SECTORS\", \"LIGHTCAST_SECTORS_NAME\"]  # 将列名替换为你要处理的列\n",
    "\n",
    "# 批量清理\n",
    "for col_name in columns_to_clean:\n",
    "    df = df.withColumn(col_name, regexp_extract(col(col_name), r'\"(.*?)\"', 1))\n",
    "\n",
    "\n",
    "df.show(10)"
   ]
  },
  {
   "cell_type": "code",
   "execution_count": 5,
   "id": "b5d9dc15",
   "metadata": {},
   "outputs": [
    {
     "name": "stdout",
     "output_type": "stream",
     "text": [
      "+----------------+\n",
      "|EDUCATION_LEVELS|\n",
      "+----------------+\n",
      "|2               |\n",
      "|99              |\n",
      "|2               |\n",
      "|99              |\n",
      "|99              |\n",
      "|2               |\n",
      "|2               |\n",
      "|2               |\n",
      "|99              |\n",
      "|2               |\n",
      "|0               |\n",
      "|99              |\n",
      "|2               |\n",
      "|2               |\n",
      "|99              |\n",
      "|1               |\n",
      "|1               |\n",
      "|99              |\n",
      "|2               |\n",
      "|99              |\n",
      "+----------------+\n",
      "only showing top 20 rows\n",
      "\n"
     ]
    }
   ],
   "source": [
    "# 3.EDUCATION_LEVELS列只保留数字\n",
    "\n",
    "from pyspark.sql.functions import regexp_extract\n",
    "\n",
    "# 对 'EDUCATION_LEVELS' 列进行清理，只保留数字\n",
    "df = df.withColumn(\"EDUCATION_LEVELS\", regexp_extract(\"EDUCATION_LEVELS\", r'(\\d+)', 1))\n",
    "\n",
    "\n",
    "df.select(\"EDUCATION_LEVELS\").show(truncate=False)"
   ]
  },
  {
   "cell_type": "code",
   "execution_count": 6,
   "id": "bc2056dd",
   "metadata": {},
   "outputs": [
    {
     "name": "stdout",
     "output_type": "stream",
     "text": [
      "+----------------------------------------+\n",
      "|LOCATION                                |\n",
      "+----------------------------------------+\n",
      "| \"lat\": 33.20763, \"lon\": -92.6662674    |\n",
      "| \"lat\": 44.3106241, \"lon\": -69.7794897  |\n",
      "| \"lat\": 32.7766642, \"lon\": -96.7969879  |\n",
      "| \"lat\": 33.4483771, \"lon\": -112.0740373 |\n",
      "| \"lat\": 37.6392595, \"lon\": -120.9970014 |\n",
      "| \"lat\": 0, \"lon\": 0                     |\n",
      "| \"lat\": 33.4941704, \"lon\": -111.9260519 |\n",
      "| \"lat\": 39.7589478, \"lon\": -84.1916069  |\n",
      "| \"lat\": 41.1220409, \"lon\": -74.5804378  |\n",
      "| \"lat\": 40.7501, \"lon\": -73.997         |\n",
      "| \"lat\": 35.6224561, \"lon\": -117.6708966 |\n",
      "| \"lat\": 21.3069444, \"lon\": -157.8583333 |\n",
      "| \"lat\": 0, \"lon\": 0                     |\n",
      "| \"lat\": 42.331427, \"lon\": -83.0457538   |\n",
      "| \"lat\": 32.2987573, \"lon\": -90.1848103  |\n",
      "| \"lat\": 42.3600825, \"lon\": -71.0588801  |\n",
      "| \"lat\": 0, \"lon\": 0                     |\n",
      "| \"lat\": 58.3019444, \"lon\": -134.4197221 |\n",
      "| \"lat\": 33.5185892, \"lon\": -86.8103567  |\n",
      "| \"lat\": 37.7749295, \"lon\": -122.4194155 |\n",
      "+----------------------------------------+\n",
      "only showing top 20 rows\n",
      "\n"
     ]
    }
   ],
   "source": [
    "# 4.对LOCATION列进行处理\n",
    "\n",
    "from pyspark.sql.functions import col, regexp_replace\n",
    "\n",
    "# 去除大括号，并处理换行符和空格\n",
    "df = df.withColumn(\"LOCATION\", \n",
    "                           regexp_replace(regexp_replace(col(\"LOCATION\"), r\"\\s*\\n\\s*\", \" \"), r\"[{}]\", \"\"))\n",
    "\n",
    "\n",
    "df.select(\"LOCATION\").show(truncate=False)\n"
   ]
  },
  {
   "cell_type": "code",
   "execution_count": 7,
   "id": "9e04e831",
   "metadata": {},
   "outputs": [
    {
     "name": "stdout",
     "output_type": "stream",
     "text": [
      "+----------+---------------+----------------+\n",
      "|POSTED    |MODELED_EXPIRED|MODELED_DURATION|\n",
      "+----------+---------------+----------------+\n",
      "|2024-06-02|2024-06-08     |6               |\n",
      "|2024-06-02|2024-08-01     |60              |\n",
      "|2024-06-02|2024-06-10     |8               |\n",
      "|2024-06-02|2024-06-12     |10              |\n",
      "|2024-06-02|2024-06-17     |15              |\n",
      "|2024-06-02|2024-06-12     |10              |\n",
      "|2024-06-02|2024-06-22     |20              |\n",
      "|2024-06-02|2024-06-10     |8               |\n",
      "|2024-06-02|2024-06-20     |18              |\n",
      "|2024-06-02|2024-08-01     |60              |\n",
      "|2024-06-02|2024-07-13     |41              |\n",
      "|2024-06-02|2024-06-08     |6               |\n",
      "|2024-06-02|2024-07-05     |33              |\n",
      "|2024-06-02|2024-07-27     |55              |\n",
      "|2024-06-02|2024-06-14     |12              |\n",
      "|2024-06-02|2024-06-08     |6               |\n",
      "|2024-06-02|2024-06-20     |18              |\n",
      "|2024-06-02|2024-07-10     |38              |\n",
      "|2024-06-02|2024-08-01     |60              |\n",
      "|2024-06-02|2024-07-27     |55              |\n",
      "+----------+---------------+----------------+\n",
      "only showing top 20 rows\n",
      "\n"
     ]
    }
   ],
   "source": [
    "# 5.MODELED_DURATION = MODELED_EXPIRED - POSTED\n",
    "\n",
    "spark.conf.set(\"spark.sql.legacy.timeParserPolicy\", \"LEGACY\")\n",
    "\n",
    "from pyspark.sql.functions import datediff, when, to_date, col\n",
    "\n",
    "# 将日期列转换为日期格式\n",
    "df = df.withColumn(\"MODELED_EXPIRED\", to_date(\"MODELED_EXPIRED\", \"MM/dd/yyyy\"))\n",
    "\n",
    "# 直接用日期差填充 DURATION\n",
    "df = df.withColumn(\n",
    "    \"MODELED_DURATION\",\n",
    "    when(col(\"MODELED_DURATION\").isNull(), datediff(\"MODELED_EXPIRED\", \"POSTED\"))\n",
    "    .otherwise(col(\"MODELED_DURATION\"))\n",
    ")\n",
    "\n",
    "df.select(\"POSTED\", \"MODELED_EXPIRED\", \"MODELED_DURATION\").show(truncate=False)"
   ]
  },
  {
   "cell_type": "code",
   "execution_count": 9,
   "id": "7623b05e",
   "metadata": {},
   "outputs": [
    {
     "name": "stderr",
     "output_type": "stream",
     "text": [
      "                                                                                \r"
     ]
    }
   ],
   "source": [
    "# 保存数据：\n",
    "# 1. 使用 coalesce(1) 将所有分区的数据合并为一个文件\n",
    "df.coalesce(1).write.option(\"header\", \"true\").csv(\"data/lightcast_cleaned_temp\")\n",
    "\n",
    "# 2. 查找生成的文件并重命名\n",
    "import os\n",
    "import shutil\n",
    "\n",
    "# 获取生成的文件路径\n",
    "generated_file_path = 'data/lightcast_cleaned_temp'\n",
    "\n",
    "# 获取文件夹中的所有文件（应只有一个文件）\n",
    "for filename in os.listdir(generated_file_path):\n",
    "    if filename.startswith('part-'):  # 找到 part 文件\n",
    "        # 重命名并移动到目标位置\n",
    "        shutil.move(os.path.join(generated_file_path, filename), 'data/lightcast_cleaned.csv')\n",
    "\n",
    "# 删除临时文件夹\n",
    "shutil.rmtree(generated_file_path)\n"
   ]
  },
  {
   "cell_type": "markdown",
   "id": "b8c08e50",
   "metadata": {},
   "source": [
    "# Load New Dataset"
   ]
  },
  {
   "cell_type": "code",
   "execution_count": 2,
   "id": "6a80bac6",
   "metadata": {},
   "outputs": [
    {
     "name": "stderr",
     "output_type": "stream",
     "text": [
      "your 131072x1 screen size is bogus. expect trouble\n"
     ]
    },
    {
     "name": "stdout",
     "output_type": "stream",
     "text": [
      "25/04/17 20:04:16 WARN Utils: Your hostname, DESKTOP-AEE21PF resolves to a loopback address: 127.0.1.1; using 192.168.167.208 instead (on interface eth0)\n",
      "25/04/17 20:04:16 WARN Utils: Set SPARK_LOCAL_IP if you need to bind to another address\n"
     ]
    },
    {
     "name": "stderr",
     "output_type": "stream",
     "text": [
      "Setting default log level to \"WARN\".\n",
      "To adjust logging level use sc.setLogLevel(newLevel). For SparkR, use setLogLevel(newLevel).\n"
     ]
    },
    {
     "name": "stdout",
     "output_type": "stream",
     "text": [
      "25/04/17 20:04:17 WARN NativeCodeLoader: Unable to load native-hadoop library for your platform... using builtin-java classes where applicable\n"
     ]
    },
    {
     "name": "stderr",
     "output_type": "stream",
     "text": [
      "                                                                                \r"
     ]
    },
    {
     "name": "stdout",
     "output_type": "stream",
     "text": [
      "25/04/17 20:04:21 WARN package: Truncated the string representation of a plan since it was too large. This behavior can be adjusted by setting 'spark.sql.debug.maxToStringFields'.\n",
      "+--------------------+-------------------+----------------------+----------+-------------------+-------------------+--------+------------+--------------------+--------------------+-----------+-------------------+--------------------+--------------------+-------------------+----------------+---------+--------------------+--------------------+-------------------+----------------+---------------------+-------------+-------------------+-------------+------------------+---------------+--------------------+--------------------+--------------------+-------------+------+-----------+----------------+-------------------+---------+-----------+--------------------+--------------------+------------------+------+--------------------+-----+--------------------+-----+-------------+---------------+--------------------+---------------+--------------------+------------+--------------------+------------+--------------------+------+--------------------+------+--------------------+------+--------------------+------+--------------------+------+--------------------+------------------+--------------------+--------------------+--------------------+--------------------+--------------------+-----------------------+--------------------+--------------------+--------------------+-------------------+--------------------+--------------------+----------+--------------------+----------+--------------------+-------+--------------------+-----+--------------------+----+--------------------+----------+--------------------+----------+--------------------+----------+---------------+----------+---------------+---------------+--------------------+--------------+--------------------+--------------------------+-------------------------------+--------------------+-------------------------+-----------------------------+----------------------------------+-----------------+----------------------+-----------------------+----------------------------+------------------+-----------------------+-------+--------------------+-------+--------------------+-------+---------------+-------+---------------+-----------------+----------------------+------------+--------------------+------------+--------------------+------------+--------------------+------------+--------------------+------------+--------------------+\n",
      "|                  ID|  LAST_UPDATED_DATE|LAST_UPDATED_TIMESTAMP|DUPLICATES|             POSTED|            EXPIRED|DURATION|SOURCE_TYPES|             SOURCES|                 URL|ACTIVE_URLS|ACTIVE_SOURCES_INFO|           TITLE_RAW|                BODY|    MODELED_EXPIRED|MODELED_DURATION|  COMPANY|        COMPANY_NAME|         COMPANY_RAW|COMPANY_IS_STAFFING|EDUCATION_LEVELS|EDUCATION_LEVELS_NAME|MIN_EDULEVELS| MIN_EDULEVELS_NAME|MAX_EDULEVELS|MAX_EDULEVELS_NAME|EMPLOYMENT_TYPE|EMPLOYMENT_TYPE_NAME|MIN_YEARS_EXPERIENCE|MAX_YEARS_EXPERIENCE|IS_INTERNSHIP|SALARY|REMOTE_TYPE|REMOTE_TYPE_NAME|ORIGINAL_PAY_PERIOD|SALARY_TO|SALARY_FROM|            LOCATION|                CITY|         CITY_NAME|COUNTY|         COUNTY_NAME|  MSA|            MSA_NAME|STATE|   STATE_NAME|COUNTY_OUTGOING|COUNTY_NAME_OUTGOING|COUNTY_INCOMING|COUNTY_NAME_INCOMING|MSA_OUTGOING|   MSA_NAME_OUTGOING|MSA_INCOMING|   MSA_NAME_INCOMING|NAICS2|         NAICS2_NAME|NAICS3|         NAICS3_NAME|NAICS4|         NAICS4_NAME|NAICS5|         NAICS5_NAME|NAICS6|         NAICS6_NAME|             TITLE|          TITLE_NAME|         TITLE_CLEAN|              SKILLS|         SKILLS_NAME|  SPECIALIZED_SKILLS|SPECIALIZED_SKILLS_NAME|      CERTIFICATIONS| CERTIFICATIONS_NAME|       COMMON_SKILLS| COMMON_SKILLS_NAME|     SOFTWARE_SKILLS|SOFTWARE_SKILLS_NAME|      ONET|           ONET_NAME| ONET_2019|      ONET_2019_NAME|   CIP6|           CIP6_NAME| CIP4|           CIP4_NAME|CIP2|           CIP2_NAME|SOC_2021_2|     SOC_2021_2_NAME|SOC_2021_3|     SOC_2021_3_NAME|SOC_2021_4|SOC_2021_4_NAME|SOC_2021_5|SOC_2021_5_NAME|LOT_CAREER_AREA|LOT_CAREER_AREA_NAME|LOT_OCCUPATION| LOT_OCCUPATION_NAME|LOT_SPECIALIZED_OCCUPATION|LOT_SPECIALIZED_OCCUPATION_NAME|LOT_OCCUPATION_GROUP|LOT_OCCUPATION_GROUP_NAME|LOT_V6_SPECIALIZED_OCCUPATION|LOT_V6_SPECIALIZED_OCCUPATION_NAME|LOT_V6_OCCUPATION|LOT_V6_OCCUPATION_NAME|LOT_V6_OCCUPATION_GROUP|LOT_V6_OCCUPATION_GROUP_NAME|LOT_V6_CAREER_AREA|LOT_V6_CAREER_AREA_NAME|  SOC_2|          SOC_2_NAME|  SOC_3|          SOC_3_NAME|  SOC_4|     SOC_4_NAME|  SOC_5|     SOC_5_NAME|LIGHTCAST_SECTORS|LIGHTCAST_SECTORS_NAME|NAICS_2022_2|   NAICS_2022_2_NAME|NAICS_2022_3|   NAICS_2022_3_NAME|NAICS_2022_4|   NAICS_2022_4_NAME|NAICS_2022_5|   NAICS_2022_5_NAME|NAICS_2022_6|   NAICS_2022_6_NAME|\n",
      "+--------------------+-------------------+----------------------+----------+-------------------+-------------------+--------+------------+--------------------+--------------------+-----------+-------------------+--------------------+--------------------+-------------------+----------------+---------+--------------------+--------------------+-------------------+----------------+---------------------+-------------+-------------------+-------------+------------------+---------------+--------------------+--------------------+--------------------+-------------+------+-----------+----------------+-------------------+---------+-----------+--------------------+--------------------+------------------+------+--------------------+-----+--------------------+-----+-------------+---------------+--------------------+---------------+--------------------+------------+--------------------+------------+--------------------+------+--------------------+------+--------------------+------+--------------------+------+--------------------+------+--------------------+------------------+--------------------+--------------------+--------------------+--------------------+--------------------+-----------------------+--------------------+--------------------+--------------------+-------------------+--------------------+--------------------+----------+--------------------+----------+--------------------+-------+--------------------+-----+--------------------+----+--------------------+----------+--------------------+----------+--------------------+----------+---------------+----------+---------------+---------------+--------------------+--------------+--------------------+--------------------------+-------------------------------+--------------------+-------------------------+-----------------------------+----------------------------------+-----------------+----------------------+-----------------------+----------------------------+------------------+-----------------------+-------+--------------------+-------+--------------------+-------+---------------+-------+---------------+-----------------+----------------------+------------+--------------------+------------+--------------------+------------+--------------------+------------+--------------------+------------+--------------------+\n",
      "|1f57d95acf4dc67ed...|2024-09-06 00:00:00|  2024-09-06 16:32:...|         0|2024-06-02 00:00:00|2024-06-08 00:00:00|       6|     Company|       brassring.com|https://sjobs.bra...|         []|               null|Enterprise Analys...|31-May-2024\\n\\nEn...|2024-06-08 00:00:00|               6|   894731|          Murphy USA|          Murphy USA|              false|               2|    Bachelor's degree|            2|  Bachelor's degree|         null|              null|              1|Full-time (> 32 h...|                   2|                   2|        false|  null|          0|          [None]|               null|     null|       null|\"lat\": 33.20763, ...|RWwgRG9yYWRvLCBBUg==|     El Dorado, AR|  5139|           Union, AR|20980|       El Dorado, AR|    5|     Arkansas|           5139|           Union, AR|           5139|           Union, AR|       20980|       El Dorado, AR|       20980|       El Dorado, AR|    44|        Retail Trade|   441|Motor Vehicle and...|  4413|Automotive Parts,...| 44133|Automotive Parts ...|441330|Automotive Parts ...|ET29C073C03D1F86B4| Enterprise Analysts|enterprise analys...|KS126DB6T061MHD7RTGQ|       Merchandising|KS126DB6T061MHD7RTGQ|          Merchandising|                null|                null|KS126706DPFD3354M7YK|        Mathematics|KS440W865GC4VRBW6LJP|SQL (Programming ...|15-2051.01|Business Intellig...|15-2051.01|Business Intellig...|45.0601|  Economics, General|45.06|           Economics|  45|     Social Sciences|   15-0000|Computer and Math...|   15-2000|Mathematical Scie...|   15-2050|Data Scientists|   15-2051|Data Scientists|             23|Information Techn...|        231010|Business Intellig...|                  23101011|           General ERP Analy...|                2310|     Business Intellig...|                     23101011|              General ERP Analy...|           231010|  Business Intellig...|                   2310|        Business Intellig...|                23|   Information Techn...|15-0000|Computer and Math...|15-2000|Mathematical Scie...|15-2050|Data Scientists|15-2051|Data Scientists|             null|  Artificial Intell...|          44|        Retail Trade|         441|Motor Vehicle and...|        4413|Automotive Parts,...|       44133|Automotive Parts ...|      441330|Automotive Parts ...|\n",
      "|0cb072af26757b6c4...|2024-08-02 00:00:00|  2024-08-02 13:08:...|         0|2024-06-02 00:00:00|2024-08-01 00:00:00|      60|   Job Board|           maine.gov|https://joblink.m...|         []|               null|Oracle Consultant...|Oracle Consultant...|2024-08-01 00:00:00|              60|   133098|Smx Corporation L...|                 SMX|               true|              99|  No Education Listed|           99|No Education Listed|         null|              null|              1|Full-time (> 32 h...|                   3|                   3|        false|  null|          1|          Remote|               null|     null|       null|\"lat\": 44.3106241...|    QXVndXN0YSwgTUU=|       Augusta, ME| 23011|        Kennebec, ME|12300|Augusta-Watervill...|   23|        Maine|          23011|        Kennebec, ME|          23011|        Kennebec, ME|       12300|Augusta-Watervill...|       12300|Augusta-Watervill...|    56|Administrative an...|   561|Administrative an...|  5613| Employment Services| 56132|Temporary Help Se...|561320|Temporary Help Se...|ET21DDA63780A7DC09|  Oracle Consultants|oracle consultant...|KS122626T550SLQ7QZ1C|         Procurement|KS122626T550SLQ7QZ1C|            Procurement|                null|                null|                null|               null|BGSBF3F508F7F46312E3|Oracle Business I...|15-2051.01|Business Intellig...|15-2051.01|Business Intellig...|   null|                null| null|                null|null|                null|   15-0000|Computer and Math...|   15-2000|Mathematical Scie...|   15-2050|Data Scientists|   15-2051|Data Scientists|             23|Information Techn...|        231010|Business Intellig...|                  23101012|           Oracle Consultant...|                2310|     Business Intellig...|                     23101012|              Oracle Consultant...|           231010|  Business Intellig...|                   2310|        Business Intellig...|                23|   Information Techn...|15-0000|Computer and Math...|15-2000|Mathematical Scie...|15-2050|Data Scientists|15-2051|Data Scientists|             null|                  null|          56|Administrative an...|         561|Administrative an...|        5613| Employment Services|       56132|Temporary Help Se...|      561320|Temporary Help Se...|\n",
      "|85318b12b3331fa49...|2024-09-06 00:00:00|  2024-09-06 16:32:...|         1|2024-06-02 00:00:00|2024-07-07 00:00:00|      35|   Job Board|          dejobs.org|https://dejobs.or...|         []|               null|        Data Analyst|Taking care of pe...|2024-06-10 00:00:00|               8| 39063746|            Sedgwick|            Sedgwick|              false|               2|    Bachelor's degree|            2|  Bachelor's degree|         null|              null|              1|Full-time (> 32 h...|                   5|                null|        false|  null|          0|          [None]|               null|     null|       null|\"lat\": 32.7766642...|    RGFsbGFzLCBUWA==|        Dallas, TX| 48113|          Dallas, TX|19100|Dallas-Fort Worth...|   48|        Texas|          48113|          Dallas, TX|          48113|          Dallas, TX|       19100|Dallas-Fort Worth...|       19100|Dallas-Fort Worth...|    52|Finance and Insur...|   524|Insurance Carrier...|  5242|Agencies, Brokera...| 52429|Other Insurance R...|524291|    Claims Adjusting|ET3037E0C947A02404|       Data Analysts|        data analyst|KS1218W78FGVPVP2KXPX|          Management|ESF3939CE1F80C10C327|    Exception Reporting|KS683TN76T77DQDVBZ1B|  Security Clearance|KS1218W78FGVPVP2KXPX|         Management|KS126HY6YLTB9R7XJC4Z|    Microsoft Office|15-2051.01|Business Intellig...|15-2051.01|Business Intellig...|   null|                null| null|                null|null|                null|   15-0000|Computer and Math...|   15-2000|Mathematical Scie...|   15-2050|Data Scientists|   15-2051|Data Scientists|             23|Information Techn...|        231113|Data / Data Minin...|                  23111310|                   Data Analyst|                2311|     Data Analysis and...|                     23111310|                      Data Analyst|           231113|  Data / Data Minin...|                   2311|        Data Analysis and...|                23|   Information Techn...|15-0000|Computer and Math...|15-2000|Mathematical Scie...|15-2050|Data Scientists|15-2051|Data Scientists|             null|                  null|          52|Finance and Insur...|         524|Insurance Carrier...|        5242|Agencies, Brokera...|       52429|Other Insurance R...|      524291|    Claims Adjusting|\n",
      "|1b5c3941e54a1889e...|2024-09-06 00:00:00|  2024-09-06 16:32:...|         1|2024-06-02 00:00:00|2024-07-20 00:00:00|      48|   Job Board|  disabledperson.com|https://www.disab...|         []|               null|Sr. Lead Data Mgm...|About this role:\\...|2024-06-12 00:00:00|              10| 37615159|         Wells Fargo|         Wells Fargo|              false|              99|  No Education Listed|           99|No Education Listed|         null|              null|              1|Full-time (> 32 h...|                   3|                null|        false|  null|          0|          [None]|               null|     null|       null|\"lat\": 33.4483771...|    UGhvZW5peCwgQVo=|       Phoenix, AZ|  4013|        Maricopa, AZ|38060|Phoenix-Mesa-Chan...|    4|      Arizona|           4013|        Maricopa, AZ|           4013|        Maricopa, AZ|       38060|Phoenix-Mesa-Chan...|       38060|Phoenix-Mesa-Chan...|    52|Finance and Insur...|   522|Credit Intermedia...|  5221|Depository Credit...| 52211|  Commercial Banking|522110|  Commercial Banking|ET2114E0404BA30075| Management Analysts|sr lead data mgmt...|KS123QX62QYTC4JF38H8|     Exit Strategies|KS123QX62QYTC4JF38H8|        Exit Strategies|                null|                null|KS7G6NP6R6L1H1SKFTSY|        Reliability|KS4409D76NW1S5LNCL18|      SAS (Software)|15-2051.01|Business Intellig...|15-2051.01|Business Intellig...|   null|                null| null|                null|null|                null|   15-0000|Computer and Math...|   15-2000|Mathematical Scie...|   15-2050|Data Scientists|   15-2051|Data Scientists|             23|Information Techn...|        231113|Data / Data Minin...|                  23111310|                   Data Analyst|                2311|     Data Analysis and...|                     23111310|                      Data Analyst|           231113|  Data / Data Minin...|                   2311|        Data Analysis and...|                23|   Information Techn...|15-0000|Computer and Math...|15-2000|Mathematical Scie...|15-2050|Data Scientists|15-2051|Data Scientists|             null|  Data Privacy/Prot...|          52|Finance and Insur...|         522|Credit Intermedia...|        5221|Depository Credit...|       52211|  Commercial Banking|      522110|  Commercial Banking|\n",
      "|cb5ca25f02bdf25c1...|2024-06-19 00:00:00|   2024-06-19 03:00:00|         0|2024-06-02 00:00:00|2024-06-17 00:00:00|      15|FreeJobBoard|      craigslist.org|https://modesto.c...|         []|               null|Comisiones de $10...|Comisiones de $10...|2024-06-17 00:00:00|              15|        0|        Unclassified|               LH/GM|              false|              99|  No Education Listed|           99|No Education Listed|         null|              null|              3|Part-time / full-...|                null|                null|        false| 92500|          0|          [None]|               year|   150000|      35000|\"lat\": 37.6392595...|    TW9kZXN0bywgQ0E=|       Modesto, CA|  6099|      Stanislaus, CA|33700|         Modesto, CA|    6|   California|           6099|      Stanislaus, CA|           6099|      Stanislaus, CA|       33700|         Modesto, CA|       33700|         Modesto, CA|    99|Unclassified Indu...|   999|Unclassified Indu...|  9999|Unclassified Indu...| 99999|Unclassified Indu...|999999|Unclassified Indu...|ET0000000000000000|        Unclassified|comisiones de por...|                null|                null|                null|                   null|                null|                null|                null|               null|                null|                null|15-2051.01|Business Intellig...|15-2051.01|Business Intellig...|   null|                null| null|                null|null|                null|   15-0000|Computer and Math...|   15-2000|Mathematical Scie...|   15-2050|Data Scientists|   15-2051|Data Scientists|             23|Information Techn...|        231010|Business Intellig...|                  23101012|           Oracle Consultant...|                2310|     Business Intellig...|                     23101012|              Oracle Consultant...|           231010|  Business Intellig...|                   2310|        Business Intellig...|                23|   Information Techn...|15-0000|Computer and Math...|15-2000|Mathematical Scie...|15-2050|Data Scientists|15-2051|Data Scientists|             null|                  null|          99|Unclassified Indu...|         999|Unclassified Indu...|        9999|Unclassified Indu...|       99999|Unclassified Indu...|      999999|Unclassified Indu...|\n",
      "|35a6cd2183d9fb270...|2024-09-06 00:00:00|  2024-09-06 16:32:...|         0|2024-06-02 00:00:00|2024-06-12 00:00:00|      10|   Job Board|          dejobs.org|https://dejobs.or...|         []|               null|SR Lead Data Analyst|About Lumen\\n\\nLu...|2024-06-12 00:00:00|              10|  2233642|  Lumen Technologies|               Lumen|              false|               2|    Bachelor's degree|            2|  Bachelor's degree|         null|              null|              1|Full-time (> 32 h...|                null|                null|        false|110155|          1|          Remote|               year|   125890|      94420|  \"lat\": 0, \"lon\": 0|W1Vua25vd24gQ2l0e...|[Unknown City], AR|  5999|[Unknown county], AR| null|                null|    5|     Arkansas|           5999|[Unknown county], AR|           5999|[Unknown county], AR|        null|                null|        null|                null|    51|         Information|   517|  Telecommunications|  5178|All Other Telecom...| 51781|All Other Telecom...|517810|All Other Telecom...|ET95DB859B53CCACA7|  Lead Data Analysts|sr lead data analyst|KS13USA80NE38XJHA2TL|            Power BI|KS13USA80NE38XJHA2TL|               Power BI|                null|                null|KS1280B68GD79P4WMVYW|      Presentations|KS13USA80NE38XJHA2TL|            Power BI|15-2051.01|Business Intellig...|15-2051.01|Business Intellig...|52.0201|Business Administ...|52.02|Business Administ...|  52|Business, Managem...|   15-0000|Computer and Math...|   15-2000|Mathematical Scie...|   15-2050|Data Scientists|   15-2051|Data Scientists|             23|Information Techn...|        231113|Data / Data Minin...|                  23111310|                   Data Analyst|                2311|     Data Analysis and...|                     23111310|                      Data Analyst|           231113|  Data / Data Minin...|                   2311|        Data Analysis and...|                23|   Information Techn...|15-0000|Computer and Math...|15-2000|Mathematical Scie...|15-2050|Data Scientists|15-2051|Data Scientists|             null|                  null|          51|         Information|         517|  Telecommunications|        5178|All Other Telecom...|       51781|All Other Telecom...|      517810|All Other Telecom...|\n",
      "|06de8d192f30b1d8d...|2024-08-02 00:00:00|  2024-08-02 13:08:...|         0|2024-06-02 00:00:00|2024-08-01 00:00:00|      60|     Company|     oraclecloud.com|https://hctz.fa.u...|         []|               null| Talent Data Analyst|Id : 2501314,\\nTi...|2024-06-22 00:00:00|              20| 44896740|Semiconductor Com...|Semiconductor Com...|              false|               2|    Bachelor's degree|            2|  Bachelor's degree|         null|              null|              1|Full-time (> 32 h...|                null|                null|        false|  null|          0|          [None]|               null|     null|       null|\"lat\": 33.4941704...|U2NvdHRzZGFsZSwgQVo=|    Scottsdale, AZ|  4013|        Maricopa, AZ|38060|Phoenix-Mesa-Chan...|    4|      Arizona|           4013|        Maricopa, AZ|           4013|        Maricopa, AZ|       38060|Phoenix-Mesa-Chan...|       38060|Phoenix-Mesa-Chan...|    31|       Manufacturing|   334|Computer and Elec...|  3344|Semiconductor and...| 33441|Semiconductor and...|334413|Semiconductor and...|ETA9B609BE4E431E44|    IT Data Analysts| talent data analyst|KS1250B78VWB0P2L3N40|Interactive Data ...|KS1250B78VWB0P2L3N40|   Interactive Data ...|                null|                null|ESFA9982A2A945E439CB|  Analytical Skills|KS1250B78VWB0P2L3N40|Interactive Data ...|15-2051.01|Business Intellig...|15-2051.01|Business Intellig...|   null|                null| null|                null|null|                null|   15-0000|Computer and Math...|   15-2000|Mathematical Scie...|   15-2050|Data Scientists|   15-2051|Data Scientists|             23|Information Techn...|        231113|Data / Data Minin...|                  23111310|                   Data Analyst|                2311|     Data Analysis and...|                     23111310|                      Data Analyst|           231113|  Data / Data Minin...|                   2311|        Data Analysis and...|                23|   Information Techn...|15-0000|Computer and Math...|15-2000|Mathematical Scie...|15-2050|Data Scientists|15-2051|Data Scientists|             null|                  null|          31|       Manufacturing|         334|Computer and Elec...|        3344|Semiconductor and...|       33441|Semiconductor and...|      334413|Semiconductor and...|\n",
      "|3d589c9d84677ca94...|2024-09-06 00:00:00|  2024-09-06 16:32:...|         1|2024-06-02 00:00:00|2024-07-07 00:00:00|      35|   Job Board|          dejobs.org|https://dejobs.or...|         []|               null|        Data Analyst|Taking care of pe...|2024-06-10 00:00:00|               8| 39063746|            Sedgwick|            Sedgwick|              false|               2|    Bachelor's degree|            2|  Bachelor's degree|         null|              null|              1|Full-time (> 32 h...|                   5|                null|        false|  null|          0|          [None]|               null|     null|       null|\"lat\": 39.7589478...|    RGF5dG9uLCBPSA==|        Dayton, OH| 39113|      Montgomery, OH|19430|Dayton-Kettering, OH|   39|         Ohio|          39113|      Montgomery, OH|          39113|      Montgomery, OH|       19430|Dayton-Kettering, OH|       19430|Dayton-Kettering-...|    52|Finance and Insur...|   524|Insurance Carrier...|  5242|Agencies, Brokera...| 52429|Other Insurance R...|524291|    Claims Adjusting|ET3037E0C947A02404|       Data Analysts|        data analyst|KS1218W78FGVPVP2KXPX|          Management|ESF3939CE1F80C10C327|    Exception Reporting|KS683TN76T77DQDVBZ1B|  Security Clearance|KS1218W78FGVPVP2KXPX|         Management|KS126HY6YLTB9R7XJC4Z|    Microsoft Office|15-2051.01|Business Intellig...|15-2051.01|Business Intellig...|   null|                null| null|                null|null|                null|   15-0000|Computer and Math...|   15-2000|Mathematical Scie...|   15-2050|Data Scientists|   15-2051|Data Scientists|             23|Information Techn...|        231113|Data / Data Minin...|                  23111310|                   Data Analyst|                2311|     Data Analysis and...|                     23111310|                      Data Analyst|           231113|  Data / Data Minin...|                   2311|        Data Analysis and...|                23|   Information Techn...|15-0000|Computer and Math...|15-2000|Mathematical Scie...|15-2050|Data Scientists|15-2051|Data Scientists|             null|                  null|          52|Finance and Insur...|         524|Insurance Carrier...|        5242|Agencies, Brokera...|       52429|Other Insurance R...|      524291|    Claims Adjusting|\n",
      "|5a843df632e1ff756...|2024-06-21 00:00:00|   2024-06-21 03:00:00|         0|2024-06-02 00:00:00|2024-06-20 00:00:00|      18|   Job Board|    computerwork.com|http://computerwo...|         []|               null|SAP SD/OTC Consul...|SAP SD/OTC Consul...|2024-06-20 00:00:00|              18|100173263|Global Enterprise...|Global Enterprise...|               true|              99|  No Education Listed|           99|No Education Listed|         null|              null|              1|Full-time (> 32 h...|                   7|                   7|        false|  null|          0|          [None]|               null|     null|       null|\"lat\": 41.1220409...|    RnJhbmtsaW4sIE5K|      Franklin, NJ| 34037|          Sussex, NJ|35620|New York-Newark-J...|   34|   New Jersey|          34037|          Sussex, NJ|          34037|          Sussex, NJ|       35620|New York-Newark-J...|       35620|New York-Newark-J...|    99|Unclassified Indu...|   999|Unclassified Indu...|  9999|Unclassified Indu...| 99999|Unclassified Indu...|999999|Unclassified Indu...|ET6244BCEEC5921581| SAP OTC Consultants|sap sd otc consul...|KS1200771D9CR9LB4MWW|JavaScript (Progr...|KS1200771D9CR9LB4MWW|   JavaScript (Progr...|                null|                null|                null|               null|KS1200771D9CR9LB4MWW|JavaScript (Progr...|15-2051.01|Business Intellig...|15-2051.01|Business Intellig...|   null|                null| null|                null|null|                null|   15-0000|Computer and Math...|   15-2000|Mathematical Scie...|   15-2050|Data Scientists|   15-2051|Data Scientists|             23|Information Techn...|        231010|Business Intellig...|                  23101011|           General ERP Analy...|                2310|     Business Intellig...|                     23101011|              General ERP Analy...|           231010|  Business Intellig...|                   2310|        Business Intellig...|                23|   Information Techn...|15-0000|Computer and Math...|15-2000|Mathematical Scie...|15-2050|Data Scientists|15-2051|Data Scientists|             null|                  null|          99|Unclassified Indu...|         999|Unclassified Indu...|        9999|Unclassified Indu...|       99999|Unclassified Indu...|      999999|Unclassified Indu...|\n",
      "|229620073766234e8...|2024-10-09 00:00:00|  2024-10-09 14:07:...|         0|2024-06-02 00:00:00|2024-08-01 00:00:00|      60|     Company|             3ds.com|https://www.3ds.c...|         []|               null|Sr. Marketing Ana...|Sr. Marketing Ana...|2024-08-01 00:00:00|              60| 39016169|   Dassault Systèmes|    Dassault Systmes|              false|               2|    Bachelor's degree|            2|  Bachelor's degree|            3|   Master's degree|              1|Full-time (> 32 h...|                   2|                   2|        false| 92962|          0|          [None]|               year|   106424|      79500|\"lat\": 40.7501, \"...|    TmV3IFlvcmssIE5Z|      New York, NY| 36061|        New York, NY|35620|New York-Newark-J...|   36|     New York|          36061|        New York, NY|          36061|        New York, NY|       35620|New York-Newark-J...|       35620|New York-Newark-J...|    54|Professional, Sci...|   541|Professional, Sci...|  5415|Computer Systems ...| 54151|Computer Systems ...|541511|Custom Computer P...|ET1CE3CFA5447376E9|  Marketing Analysts|sr marketing analyst|KS4407N6CMTCYT0NYSVM|          Salesforce|KS4407N6CMTCYT0NYSVM|             Salesforce|                null|                null|KS7G747655VG23WXMS9B|     Prioritization|KS4407N6CMTCYT0NYSVM|          Salesforce|15-2051.01|Business Intellig...|15-2051.01|Business Intellig...|52.0101|Business/Commerce...|52.01|Business/Commerce...|  52|Business, Managem...|   15-0000|Computer and Math...|   15-2000|Mathematical Scie...|   15-2050|Data Scientists|   15-2051|Data Scientists|             23|Information Techn...|        231113|Data / Data Minin...|                  23111310|                   Data Analyst|                2311|     Data Analysis and...|                     23111310|                      Data Analyst|           231113|  Data / Data Minin...|                   2311|        Data Analysis and...|                23|   Information Techn...|15-0000|Computer and Math...|15-2000|Mathematical Scie...|15-2050|Data Scientists|15-2051|Data Scientists|             null|  Artificial Intell...|          54|Professional, Sci...|         541|Professional, Sci...|        5415|Computer Systems ...|       54151|Computer Systems ...|      541511|Custom Computer P...|\n",
      "|b7aa80a24c82f080c...|2024-09-28 00:00:00|  2024-09-28 10:06:...|         8|2024-06-02 00:00:00|2024-09-27 00:00:00|     117|  Government|         dcscorp.com|https://www.latpr...|         []|               null|        Data Analyst|Data Analyst In R...|2024-07-13 00:00:00|              41| 12147696|     DCS Corporation|           DCS Corp.|              false|               0|   High school or GED|            0| High school or GED|            2| Bachelor's degree|              1|Full-time (> 32 h...|                  10|                null|        false|107645|          2|      Not Remote|               year|   123732|      91559|\"lat\": 35.6224561...|UmlkZ2VjcmVzdCwgQ0E=|    Ridgecrest, CA|  6029|            Kern, CA|12540|     Bakersfield, CA|    6|   California|           6029|            Kern, CA|           6029|            Kern, CA|       12540|     Bakersfield, CA|       12540|Bakersfield-Delan...|    42|     Wholesale Trade|   423|Merchant Wholesal...|  4238|Machinery, Equipm...| 42383|Industrial Machin...|423830|Industrial Machin...|ET3037E0C947A02404|       Data Analysts|        data analyst|KS128HD6KJSZMPK72WSF|  Regression Testing|KS128HD6KJSZMPK72WSF|     Regression Testing|KS683TN76T77DQDVBZ1B|  Security Clearance|KS1203C6N9B52QGB4H67|           Research|KS125LS6N7WP4S6SFTCK|Python (Programmi...|15-2051.01|Business Intellig...|15-2051.01|Business Intellig...|14.0101|Engineering, General|14.01|Engineering, General|  14|         Engineering|   15-0000|Computer and Math...|   15-2000|Mathematical Scie...|   15-2050|Data Scientists|   15-2051|Data Scientists|             23|Information Techn...|        231113|Data / Data Minin...|                  23111310|                   Data Analyst|                2311|     Data Analysis and...|                     23111310|                      Data Analyst|           231113|  Data / Data Minin...|                   2311|        Data Analysis and...|                23|   Information Techn...|15-0000|Computer and Math...|15-2000|Mathematical Scie...|15-2050|Data Scientists|15-2051|Data Scientists|             null|                  null|          42|     Wholesale Trade|         423|Merchant Wholesal...|        4238|Machinery, Equipm...|       42383|Industrial Machin...|      423830|Industrial Machin...|\n",
      "|2a107fd40bb1afac4...|2024-06-17 00:00:00|   2024-06-17 03:00:00|         0|2024-06-02 00:00:00|2024-06-08 00:00:00|       6|   Job Board|            dice.com|https://www.dice....|         []|               null|        Data Analyst|Data Analyst\\nTEK...|2024-06-08 00:00:00|               6|  4063994|       Allegis Group|TEKsystems c/o Al...|               true|              99|  No Education Listed|           99|No Education Listed|         null|              null|              1|Full-time (> 32 h...|                   2|                null|        false|  null|          0|          [None]|               null|     null|       null|\"lat\": 21.3069444...|    SG9ub2x1bHUsIEhJ|      Honolulu, HI| 15003|        Honolulu, HI|46520|  Urban Honolulu, HI|   15|       Hawaii|          15003|        Honolulu, HI|          15003|        Honolulu, HI|       46520|  Urban Honolulu, HI|       46520|  Urban Honolulu, HI|    56|Administrative an...|   561|Administrative an...|  5613| Employment Services| 56132|Temporary Help Se...|561320|Temporary Help Se...|ET3037E0C947A02404|       Data Analysts|        data analyst|KS7LO8P3MXB93R3C9RWL|        Data Science|KS7LO8P3MXB93R3C9RWL|           Data Science|                null|                null|KS122556LMQ829GZCCRV|      Communication|KS440W865GC4VRBW6LJP|SQL (Programming ...|15-2051.01|Business Intellig...|15-2051.01|Business Intellig...|11.0701|    Computer Science|11.07|    Computer Science|  11|Computer and Info...|   15-0000|Computer and Math...|   15-2000|Mathematical Scie...|   15-2050|Data Scientists|   15-2051|Data Scientists|             23|Information Techn...|        231113|Data / Data Minin...|                  23111310|                   Data Analyst|                2311|     Data Analysis and...|                     23111310|                      Data Analyst|           231113|  Data / Data Minin...|                   2311|        Data Analysis and...|                23|   Information Techn...|15-0000|Computer and Math...|15-2000|Mathematical Scie...|15-2050|Data Scientists|15-2051|Data Scientists|             null|                  null|          56|Administrative an...|         561|Administrative an...|        5613| Employment Services|       56132|Temporary Help Se...|      561320|Temporary Help Se...|\n",
      "|fd48c3ce533c3d20a...|2024-09-06 00:00:00|  2024-09-06 16:32:...|         0|2024-06-02 00:00:00|2024-07-05 00:00:00|      33|   Job Board|          dejobs.org|https://dejobs.or...|         []|               null|Data Research Ana...|The Data Research...|2024-07-05 00:00:00|              33| 34294036|             Equifax|       Equifax, Inc.|              false|               2|    Bachelor's degree|            2|  Bachelor's degree|         null|              null|              1|Full-time (> 32 h...|                null|                null|        false|  null|          0|          [None]|               null|     null|       null|  \"lat\": 0, \"lon\": 0|W1Vua25vd24gQ2l0e...|[Unknown City], GA| 13999|[Unknown county], GA| null|                null|   13|      Georgia|          13999|[Unknown county], GA|          13999|[Unknown county], GA|        null|                null|        null|                null|    52|Finance and Insur...|   522|Credit Intermedia...|  5223|Activities Relate...| 52232|Financial Transac...|522320|Financial Transac...|ET252B42EF548117CC|    Data Researchers|data research ana...|KS120GV6C72JMSZKMTD7|       Data Analysis|KS120GV6C72JMSZKMTD7|          Data Analysis|                null|                null|KS1203C6N9B52QGB4H67|           Research|                null|                null|15-2051.01|Business Intellig...|15-2051.01|Business Intellig...|   null|                null| null|                null|null|                null|   15-0000|Computer and Math...|   15-2000|Mathematical Scie...|   15-2050|Data Scientists|   15-2051|Data Scientists|             23|Information Techn...|        231113|Data / Data Minin...|                  23111310|                   Data Analyst|                2311|     Data Analysis and...|                     23111310|                      Data Analyst|           231113|  Data / Data Minin...|                   2311|        Data Analysis and...|                23|   Information Techn...|15-0000|Computer and Math...|15-2000|Mathematical Scie...|15-2050|Data Scientists|15-2051|Data Scientists|             null|                  null|          52|Finance and Insur...|         522|Credit Intermedia...|        5223|Activities Relate...|       52232|Financial Transac...|      522320|Financial Transac...|\n",
      "|57b527ea0f91db5bb...|2024-09-06 00:00:00|  2024-09-06 16:32:...|         0|2024-06-02 00:00:00|2024-07-27 00:00:00|      55|   Job Board|     simplyhired.com|https://www.simpl...|         []|               null|Power, Utilities ...|Power, Utilities ...|2024-07-27 00:00:00|              55|  5732448|            Deloitte|            Deloitte|              false|               2|    Bachelor's degree|            2|  Bachelor's degree|            3|   Master's degree|              1|Full-time (> 32 h...|                   6|                null|        false|192800|          0|          [None]|               year|   241000|     144600|\"lat\": 42.331427,...|    RGV0cm9pdCwgTUk=|       Detroit, MI| 26163|           Wayne, MI|19820|Detroit-Warren-De...|   26|     Michigan|          26163|           Wayne, MI|          26163|           Wayne, MI|       19820|Detroit-Warren-De...|       19820|Detroit-Warren-De...|    54|Professional, Sci...|   541|Professional, Sci...|  5416|Management, Scien...| 54161|Management Consul...|541611|Administrative Ma...|ET8AEDEB1F4C3091D3|Management Consul...|power utilities r...|KS122VL71WF050TPW0V7|Design Specificat...|KS122VL71WF050TPW0V7|   Design Specificat...|                null|                null|KS1218W78FGVPVP2KXPX|         Management|KS1219W70LY1GXZDSKW5|C++ (Programming ...|15-2051.01|Business Intellig...|15-2051.01|Business Intellig...|45.0702|Geographic Inform...|45.07|Geography and Car...|  45|     Social Sciences|   15-0000|Computer and Math...|   15-2000|Mathematical Scie...|   15-2050|Data Scientists|   15-2051|Data Scientists|             23|Information Techn...|        231010|Business Intellig...|                  23101011|           General ERP Analy...|                2310|     Business Intellig...|                     23101011|              General ERP Analy...|           231010|  Business Intellig...|                   2310|        Business Intellig...|                23|   Information Techn...|15-0000|Computer and Math...|15-2000|Mathematical Scie...|15-2050|Data Scientists|15-2051|Data Scientists|             null|   Green Jobs: Enabled|          54|Professional, Sci...|         541|Professional, Sci...|        5416|Management, Scien...|       54161|Management Consul...|      541611|Administrative Ma...|\n",
      "|036cd733481fbcc98...|2024-08-02 00:00:00|  2024-08-02 13:08:...|         0|2024-06-02 00:00:00|2024-08-01 00:00:00|      60|   Job Board|              ms.gov|https://wings.mde...|         []|               null|Sr. Enterprise Da...|Sr. Enterprise Da...|2024-06-14 00:00:00|              12| 38205299|Lincoln Financial...|Lincoln Financial...|              false|              99|  No Education Listed|           99|No Education Listed|         null|              null|              1|Full-time (> 32 h...|                null|                null|        false| 81286|          1|          Remote|               year|    81286|      81286|\"lat\": 32.2987573...|    SmFja3NvbiwgTVM=|       Jackson, MS| 28049|           Hinds, MS|27140|         Jackson, MS|   28|  Mississippi|          28049|           Hinds, MS|          28049|           Hinds, MS|       27140|         Jackson, MS|       27140|         Jackson, MS|    52|Finance and Insur...|   523|Securities, Commo...|  5239|Other Financial I...| 52394|Portfolio Managem...|523940|Portfolio Managem...|ET0000000000000000|        Unclassified|sr enterprise dat...|KS122NM6B8TWBGL2X18F|   Data Architecture|KS122NM6B8TWBGL2X18F|      Data Architecture|ESE495A4017EB9404B8C|Valid Driver's Li...|                null|               null|                null|                null|15-2051.01|Business Intellig...|15-2051.01|Business Intellig...|   null|                null| null|                null|null|                null|   15-0000|Computer and Math...|   15-2000|Mathematical Scie...|   15-2050|Data Scientists|   15-2051|Data Scientists|             23|Information Techn...|        231510|Computer Systems ...|                  23151012|           Enterprise Architect|                2315|     Network and Syste...|                     23151012|              Enterprise Architect|           231510|  Computer Systems ...|                   2315|        Network and Syste...|                23|   Information Techn...|15-0000|Computer and Math...|15-2000|Mathematical Scie...|15-2050|Data Scientists|15-2051|Data Scientists|             null|                  null|          52|Finance and Insur...|         523|Securities, Commo...|        5239|Other Financial I...|       52394|Portfolio Managem...|      523940|Portfolio Managem...|\n",
      "|138ce2c9453b47a9b...|2024-08-10 00:00:00|  2024-08-10 15:36:...|         5|2024-06-02 00:00:00|2024-08-09 00:00:00|      68|   Job Board|        silkroad.com|https://main.herc...|         []|               null|SENIOR CONSULTANT...|SENIOR CONSULTANT...|2024-06-08 00:00:00|               6|     1967|   Boston University|   Boston University|              false|               1|     Associate degree|            1|   Associate degree|            3|   Master's degree|              1|Full-time (> 32 h...|                   5|                   5|        false|  null|          1|          Remote|               null|     null|       null|\"lat\": 42.3600825...|    Qm9zdG9uLCBNQQ==|        Boston, MA| 25025|         Suffolk, MA|14460|Boston-Cambridge-...|   25|Massachusetts|          25025|         Suffolk, MA|          25025|         Suffolk, MA|       14460|Boston-Cambridge-...|       14460|Boston-Cambridge-...|    61|Educational Services|   611|Educational Services|  6113|Colleges, Univers...| 61131|Colleges, Univers...|611310|Colleges, Univers...|ET210B837B93B7B3F9|Continuous Improv...|senior consultant...|ESB38820A543FA4E3969|Effective Communi...|ESB38820A543FA4E3969|   Effective Communi...|KS7G2ZG794HDGQ4Z58L8|Certified Investm...|KS1280B68GD79P4WMVYW|      Presentations|                null|                null|15-2051.01|Business Intellig...|15-2051.01|Business Intellig...|52.0201|Business Administ...|52.02|Business Administ...|  52|Business, Managem...|   15-0000|Computer and Math...|   15-2000|Mathematical Scie...|   15-2050|Data Scientists|   15-2051|Data Scientists|             23|Information Techn...|        231113|Data / Data Minin...|                  23111310|                   Data Analyst|                2311|     Data Analysis and...|                     23111310|                      Data Analyst|           231113|  Data / Data Minin...|                   2311|        Data Analysis and...|                23|   Information Techn...|15-0000|Computer and Math...|15-2000|Mathematical Scie...|15-2050|Data Scientists|15-2051|Data Scientists|             null|                  null|          61|Educational Services|         611|Educational Services|        6113|Colleges, Univers...|       61131|Colleges, Univers...|      611310|Colleges, Univers...|\n",
      "|dd191e2ce3062c371...|2024-09-06 00:00:00|  2024-09-06 16:32:...|         0|2024-06-02 00:00:00|2024-06-20 00:00:00|      18|   Job Board|phoenixrecruiter.com|https://www.phoen...|         []|               null| SAP FSCM Consultant|Job Description: ...|2024-06-20 00:00:00|              18|  8592955|           Accenture|           Accenture|              false|               1|     Associate degree|            1|   Associate degree|            2| Bachelor's degree|              1|Full-time (> 32 h...|                  12|                null|        false|125900|          0|          [None]|               year|   188600|      63200|  \"lat\": 0, \"lon\": 0|W1Vua25vd24gQ2l0e...|[Unknown City], AZ|  4999|[Unknown county], AZ| null|                null|    4|      Arizona|           4999|[Unknown county], AZ|           4999|[Unknown county], AZ|        null|                null|        null|                null|    54|Professional, Sci...|   541|Professional, Sci...|  5415|Computer Systems ...| 54151|Computer Systems ...|541512|Computer Systems ...|ETF594A2C05D212506|Peoplesoft FSCM C...| sap fscm consultant|KS7G7VL78R2LKZZZCZ8M|Profit Center Acc...|KS7G7VL78R2LKZZZCZ8M|   Profit Center Acc...|                null|                null|KS122ZF75YVNLXW1BN4Q|       Digitization|KS7G7VL78R2LKZZZCZ8M|Profit Center Acc...|15-2051.01|Business Intellig...|15-2051.01|Business Intellig...|   null|                null| null|                null|null|                null|   15-0000|Computer and Math...|   15-2000|Mathematical Scie...|   15-2050|Data Scientists|   15-2051|Data Scientists|             23|Information Techn...|        231010|Business Intellig...|                  23101011|           General ERP Analy...|                2310|     Business Intellig...|                     23101011|              General ERP Analy...|           231010|  Business Intellig...|                   2310|        Business Intellig...|                23|   Information Techn...|15-0000|Computer and Math...|15-2000|Mathematical Scie...|15-2050|Data Scientists|15-2051|Data Scientists|             null|                  null|          54|Professional, Sci...|         541|Professional, Sci...|        5415|Computer Systems ...|       54151|Computer Systems ...|      541512|Computer Systems ...|\n",
      "|99856b5a8a1c75d90...|2024-09-06 00:00:00|  2024-09-06 16:32:...|         0|2024-06-02 00:00:00|2024-08-01 00:00:00|      60|  Government|          alaska.gov|https://alaskajob...|         []|               null|Oracle Consultant...|Onsite - Work ons...|2024-07-10 00:00:00|              38|   133098|Smx Corporation L...|                 SMX|               true|              99|  No Education Listed|           99|No Education Listed|         null|              null|              1|Full-time (> 32 h...|                   3|                   3|        false|  null|          1|          Remote|               null|     null|       null|\"lat\": 58.3019444...|    SnVuZWF1LCBBSw==|        Juneau, AK|  2110|  Juneau Borough, AK|27940|          Juneau, AK|    2|       Alaska|           2110|  Juneau Borough, AK|           2110|  Juneau Borough, AK|       27940|          Juneau, AK|       27940|          Juneau, AK|    56|Administrative an...|   561|Administrative an...|  5613| Employment Services| 56132|Temporary Help Se...|561320|Temporary Help Se...|ET21DDA63780A7DC09|  Oracle Consultants|oracle consultant...|KS122626T550SLQ7QZ1C|         Procurement|KS122626T550SLQ7QZ1C|            Procurement|                null|                null|                null|               null|BGSBF3F508F7F46312E3|Oracle Business I...|15-2051.01|Business Intellig...|15-2051.01|Business Intellig...|   null|                null| null|                null|null|                null|   15-0000|Computer and Math...|   15-2000|Mathematical Scie...|   15-2050|Data Scientists|   15-2051|Data Scientists|             23|Information Techn...|        231010|Business Intellig...|                  23101012|           Oracle Consultant...|                2310|     Business Intellig...|                     23101012|              Oracle Consultant...|           231010|  Business Intellig...|                   2310|        Business Intellig...|                23|   Information Techn...|15-0000|Computer and Math...|15-2000|Mathematical Scie...|15-2050|Data Scientists|15-2051|Data Scientists|             null|                  null|          56|Administrative an...|         561|Administrative an...|        5613| Employment Services|       56132|Temporary Help Se...|      561320|Temporary Help Se...|\n",
      "|f28123528a32b8c9b...|2024-09-06 00:00:00|  2024-09-06 16:32:...|         0|2024-06-02 00:00:00|2024-08-01 00:00:00|      60|     Company|          sca.health|https://careers.s...|         []|               null| Principal Architect|Principal Archite...|2024-08-01 00:00:00|              60| 39192167|Surgical Care Aff...|Surgical Care Aff...|              false|               2|    Bachelor's degree|            2|  Bachelor's degree|         null|              null|              1|Full-time (> 32 h...|                   8|                   8|        false|  null|          0|          [None]|               year|   170000|     160000|\"lat\": 33.5185892...|QmlybWluZ2hhbSwgQUw=|    Birmingham, AL|  1073|       Jefferson, AL|13820|Birmingham-Hoover...|    1|      Alabama|           1073|       Jefferson, AL|           1073|       Jefferson, AL|       13820|Birmingham-Hoover...|       13820|      Birmingham, AL|    62|Health Care and S...|   621|Ambulatory Health...|  6214|Outpatient Care C...| 62149|Other Outpatient ...|621493|Freestanding Ambu...|ET7767EEDBF263F7B7|Principal Architects| principal architect|ES99B020D66F6670BCA6| Business Objectives|ES4B99FD0FD70AC92985|   Infrastructure Ar...|KS125K065BR2Y4TWV4M9|Juniper Networks ...|ES99B020D66F6670BCA6|Business Objectives|KS120V86MZWV9Z9LKQY3|     Microsoft Azure|15-2051.01|Business Intellig...|15-2051.01|Business Intellig...|   null|                null| null|                null|null|                null|   15-0000|Computer and Math...|   15-2000|Mathematical Scie...|   15-2050|Data Scientists|   15-2051|Data Scientists|             23|Information Techn...|        231510|Computer Systems ...|                  23151012|           Enterprise Architect|                2315|     Network and Syste...|                     23151012|              Enterprise Architect|           231510|  Computer Systems ...|                   2315|        Network and Syste...|                23|   Information Techn...|15-0000|Computer and Math...|15-2000|Mathematical Scie...|15-2050|Data Scientists|15-2051|Data Scientists|             null|         Cybersecurity|          62|Health Care and S...|         621|Ambulatory Health...|        6214|Outpatient Care C...|       62149|Other Outpatient ...|      621493|Freestanding Ambu...|\n",
      "|b4e618e8d2a2b6744...|2024-10-09 00:00:00|  2024-10-09 14:07:...|         2|2024-06-02 00:00:00|2024-08-11 00:00:00|      70|   Job Board|castrovalleyrecru...|https://www.simpl...|         []|               null|Principal growth ...|Principal growth ...|2024-07-27 00:00:00|              55| 40794223|Aircall Internati...|             Aircall|              false|              99|  No Education Listed|           99|No Education Listed|         null|              null|              1|Full-time (> 32 h...|                   6|                null|        false|170000|          0|          [None]|               year|   220000|     120000|\"lat\": 37.7749295...|U2FuIEZyYW5jaXNjb...| San Francisco, CA|  6075|   San Francisco, CA|41860|San Francisco-Oak...|    6|   California|           6075|   San Francisco, CA|           6075|   San Francisco, CA|       41860|San Francisco-Oak...|       41860|San Francisco-Oak...|    99|Unclassified Indu...|   999|Unclassified Indu...|  9999|Unclassified Indu...| 99999|Unclassified Indu...|999999|Unclassified Indu...|ET54F46C4290228B21|     Growth Analysts|principal growth ...|ESA420F05EBBD34B3C2A|           Curiosity|KS1218H6QYLZC35BYH32|   Business Continui...|                null|                null|ESA420F05EBBD34B3C2A|          Curiosity|KS1200364C9C1LK3V5Q1|C (Programming La...|15-2051.01|Business Intellig...|15-2051.01|Business Intellig...|   null|                null| null|                null|null|                null|   15-0000|Computer and Math...|   15-2000|Mathematical Scie...|   15-2050|Data Scientists|   15-2051|Data Scientists|             23|Information Techn...|        231113|Data / Data Minin...|                  23111310|                   Data Analyst|                2311|     Data Analysis and...|                     23111310|                      Data Analyst|           231113|  Data / Data Minin...|                   2311|        Data Analysis and...|                23|   Information Techn...|15-0000|Computer and Math...|15-2000|Mathematical Scie...|15-2050|Data Scientists|15-2051|Data Scientists|             null|  Data Privacy/Prot...|          99|Unclassified Indu...|         999|Unclassified Indu...|        9999|Unclassified Indu...|       99999|Unclassified Indu...|      999999|Unclassified Indu...|\n",
      "+--------------------+-------------------+----------------------+----------+-------------------+-------------------+--------+------------+--------------------+--------------------+-----------+-------------------+--------------------+--------------------+-------------------+----------------+---------+--------------------+--------------------+-------------------+----------------+---------------------+-------------+-------------------+-------------+------------------+---------------+--------------------+--------------------+--------------------+-------------+------+-----------+----------------+-------------------+---------+-----------+--------------------+--------------------+------------------+------+--------------------+-----+--------------------+-----+-------------+---------------+--------------------+---------------+--------------------+------------+--------------------+------------+--------------------+------+--------------------+------+--------------------+------+--------------------+------+--------------------+------+--------------------+------------------+--------------------+--------------------+--------------------+--------------------+--------------------+-----------------------+--------------------+--------------------+--------------------+-------------------+--------------------+--------------------+----------+--------------------+----------+--------------------+-------+--------------------+-----+--------------------+----+--------------------+----------+--------------------+----------+--------------------+----------+---------------+----------+---------------+---------------+--------------------+--------------+--------------------+--------------------------+-------------------------------+--------------------+-------------------------+-----------------------------+----------------------------------+-----------------+----------------------+-----------------------+----------------------------+------------------+-----------------------+-------+--------------------+-------+--------------------+-------+---------------+-------+---------------+-----------------+----------------------+------------+--------------------+------------+--------------------+------------+--------------------+------------+--------------------+------------+--------------------+\n",
      "only showing top 20 rows\n",
      "\n"
     ]
    }
   ],
   "source": [
    "import pandas as pd\n",
    "import plotly.express as px\n",
    "import plotly.io as pio\n",
    "pio.renderers.default = \"vscode\"\n",
    "from pyspark.sql import SparkSession\n",
    "from pyspark.sql.functions import split, explode, col, regexp_replace, transform, isnan\n",
    "\n",
    "spark = SparkSession.builder.appName(\"LightcastCleanedData\").getOrCreate()\n",
    "\n",
    "# 重新加载处理后的数据\n",
    "df_cleaned = spark.read.option(\"header\", \"true\").option(\"inferSchema\", \"true\").option(\"multiLine\",\"true\").csv(\"data/lightcast_cleaned.csv\")\n",
    "\n",
    "# 查看数据结构和样本\n",
    "df_cleaned.show()"
   ]
  }
 ],
 "metadata": {
  "kernelspec": {
   "display_name": ".venv",
   "language": "python",
   "name": "python3"
  },
  "language_info": {
   "codemirror_mode": {
    "name": "ipython",
    "version": 3
   },
   "file_extension": ".py",
   "mimetype": "text/x-python",
   "name": "python",
   "nbconvert_exporter": "python",
   "pygments_lexer": "ipython3",
   "version": "3.12.3"
  }
 },
 "nbformat": 4,
 "nbformat_minor": 5
}
