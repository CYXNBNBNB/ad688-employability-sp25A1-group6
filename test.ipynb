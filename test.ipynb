{
 "cells": [
  {
   "cell_type": "code",
   "execution_count": 24,
   "id": "6bf3d0b9",
   "metadata": {},
   "outputs": [
    {
     "name": "stderr",
     "output_type": "stream",
     "text": [
      "25/04/20 06:04:55 WARN SparkSession: Using an existing Spark session; only runtime SQL configurations will take effect.\n",
      "[Stage 593:>                                                        (0 + 1) / 1]\r"
     ]
    },
    {
     "name": "stdout",
     "output_type": "stream",
     "text": [
      "+--------------------+-----------------+----------------------+----------+----------+----------+--------+--------------------+--------------------+--------------------+-----------+-------------------+--------------------+--------------------+---------------+----------------+---------+--------------------+--------------------+-------------------+----------------+---------------------+-------------+-------------------+-------------+------------------+---------------+--------------------+--------------------+--------------------+-------------+------+-----------+----------------+-------------------+---------+-----------+--------------------+--------------------+------------------+------+--------------------+-----+--------------------+-----+-------------+---------------+--------------------+---------------+--------------------+------------+--------------------+------------+--------------------+------+--------------------+------+--------------------+------+--------------------+------+--------------------+------+--------------------+------------------+--------------------+--------------------+--------------------+--------------------+--------------------+-----------------------+--------------------+--------------------+--------------------+--------------------+--------------------+--------------------+----------+--------------------+----------+--------------------+--------------------+--------------------+--------------------+--------------------+--------------+--------------------+----------+--------------------+----------+--------------------+----------+---------------+----------+---------------+---------------+--------------------+--------------+--------------------+--------------------------+-------------------------------+--------------------+-------------------------+-----------------------------+----------------------------------+-----------------+----------------------+-----------------------+----------------------------+------------------+-----------------------+-------+--------------------+-------+--------------------+-------+---------------+-------+---------------+-----------------+----------------------+------------+--------------------+------------+--------------------+------------+--------------------+------------+--------------------+------------+--------------------+\n",
      "|                  ID|LAST_UPDATED_DATE|LAST_UPDATED_TIMESTAMP|DUPLICATES|    POSTED|   EXPIRED|DURATION|        SOURCE_TYPES|             SOURCES|                 URL|ACTIVE_URLS|ACTIVE_SOURCES_INFO|           TITLE_RAW|                BODY|MODELED_EXPIRED|MODELED_DURATION|  COMPANY|        COMPANY_NAME|         COMPANY_RAW|COMPANY_IS_STAFFING|EDUCATION_LEVELS|EDUCATION_LEVELS_NAME|MIN_EDULEVELS| MIN_EDULEVELS_NAME|MAX_EDULEVELS|MAX_EDULEVELS_NAME|EMPLOYMENT_TYPE|EMPLOYMENT_TYPE_NAME|MIN_YEARS_EXPERIENCE|MAX_YEARS_EXPERIENCE|IS_INTERNSHIP|SALARY|REMOTE_TYPE|REMOTE_TYPE_NAME|ORIGINAL_PAY_PERIOD|SALARY_TO|SALARY_FROM|            LOCATION|                CITY|         CITY_NAME|COUNTY|         COUNTY_NAME|  MSA|            MSA_NAME|STATE|   STATE_NAME|COUNTY_OUTGOING|COUNTY_NAME_OUTGOING|COUNTY_INCOMING|COUNTY_NAME_INCOMING|MSA_OUTGOING|   MSA_NAME_OUTGOING|MSA_INCOMING|   MSA_NAME_INCOMING|NAICS2|         NAICS2_NAME|NAICS3|         NAICS3_NAME|NAICS4|         NAICS4_NAME|NAICS5|         NAICS5_NAME|NAICS6|         NAICS6_NAME|             TITLE|          TITLE_NAME|         TITLE_CLEAN|              SKILLS|         SKILLS_NAME|  SPECIALIZED_SKILLS|SPECIALIZED_SKILLS_NAME|      CERTIFICATIONS| CERTIFICATIONS_NAME|       COMMON_SKILLS|  COMMON_SKILLS_NAME|     SOFTWARE_SKILLS|SOFTWARE_SKILLS_NAME|      ONET|           ONET_NAME| ONET_2019|      ONET_2019_NAME|                CIP6|           CIP6_NAME|                CIP4|           CIP4_NAME|          CIP2|           CIP2_NAME|SOC_2021_2|     SOC_2021_2_NAME|SOC_2021_3|     SOC_2021_3_NAME|SOC_2021_4|SOC_2021_4_NAME|SOC_2021_5|SOC_2021_5_NAME|LOT_CAREER_AREA|LOT_CAREER_AREA_NAME|LOT_OCCUPATION| LOT_OCCUPATION_NAME|LOT_SPECIALIZED_OCCUPATION|LOT_SPECIALIZED_OCCUPATION_NAME|LOT_OCCUPATION_GROUP|LOT_OCCUPATION_GROUP_NAME|LOT_V6_SPECIALIZED_OCCUPATION|LOT_V6_SPECIALIZED_OCCUPATION_NAME|LOT_V6_OCCUPATION|LOT_V6_OCCUPATION_NAME|LOT_V6_OCCUPATION_GROUP|LOT_V6_OCCUPATION_GROUP_NAME|LOT_V6_CAREER_AREA|LOT_V6_CAREER_AREA_NAME|  SOC_2|          SOC_2_NAME|  SOC_3|          SOC_3_NAME|  SOC_4|     SOC_4_NAME|  SOC_5|     SOC_5_NAME|LIGHTCAST_SECTORS|LIGHTCAST_SECTORS_NAME|NAICS_2022_2|   NAICS_2022_2_NAME|NAICS_2022_3|   NAICS_2022_3_NAME|NAICS_2022_4|   NAICS_2022_4_NAME|NAICS_2022_5|   NAICS_2022_5_NAME|NAICS_2022_6|   NAICS_2022_6_NAME|\n",
      "+--------------------+-----------------+----------------------+----------+----------+----------+--------+--------------------+--------------------+--------------------+-----------+-------------------+--------------------+--------------------+---------------+----------------+---------+--------------------+--------------------+-------------------+----------------+---------------------+-------------+-------------------+-------------+------------------+---------------+--------------------+--------------------+--------------------+-------------+------+-----------+----------------+-------------------+---------+-----------+--------------------+--------------------+------------------+------+--------------------+-----+--------------------+-----+-------------+---------------+--------------------+---------------+--------------------+------------+--------------------+------------+--------------------+------+--------------------+------+--------------------+------+--------------------+------+--------------------+------+--------------------+------------------+--------------------+--------------------+--------------------+--------------------+--------------------+-----------------------+--------------------+--------------------+--------------------+--------------------+--------------------+--------------------+----------+--------------------+----------+--------------------+--------------------+--------------------+--------------------+--------------------+--------------+--------------------+----------+--------------------+----------+--------------------+----------+---------------+----------+---------------+---------------+--------------------+--------------+--------------------+--------------------------+-------------------------------+--------------------+-------------------------+-----------------------------+----------------------------------+-----------------+----------------------+-----------------------+----------------------------+------------------+-----------------------+-------+--------------------+-------+--------------------+-------+---------------+-------+---------------+-----------------+----------------------+------------+--------------------+------------+--------------------+------------+--------------------+------------+--------------------+------------+--------------------+\n",
      "|1f57d95acf4dc67ed...|       2024-09-06|  2024-09-07 04:32:...|         0|2024-06-02|2024-06-08|       6|             Company|       brassring.com|https://sjobs.bra...|         []|               NULL|Enterprise Analys...|31-May-2024\\n\\nEn...|     2024-06-08|               6|   894731|          Murphy USA|          Murphy USA|              false|               2|     Bachelor'sdegree|            2|  Bachelor's degree|         NULL|              NULL|              1|Full-time (> 32 h...|                   2|                   2|        false|  NULL|          0|         On-Site|               NULL|     NULL|       NULL|\"lat\": 33.20763, ...|RWwgRG9yYWRvLCBBUg==|     El Dorado, AR|  5139|           Union, AR|20980|       El Dorado, AR|    5|     Arkansas|           5139|           Union, AR|           5139|           Union, AR|       20980|       El Dorado, AR|       20980|       El Dorado, AR|    44|        Retail Trade|   441|Motor Vehicle and...|  4413|Automotive Parts,...| 44133|Automotive Parts ...|441330|Automotive Parts ...|ET29C073C03D1F86B4| Enterprise Analysts|enterprise analys...|KS126DB6T061MHD7R...|Merchandising, Ma...|KS126DB6T061MHD7R...|   Merchandising, Pr...|                NULL|                NULL|KS126706DPFD3354M...|Mathematics, Pres...|KS440W865GC4VRBW6...|SQL(ProgrammingLa...|15-2051.01|Business Intellig...|15-2051.01|Business Intellig...|    45.0601, 27.0101|Economics,General...|        45.06, 27.01|Economics, Mathem...|        45, 27|SocialSciences, M...|   15-0000|Computer and Math...|   15-2000|Mathematical Scie...|   15-2050|Data Scientists|   15-2051|Data Scientists|             23|Information Techn...|        231010|Business Intellig...|                  23101011|           General ERP Analy...|                2310|     Business Intellig...|                     23101011|              General ERP Analy...|           231010|  Business Intellig...|                   2310|        Business Intellig...|                23|   Information Techn...|15-0000|Computer and Math...|15-2000|Mathematical Scie...|15-2050|Data Scientists|15-2051|Data Scientists|                7|  ArtificialIntelli...|          44|        Retail Trade|         441|Motor Vehicle and...|        4413|Automotive Parts,...|       44133|Automotive Parts ...|      441330|Automotive Parts ...|\n",
      "|0cb072af26757b6c4...|       2024-08-02|  2024-08-03 01:08:...|         0|2024-06-02|2024-08-01|      60|            JobBoard|           maine.gov|https://joblink.m...|         []|               NULL|Oracle Consultant...|Oracle Consultant...|     2024-08-01|              60|   133098|Smx Corporation L...|                 SMX|               true|              99|    NoEducationListed|           99|No Education Listed|         NULL|              NULL|              1|Full-time (> 32 h...|                   3|                   3|        false|  NULL|          1|          Remote|               NULL|     NULL|       NULL|\"lat\": 44.3106241...|    QXVndXN0YSwgTUU=|       Augusta, ME| 23011|        Kennebec, ME|12300|Augusta-Watervill...|   23|        Maine|          23011|        Kennebec, ME|          23011|        Kennebec, ME|       12300|Augusta-Watervill...|       12300|Augusta-Watervill...|    56|Administrative an...|   561|Administrative an...|  5613| Employment Services| 56132|Temporary Help Se...|561320|Temporary Help Se...|ET21DDA63780A7DC09|  Oracle Consultants|oracle consultant...|KS122626T550SLQ7Q...|Procurement, Fina...|KS122626T550SLQ7Q...|   Procurement, Fina...|                NULL|                NULL|                NULL|                NULL|BGSBF3F508F7F4631...|OracleBusinessInt...|15-2051.01|Business Intellig...|15-2051.01|Business Intellig...|                NULL|                NULL|                NULL|                NULL|          NULL|                NULL|   15-0000|Computer and Math...|   15-2000|Mathematical Scie...|   15-2050|Data Scientists|   15-2051|Data Scientists|             23|Information Techn...|        231010|Business Intellig...|                  23101012|           Oracle Consultant...|                2310|     Business Intellig...|                     23101012|              Oracle Consultant...|           231010|  Business Intellig...|                   2310|        Business Intellig...|                23|   Information Techn...|15-0000|Computer and Math...|15-2000|Mathematical Scie...|15-2050|Data Scientists|15-2051|Data Scientists|             NULL|                  NULL|          56|Administrative an...|         561|Administrative an...|        5613| Employment Services|       56132|Temporary Help Se...|      561320|Temporary Help Se...|\n",
      "|85318b12b3331fa49...|       2024-09-06|  2024-09-07 04:32:...|         1|2024-06-02|2024-07-07|      35|            JobBoard|          dejobs.org|https://dejobs.or...|         []|               NULL|        Data Analyst|Taking care of pe...|     2024-06-10|               8| 39063746|            Sedgwick|            Sedgwick|              false|               2|     Bachelor'sdegree|            2|  Bachelor's degree|         NULL|              NULL|              1|Full-time (> 32 h...|                   5|                NULL|        false|  NULL|          0|         On-Site|               NULL|     NULL|       NULL|\"lat\": 32.7766642...|    RGFsbGFzLCBUWA==|        Dallas, TX| 48113|          Dallas, TX|19100|Dallas-Fort Worth...|   48|        Texas|          48113|          Dallas, TX|          48113|          Dallas, TX|       19100|Dallas-Fort Worth...|       19100|Dallas-Fort Worth...|    52|Finance and Insur...|   524|Insurance Carrier...|  5242|Agencies, Brokera...| 52429|Other Insurance R...|524291|    Claims Adjusting|ET3037E0C947A02404|       Data Analysts|        data analyst|KS1218W78FGVPVP2K...|Management, Excep...|ESF3939CE1F80C10C...|   ExceptionReportin...|KS683TN76T77DQDVBZ1B|   SecurityClearance|KS1218W78FGVPVP2K...|Management, Repor...|KS126HY6YLTB9R7XJC4Z|     MicrosoftOffice|15-2051.01|Business Intellig...|15-2051.01|Business Intellig...|                NULL|                NULL|                NULL|                NULL|          NULL|                NULL|   15-0000|Computer and Math...|   15-2000|Mathematical Scie...|   15-2050|Data Scientists|   15-2051|Data Scientists|             23|Information Techn...|        231113|Data / Data Minin...|                  23111310|                   Data Analyst|                2311|     Data Analysis and...|                     23111310|                      Data Analyst|           231113|  Data / Data Minin...|                   2311|        Data Analysis and...|                23|   Information Techn...|15-0000|Computer and Math...|15-2000|Mathematical Scie...|15-2050|Data Scientists|15-2051|Data Scientists|             NULL|                  NULL|          52|Finance and Insur...|         524|Insurance Carrier...|        5242|Agencies, Brokera...|       52429|Other Insurance R...|      524291|    Claims Adjusting|\n",
      "|1b5c3941e54a1889e...|       2024-09-06|  2024-09-07 04:32:...|         1|2024-06-02|2024-07-20|      48|            JobBoard|disabledperson.co...|https://www.disab...|         []|               NULL|Sr. Lead Data Mgm...|About this role:\\...|     2024-06-12|              10| 37615159|         Wells Fargo|         Wells Fargo|              false|              99|    NoEducationListed|           99|No Education Listed|         NULL|              NULL|              1|Full-time (> 32 h...|                   3|                NULL|        false|  NULL|          0|         On-Site|               NULL|     NULL|       NULL|\"lat\": 33.4483771...|    UGhvZW5peCwgQVo=|       Phoenix, AZ|  4013|        Maricopa, AZ|38060|Phoenix-Mesa-Chan...|    4|      Arizona|           4013|        Maricopa, AZ|           4013|        Maricopa, AZ|       38060|Phoenix-Mesa-Chan...|       38060|Phoenix-Mesa-Chan...|    52|Finance and Insur...|   522|Credit Intermedia...|  5221|Depository Credit...| 52211|  Commercial Banking|522110|  Commercial Banking|ET2114E0404BA30075| Management Analysts|sr lead data mgmt...|KS123QX62QYTC4JF3...|ExitStrategies, R...|KS123QX62QYTC4JF3...|   ExitStrategies, U...|                NULL|                NULL|KS7G6NP6R6L1H1SKF...|Reliability, Mana...|KS4409D76NW1S5LNC...|SAS(Software), Go...|15-2051.01|Business Intellig...|15-2051.01|Business Intellig...|                NULL|                NULL|                NULL|                NULL|          NULL|                NULL|   15-0000|Computer and Math...|   15-2000|Mathematical Scie...|   15-2050|Data Scientists|   15-2051|Data Scientists|             23|Information Techn...|        231113|Data / Data Minin...|                  23111310|                   Data Analyst|                2311|     Data Analysis and...|                     23111310|                      Data Analyst|           231113|  Data / Data Minin...|                   2311|        Data Analysis and...|                23|   Information Techn...|15-0000|Computer and Math...|15-2000|Mathematical Scie...|15-2050|Data Scientists|15-2051|Data Scientists|                6|  DataPrivacy/Prote...|          52|Finance and Insur...|         522|Credit Intermedia...|        5221|Depository Credit...|       52211|  Commercial Banking|      522110|  Commercial Banking|\n",
      "|cb5ca25f02bdf25c1...|       2024-06-19|   2024-06-19 15:00:00|         0|2024-06-02|2024-06-17|      15|        FreeJobBoard|      craigslist.org|https://modesto.c...|         []|               NULL|Comisiones de $10...|Comisiones de $10...|     2024-06-17|              15|        0|        Unclassified|               LH/GM|              false|              99|    NoEducationListed|           99|No Education Listed|         NULL|              NULL|              3|Part-time / full-...|                NULL|                NULL|        false| 92500|          0|         On-Site|               year|   150000|      35000|\"lat\": 37.6392595...|    TW9kZXN0bywgQ0E=|       Modesto, CA|  6099|      Stanislaus, CA|33700|         Modesto, CA|    6|   California|           6099|      Stanislaus, CA|           6099|      Stanislaus, CA|       33700|         Modesto, CA|       33700|         Modesto, CA|    99|Unclassified Indu...|   999|Unclassified Indu...|  9999|Unclassified Indu...| 99999|Unclassified Indu...|999999|Unclassified Indu...|ET0000000000000000|        Unclassified|comisiones de por...|                NULL|                NULL|                NULL|                   NULL|                NULL|                NULL|                NULL|                NULL|                NULL|                NULL|15-2051.01|Business Intellig...|15-2051.01|Business Intellig...|                NULL|                NULL|                NULL|                NULL|          NULL|                NULL|   15-0000|Computer and Math...|   15-2000|Mathematical Scie...|   15-2050|Data Scientists|   15-2051|Data Scientists|             23|Information Techn...|        231010|Business Intellig...|                  23101012|           Oracle Consultant...|                2310|     Business Intellig...|                     23101012|              Oracle Consultant...|           231010|  Business Intellig...|                   2310|        Business Intellig...|                23|   Information Techn...|15-0000|Computer and Math...|15-2000|Mathematical Scie...|15-2050|Data Scientists|15-2051|Data Scientists|             NULL|                  NULL|          99|Unclassified Indu...|         999|Unclassified Indu...|        9999|Unclassified Indu...|       99999|Unclassified Indu...|      999999|Unclassified Indu...|\n",
      "|35a6cd2183d9fb270...|       2024-09-06|  2024-09-07 04:32:...|         0|2024-06-02|2024-06-12|      10|            JobBoard|          dejobs.org|https://dejobs.or...|         []|               NULL|SR Lead Data Analyst|About Lumen\\n\\nLu...|     2024-06-12|              10|  2233642|  Lumen Technologies|               Lumen|              false|               2|     Bachelor'sdegree|            2|  Bachelor's degree|         NULL|              NULL|              1|Full-time (> 32 h...|                NULL|                NULL|        false|110155|          1|          Remote|               year|   125890|      94420|  \"lat\": 0, \"lon\": 0|W1Vua25vd24gQ2l0e...|[Unknown City], AR|  5999|[Unknown county], AR| NULL|                NULL|    5|     Arkansas|           5999|[Unknown county], AR|           5999|[Unknown county], AR|        NULL|                NULL|        NULL|                NULL|    51|         Information|   517|  Telecommunications|  5178|All Other Telecom...| 51781|All Other Telecom...|517810|All Other Telecom...|ET95DB859B53CCACA7|  Lead Data Analysts|sr lead data analyst|KS13USA80NE38XJHA...|PowerBI, Presenta...|KS13USA80NE38XJHA...|   PowerBI, QlikSens...|                NULL|                NULL|KS1280B68GD79P4WM...|Presentations, Da...|KS13USA80NE38XJHA...|PowerBI, QlikSens...|15-2051.01|Business Intellig...|15-2051.01|Business Intellig...|             52.0201|BusinessAdministr...|               52.02|BusinessAdministr...|            52|Business,Manageme...|   15-0000|Computer and Math...|   15-2000|Mathematical Scie...|   15-2050|Data Scientists|   15-2051|Data Scientists|             23|Information Techn...|        231113|Data / Data Minin...|                  23111310|                   Data Analyst|                2311|     Data Analysis and...|                     23111310|                      Data Analyst|           231113|  Data / Data Minin...|                   2311|        Data Analysis and...|                23|   Information Techn...|15-0000|Computer and Math...|15-2000|Mathematical Scie...|15-2050|Data Scientists|15-2051|Data Scientists|             NULL|                  NULL|          51|         Information|         517|  Telecommunications|        5178|All Other Telecom...|       51781|All Other Telecom...|      517810|All Other Telecom...|\n",
      "|06de8d192f30b1d8d...|       2024-08-02|  2024-08-03 01:08:...|         0|2024-06-02|2024-08-01|      60|             Company|     oraclecloud.com|https://hctz.fa.u...|         []|               NULL| Talent Data Analyst|Id : 2501314,\\nTi...|     2024-06-22|              20| 44896740|Semiconductor Com...|Semiconductor Com...|              false|               2|     Bachelor'sdegree|            2|  Bachelor's degree|         NULL|              NULL|              1|Full-time (> 32 h...|                NULL|                NULL|        false|  NULL|          0|         On-Site|               NULL|     NULL|       NULL|\"lat\": 33.4941704...|U2NvdHRzZGFsZSwgQVo=|    Scottsdale, AZ|  4013|        Maricopa, AZ|38060|Phoenix-Mesa-Chan...|    4|      Arizona|           4013|        Maricopa, AZ|           4013|        Maricopa, AZ|       38060|Phoenix-Mesa-Chan...|       38060|Phoenix-Mesa-Chan...|    31|       Manufacturing|   334|Computer and Elec...|  3344|Semiconductor and...| 33441|Semiconductor and...|334413|Semiconductor and...|ETA9B609BE4E431E44|    IT Data Analysts| talent data analyst|KS1250B78VWB0P2L3...|InteractiveDataLa...|KS1250B78VWB0P2L3...|   InteractiveDataLa...|                NULL|                NULL|ESFA9982A2A945E43...|AnalyticalSkills,...|KS1250B78VWB0P2L3N40|InteractiveDataLa...|15-2051.01|Business Intellig...|15-2051.01|Business Intellig...|                NULL|                NULL|                NULL|                NULL|          NULL|                NULL|   15-0000|Computer and Math...|   15-2000|Mathematical Scie...|   15-2050|Data Scientists|   15-2051|Data Scientists|             23|Information Techn...|        231113|Data / Data Minin...|                  23111310|                   Data Analyst|                2311|     Data Analysis and...|                     23111310|                      Data Analyst|           231113|  Data / Data Minin...|                   2311|        Data Analysis and...|                23|   Information Techn...|15-0000|Computer and Math...|15-2000|Mathematical Scie...|15-2050|Data Scientists|15-2051|Data Scientists|             NULL|                  NULL|          31|       Manufacturing|         334|Computer and Elec...|        3344|Semiconductor and...|       33441|Semiconductor and...|      334413|Semiconductor and...|\n",
      "|3d589c9d84677ca94...|       2024-09-06|  2024-09-07 04:32:...|         1|2024-06-02|2024-07-07|      35|            JobBoard|          dejobs.org|https://dejobs.or...|         []|               NULL|        Data Analyst|Taking care of pe...|     2024-06-10|               8| 39063746|            Sedgwick|            Sedgwick|              false|               2|     Bachelor'sdegree|            2|  Bachelor's degree|         NULL|              NULL|              1|Full-time (> 32 h...|                   5|                NULL|        false|  NULL|          0|         On-Site|               NULL|     NULL|       NULL|\"lat\": 39.7589478...|    RGF5dG9uLCBPSA==|        Dayton, OH| 39113|      Montgomery, OH|19430|Dayton-Kettering, OH|   39|         Ohio|          39113|      Montgomery, OH|          39113|      Montgomery, OH|       19430|Dayton-Kettering, OH|       19430|Dayton-Kettering-...|    52|Finance and Insur...|   524|Insurance Carrier...|  5242|Agencies, Brokera...| 52429|Other Insurance R...|524291|    Claims Adjusting|ET3037E0C947A02404|       Data Analysts|        data analyst|KS1218W78FGVPVP2K...|Management, Excep...|ESF3939CE1F80C10C...|   ExceptionReportin...|KS683TN76T77DQDVBZ1B|   SecurityClearance|KS1218W78FGVPVP2K...|Management, Repor...|KS126HY6YLTB9R7XJC4Z|     MicrosoftOffice|15-2051.01|Business Intellig...|15-2051.01|Business Intellig...|                NULL|                NULL|                NULL|                NULL|          NULL|                NULL|   15-0000|Computer and Math...|   15-2000|Mathematical Scie...|   15-2050|Data Scientists|   15-2051|Data Scientists|             23|Information Techn...|        231113|Data / Data Minin...|                  23111310|                   Data Analyst|                2311|     Data Analysis and...|                     23111310|                      Data Analyst|           231113|  Data / Data Minin...|                   2311|        Data Analysis and...|                23|   Information Techn...|15-0000|Computer and Math...|15-2000|Mathematical Scie...|15-2050|Data Scientists|15-2051|Data Scientists|             NULL|                  NULL|          52|Finance and Insur...|         524|Insurance Carrier...|        5242|Agencies, Brokera...|       52429|Other Insurance R...|      524291|    Claims Adjusting|\n",
      "|5a843df632e1ff756...|       2024-06-21|   2024-06-21 15:00:00|         0|2024-06-02|2024-06-20|      18|            JobBoard|    computerwork.com|http://computerwo...|         []|               NULL|SAP SD/OTC Consul...|SAP SD/OTC Consul...|     2024-06-20|              18|100173263|Global Enterprise...|Global Enterprise...|               true|              99|    NoEducationListed|           99|No Education Listed|         NULL|              NULL|              1|Full-time (> 32 h...|                   7|                   7|        false|  NULL|          0|         On-Site|               NULL|     NULL|       NULL|\"lat\": 41.1220409...|    RnJhbmtsaW4sIE5K|      Franklin, NJ| 34037|          Sussex, NJ|35620|New York-Newark-J...|   34|   New Jersey|          34037|          Sussex, NJ|          34037|          Sussex, NJ|       35620|New York-Newark-J...|       35620|New York-Newark-J...|    99|Unclassified Indu...|   999|Unclassified Indu...|  9999|Unclassified Indu...| 99999|Unclassified Indu...|999999|Unclassified Indu...|ET6244BCEEC5921581| SAP OTC Consultants|sap sd otc consul...|KS1200771D9CR9LB4...|JavaScript(Progra...|KS1200771D9CR9LB4...|   JavaScript(Progra...|                NULL|                NULL|                NULL|                NULL|KS1200771D9CR9LB4...|JavaScript(Progra...|15-2051.01|Business Intellig...|15-2051.01|Business Intellig...|                NULL|                NULL|                NULL|                NULL|          NULL|                NULL|   15-0000|Computer and Math...|   15-2000|Mathematical Scie...|   15-2050|Data Scientists|   15-2051|Data Scientists|             23|Information Techn...|        231010|Business Intellig...|                  23101011|           General ERP Analy...|                2310|     Business Intellig...|                     23101011|              General ERP Analy...|           231010|  Business Intellig...|                   2310|        Business Intellig...|                23|   Information Techn...|15-0000|Computer and Math...|15-2000|Mathematical Scie...|15-2050|Data Scientists|15-2051|Data Scientists|             NULL|                  NULL|          99|Unclassified Indu...|         999|Unclassified Indu...|        9999|Unclassified Indu...|       99999|Unclassified Indu...|      999999|Unclassified Indu...|\n",
      "|229620073766234e8...|       2024-10-09|  2024-10-10 02:07:...|         0|2024-06-02|2024-08-01|      60|             Company|             3ds.com|https://www.3ds.c...|         []|               NULL|Sr. Marketing Ana...|Sr. Marketing Ana...|     2024-08-01|              60| 39016169|   Dassault Systèmes|    Dassault Systmes|              false|               2| Bachelor'sdegree,...|            2|  Bachelor's degree|            3|   Master's degree|              1|Full-time (> 32 h...|                   2|                   2|        false| 92962|          0|         On-Site|               year|   106424|      79500|\"lat\": 40.7501, \"...|    TmV3IFlvcmssIE5Z|      New York, NY| 36061|        New York, NY|35620|New York-Newark-J...|   36|     New York|          36061|        New York, NY|          36061|        New York, NY|       35620|New York-Newark-J...|       35620|New York-Newark-J...|    54|Professional, Sci...|   541|Professional, Sci...|  5415|Computer Systems ...| 54151|Computer Systems ...|541511|Custom Computer P...|ET1CE3CFA5447376E9|  Marketing Analysts|sr marketing analyst|KS4407N6CMTCYT0NY...|Salesforce, Googl...|KS4407N6CMTCYT0NY...|   Salesforce, Googl...|                NULL|                NULL|KS7G747655VG23WXM...|Prioritization, G...|KS4407N6CMTCYT0NY...|Salesforce, Googl...|15-2051.01|Business Intellig...|15-2051.01|Business Intellig...|52.0101, 45.0601,...|Business/Commerce...|52.01, 45.06, 11....|Business/Commerce...|52, 45, 11, 30|Business,Manageme...|   15-0000|Computer and Math...|   15-2000|Mathematical Scie...|   15-2050|Data Scientists|   15-2051|Data Scientists|             23|Information Techn...|        231113|Data / Data Minin...|                  23111310|                   Data Analyst|                2311|     Data Analysis and...|                     23111310|                      Data Analyst|           231113|  Data / Data Minin...|                   2311|        Data Analysis and...|                23|   Information Techn...|15-0000|Computer and Math...|15-2000|Mathematical Scie...|15-2050|Data Scientists|15-2051|Data Scientists|                7|  ArtificialIntelli...|          54|Professional, Sci...|         541|Professional, Sci...|        5415|Computer Systems ...|       54151|Computer Systems ...|      541511|Custom Computer P...|\n",
      "|b7aa80a24c82f080c...|       2024-09-28|  2024-09-28 22:06:...|         8|2024-06-02|2024-09-27|     117|Government, Compa...|dcscorp.com, latp...|https://www.latpr...|         []|               NULL|        Data Analyst|Data Analyst In R...|     2024-07-13|              41| 12147696|     DCS Corporation|           DCS Corp.|              false|               0| HighschoolorGED, ...|            0| High school or GED|            2| Bachelor's degree|              1|Full-time (> 32 h...|                  10|                NULL|        false|107645|          2|         On-Site|               year|   123732|      91559|\"lat\": 35.6224561...|UmlkZ2VjcmVzdCwgQ0E=|    Ridgecrest, CA|  6029|            Kern, CA|12540|     Bakersfield, CA|    6|   California|           6029|            Kern, CA|           6029|            Kern, CA|       12540|     Bakersfield, CA|       12540|Bakersfield-Delan...|    42|     Wholesale Trade|   423|Merchant Wholesal...|  4238|Machinery, Equipm...| 42383|Industrial Machin...|423830|Industrial Machin...|ET3037E0C947A02404|       Data Analysts|        data analyst|KS128HD6KJSZMPK72...|RegressionTesting...|KS128HD6KJSZMPK72...|   RegressionTesting...|KS683TN76T77DQDVB...|SecurityClearance...|KS1203C6N9B52QGB4...|Research, Informa...|KS125LS6N7WP4S6SF...|Python(Programmin...|15-2051.01|Business Intellig...|15-2051.01|Business Intellig...|    14.0101, 14.1901|Engineering,Gener...|        14.01, 14.19|Engineering,Gener...|        14, 14|Engineering, Engi...|   15-0000|Computer and Math...|   15-2000|Mathematical Scie...|   15-2050|Data Scientists|   15-2051|Data Scientists|             23|Information Techn...|        231113|Data / Data Minin...|                  23111310|                   Data Analyst|                2311|     Data Analysis and...|                     23111310|                      Data Analyst|           231113|  Data / Data Minin...|                   2311|        Data Analysis and...|                23|   Information Techn...|15-0000|Computer and Math...|15-2000|Mathematical Scie...|15-2050|Data Scientists|15-2051|Data Scientists|             NULL|                  NULL|          42|     Wholesale Trade|         423|Merchant Wholesal...|        4238|Machinery, Equipm...|       42383|Industrial Machin...|      423830|Industrial Machin...|\n",
      "|2a107fd40bb1afac4...|       2024-06-17|   2024-06-17 15:00:00|         0|2024-06-02|2024-06-08|       6|            JobBoard|            dice.com|https://www.dice....|         []|               NULL|        Data Analyst|Data Analyst\\nTEK...|     2024-06-08|               6|  4063994|       Allegis Group|TEKsystems c/o Al...|               true|              99|    NoEducationListed|           99|No Education Listed|         NULL|              NULL|              1|Full-time (> 32 h...|                   2|                NULL|        false|  NULL|          0|         On-Site|               NULL|     NULL|       NULL|\"lat\": 21.3069444...|    SG9ub2x1bHUsIEhJ|      Honolulu, HI| 15003|        Honolulu, HI|46520|  Urban Honolulu, HI|   15|       Hawaii|          15003|        Honolulu, HI|          15003|        Honolulu, HI|       46520|  Urban Honolulu, HI|       46520|  Urban Honolulu, HI|    56|Administrative an...|   561|Administrative an...|  5613| Employment Services| 56132|Temporary Help Se...|561320|Temporary Help Se...|ET3037E0C947A02404|       Data Analysts|        data analyst|KS7LO8P3MXB93R3C9...|DataScience, Comm...|KS7LO8P3MXB93R3C9...|   DataScience, Data...|                NULL|                NULL|KS122556LMQ829GZC...|Communication, Qu...|KS440W865GC4VRBW6LJP|SQL(ProgrammingLa...|15-2051.01|Business Intellig...|15-2051.01|Business Intellig...|    11.0701, 30.7001|ComputerScience, ...|        11.07, 30.70|ComputerScience, ...|        11, 30|ComputerandInform...|   15-0000|Computer and Math...|   15-2000|Mathematical Scie...|   15-2050|Data Scientists|   15-2051|Data Scientists|             23|Information Techn...|        231113|Data / Data Minin...|                  23111310|                   Data Analyst|                2311|     Data Analysis and...|                     23111310|                      Data Analyst|           231113|  Data / Data Minin...|                   2311|        Data Analysis and...|                23|   Information Techn...|15-0000|Computer and Math...|15-2000|Mathematical Scie...|15-2050|Data Scientists|15-2051|Data Scientists|             NULL|                  NULL|          56|Administrative an...|         561|Administrative an...|        5613| Employment Services|       56132|Temporary Help Se...|      561320|Temporary Help Se...|\n",
      "|fd48c3ce533c3d20a...|       2024-09-06|  2024-09-07 04:32:...|         0|2024-06-02|2024-07-05|      33|            JobBoard|          dejobs.org|https://dejobs.or...|         []|               NULL|Data Research Ana...|The Data Research...|     2024-07-05|              33| 34294036|             Equifax|       Equifax, Inc.|              false|               2|     Bachelor'sdegree|            2|  Bachelor's degree|         NULL|              NULL|              1|Full-time (> 32 h...|                NULL|                NULL|        false|  NULL|          0|         On-Site|               NULL|     NULL|       NULL|  \"lat\": 0, \"lon\": 0|W1Vua25vd24gQ2l0e...|[Unknown City], GA| 13999|[Unknown county], GA| NULL|                NULL|   13|      Georgia|          13999|[Unknown county], GA|          13999|[Unknown county], GA|        NULL|                NULL|        NULL|                NULL|    52|Finance and Insur...|   522|Credit Intermedia...|  5223|Activities Relate...| 52232|Financial Transac...|522320|Financial Transac...|ET252B42EF548117CC|    Data Researchers|data research ana...|KS120GV6C72JMSZKM...|DataAnalysis, Res...|KS120GV6C72JMSZKM...|   DataAnalysis, Par...|                NULL|                NULL|KS1203C6N9B52QGB4...|Research, Analyti...|                NULL|                NULL|15-2051.01|Business Intellig...|15-2051.01|Business Intellig...|                NULL|                NULL|                NULL|                NULL|          NULL|                NULL|   15-0000|Computer and Math...|   15-2000|Mathematical Scie...|   15-2050|Data Scientists|   15-2051|Data Scientists|             23|Information Techn...|        231113|Data / Data Minin...|                  23111310|                   Data Analyst|                2311|     Data Analysis and...|                     23111310|                      Data Analyst|           231113|  Data / Data Minin...|                   2311|        Data Analysis and...|                23|   Information Techn...|15-0000|Computer and Math...|15-2000|Mathematical Scie...|15-2050|Data Scientists|15-2051|Data Scientists|             NULL|                  NULL|          52|Finance and Insur...|         522|Credit Intermedia...|        5223|Activities Relate...|       52232|Financial Transac...|      522320|Financial Transac...|\n",
      "|57b527ea0f91db5bb...|       2024-09-06|  2024-09-07 04:32:...|         0|2024-06-02|2024-07-27|      55|            JobBoard|     simplyhired.com|https://www.simpl...|         []|               NULL|Power, Utilities ...|Power, Utilities ...|     2024-07-27|              55|  5732448|            Deloitte|            Deloitte|              false|               2| Bachelor'sdegree,...|            2|  Bachelor's degree|            3|   Master's degree|              1|Full-time (> 32 h...|                   6|                NULL|        false|192800|          0|         On-Site|               year|   241000|     144600|\"lat\": 42.331427,...|    RGV0cm9pdCwgTUk=|       Detroit, MI| 26163|           Wayne, MI|19820|Detroit-Warren-De...|   26|     Michigan|          26163|           Wayne, MI|          26163|           Wayne, MI|       19820|Detroit-Warren-De...|       19820|Detroit-Warren-De...|    54|Professional, Sci...|   541|Professional, Sci...|  5416|Management, Scien...| 54161|Management Consul...|541611|Administrative Ma...|ET8AEDEB1F4C3091D3|Management Consul...|power utilities r...|KS122VL71WF050TPW...|DesignSpecificati...|KS122VL71WF050TPW...|   DesignSpecificati...|                NULL|                NULL|KS1218W78FGVPVP2K...|Management, Micro...|KS1219W70LY1GXZDS...|C++(ProgrammingLa...|15-2051.01|Business Intellig...|15-2051.01|Business Intellig...|             45.0702|GeographicInforma...|               45.07|GeographyandCarto...|            45|      SocialSciences|   15-0000|Computer and Math...|   15-2000|Mathematical Scie...|   15-2050|Data Scientists|   15-2051|Data Scientists|             23|Information Techn...|        231010|Business Intellig...|                  23101011|           General ERP Analy...|                2310|     Business Intellig...|                     23101011|              General ERP Analy...|           231010|  Business Intellig...|                   2310|        Business Intellig...|                23|   Information Techn...|15-0000|Computer and Math...|15-2000|Mathematical Scie...|15-2050|Data Scientists|15-2051|Data Scientists|                3|     GreenJobs:Enabled|          54|Professional, Sci...|         541|Professional, Sci...|        5416|Management, Scien...|       54161|Management Consul...|      541611|Administrative Ma...|\n",
      "|036cd733481fbcc98...|       2024-08-02|  2024-08-03 01:08:...|         0|2024-06-02|2024-08-01|      60|            JobBoard|              ms.gov|https://wings.mde...|         []|               NULL|Sr. Enterprise Da...|Sr. Enterprise Da...|     2024-06-14|              12| 38205299|Lincoln Financial...|Lincoln Financial...|              false|              99|    NoEducationListed|           99|No Education Listed|         NULL|              NULL|              1|Full-time (> 32 h...|                NULL|                NULL|        false| 81286|          1|          Remote|               year|    81286|      81286|\"lat\": 32.2987573...|    SmFja3NvbiwgTVM=|       Jackson, MS| 28049|           Hinds, MS|27140|         Jackson, MS|   28|  Mississippi|          28049|           Hinds, MS|          28049|           Hinds, MS|       27140|         Jackson, MS|       27140|         Jackson, MS|    52|Finance and Insur...|   523|Securities, Commo...|  5239|Other Financial I...| 52394|Portfolio Managem...|523940|Portfolio Managem...|ET0000000000000000|        Unclassified|sr enterprise dat...|KS122NM6B8TWBGL2X...|DataArchitecture,...|KS122NM6B8TWBGL2X18F|       DataArchitecture|ESE495A4017EB9404B8C|ValidDriver'sLicense|                NULL|                NULL|                NULL|                NULL|15-2051.01|Business Intellig...|15-2051.01|Business Intellig...|                NULL|                NULL|                NULL|                NULL|          NULL|                NULL|   15-0000|Computer and Math...|   15-2000|Mathematical Scie...|   15-2050|Data Scientists|   15-2051|Data Scientists|             23|Information Techn...|        231510|Computer Systems ...|                  23151012|           Enterprise Architect|                2315|     Network and Syste...|                     23151012|              Enterprise Architect|           231510|  Computer Systems ...|                   2315|        Network and Syste...|                23|   Information Techn...|15-0000|Computer and Math...|15-2000|Mathematical Scie...|15-2050|Data Scientists|15-2051|Data Scientists|             NULL|                  NULL|          52|Finance and Insur...|         523|Securities, Commo...|        5239|Other Financial I...|       52394|Portfolio Managem...|      523940|Portfolio Managem...|\n",
      "|138ce2c9453b47a9b...|       2024-08-10|  2024-08-11 03:36:...|         5|2024-06-02|2024-08-09|      68|JobBoard, Educati...|silkroad.com, her...|https://main.herc...|         []|               NULL|SENIOR CONSULTANT...|SENIOR CONSULTANT...|     2024-06-08|               6|     1967|   Boston University|   Boston University|              false|               1| Associatedegree, ...|            1|   Associate degree|            3|   Master's degree|              1|Full-time (> 32 h...|                   5|                   5|        false|  NULL|          1|          Remote|               NULL|     NULL|       NULL|\"lat\": 42.3600825...|    Qm9zdG9uLCBNQQ==|        Boston, MA| 25025|         Suffolk, MA|14460|Boston-Cambridge-...|   25|Massachusetts|          25025|         Suffolk, MA|          25025|         Suffolk, MA|       14460|Boston-Cambridge-...|       14460|Boston-Cambridge-...|    61|Educational Services|   611|Educational Services|  6113|Colleges, Univers...| 61131|Colleges, Univers...|611310|Colleges, Univers...|ET210B837B93B7B3F9|Continuous Improv...|senior consultant...|ESB38820A543FA4E3...|EffectiveCommunic...|ESB38820A543FA4E3...|   EffectiveCommunic...|KS7G2ZG794HDGQ4Z5...|CertifiedInvestme...|KS1280B68GD79P4WM...|Presentations, Bu...|                NULL|                NULL|15-2051.01|Business Intellig...|15-2051.01|Business Intellig...|             52.0201|BusinessAdministr...|               52.02|BusinessAdministr...|            52|Business,Manageme...|   15-0000|Computer and Math...|   15-2000|Mathematical Scie...|   15-2050|Data Scientists|   15-2051|Data Scientists|             23|Information Techn...|        231113|Data / Data Minin...|                  23111310|                   Data Analyst|                2311|     Data Analysis and...|                     23111310|                      Data Analyst|           231113|  Data / Data Minin...|                   2311|        Data Analysis and...|                23|   Information Techn...|15-0000|Computer and Math...|15-2000|Mathematical Scie...|15-2050|Data Scientists|15-2051|Data Scientists|             NULL|                  NULL|          61|Educational Services|         611|Educational Services|        6113|Colleges, Univers...|       61131|Colleges, Univers...|      611310|Colleges, Univers...|\n",
      "|dd191e2ce3062c371...|       2024-09-06|  2024-09-07 04:32:...|         0|2024-06-02|2024-06-20|      18|            JobBoard|phoenixrecruiter.com|https://www.phoen...|         []|               NULL| SAP FSCM Consultant|Job Description: ...|     2024-06-20|              18|  8592955|           Accenture|           Accenture|              false|               1| Associatedegree, ...|            1|   Associate degree|            2| Bachelor's degree|              1|Full-time (> 32 h...|                  12|                NULL|        false|125900|          0|         On-Site|               year|   188600|      63200|  \"lat\": 0, \"lon\": 0|W1Vua25vd24gQ2l0e...|[Unknown City], AZ|  4999|[Unknown county], AZ| NULL|                NULL|    4|      Arizona|           4999|[Unknown county], AZ|           4999|[Unknown county], AZ|        NULL|                NULL|        NULL|                NULL|    54|Professional, Sci...|   541|Professional, Sci...|  5415|Computer Systems ...| 54151|Computer Systems ...|541512|Computer Systems ...|ETF594A2C05D212506|Peoplesoft FSCM C...| sap fscm consultant|KS7G7VL78R2LKZZZC...|ProfitCenterAccou...|KS7G7VL78R2LKZZZC...|   ProfitCenterAccou...|                NULL|                NULL|KS122ZF75YVNLXW1B...|Digitization, Col...|KS7G7VL78R2LKZZZC...|ProfitCenterAccou...|15-2051.01|Business Intellig...|15-2051.01|Business Intellig...|                NULL|                NULL|                NULL|                NULL|          NULL|                NULL|   15-0000|Computer and Math...|   15-2000|Mathematical Scie...|   15-2050|Data Scientists|   15-2051|Data Scientists|             23|Information Techn...|        231010|Business Intellig...|                  23101011|           General ERP Analy...|                2310|     Business Intellig...|                     23101011|              General ERP Analy...|           231010|  Business Intellig...|                   2310|        Business Intellig...|                23|   Information Techn...|15-0000|Computer and Math...|15-2000|Mathematical Scie...|15-2050|Data Scientists|15-2051|Data Scientists|             NULL|                  NULL|          54|Professional, Sci...|         541|Professional, Sci...|        5415|Computer Systems ...|       54151|Computer Systems ...|      541512|Computer Systems ...|\n",
      "|99856b5a8a1c75d90...|       2024-09-06|  2024-09-07 04:32:...|         0|2024-06-02|2024-08-01|      60|          Government|          alaska.gov|https://alaskajob...|         []|               NULL|Oracle Consultant...|Onsite - Work ons...|     2024-07-10|              38|   133098|Smx Corporation L...|                 SMX|               true|              99|    NoEducationListed|           99|No Education Listed|         NULL|              NULL|              1|Full-time (> 32 h...|                   3|                   3|        false|  NULL|          1|          Remote|               NULL|     NULL|       NULL|\"lat\": 58.3019444...|    SnVuZWF1LCBBSw==|        Juneau, AK|  2110|  Juneau Borough, AK|27940|          Juneau, AK|    2|       Alaska|           2110|  Juneau Borough, AK|           2110|  Juneau Borough, AK|       27940|          Juneau, AK|       27940|          Juneau, AK|    56|Administrative an...|   561|Administrative an...|  5613| Employment Services| 56132|Temporary Help Se...|561320|Temporary Help Se...|ET21DDA63780A7DC09|  Oracle Consultants|oracle consultant...|KS122626T550SLQ7Q...|Procurement, Fina...|KS122626T550SLQ7Q...|   Procurement, Fina...|                NULL|                NULL|                NULL|                NULL|BGSBF3F508F7F4631...|OracleBusinessInt...|15-2051.01|Business Intellig...|15-2051.01|Business Intellig...|                NULL|                NULL|                NULL|                NULL|          NULL|                NULL|   15-0000|Computer and Math...|   15-2000|Mathematical Scie...|   15-2050|Data Scientists|   15-2051|Data Scientists|             23|Information Techn...|        231010|Business Intellig...|                  23101012|           Oracle Consultant...|                2310|     Business Intellig...|                     23101012|              Oracle Consultant...|           231010|  Business Intellig...|                   2310|        Business Intellig...|                23|   Information Techn...|15-0000|Computer and Math...|15-2000|Mathematical Scie...|15-2050|Data Scientists|15-2051|Data Scientists|             NULL|                  NULL|          56|Administrative an...|         561|Administrative an...|        5613| Employment Services|       56132|Temporary Help Se...|      561320|Temporary Help Se...|\n",
      "|f28123528a32b8c9b...|       2024-09-06|  2024-09-07 04:32:...|         0|2024-06-02|2024-08-01|      60|             Company|          sca.health|https://careers.s...|         []|               NULL| Principal Architect|Principal Archite...|     2024-08-01|              60| 39192167|Surgical Care Aff...|Surgical Care Aff...|              false|               2|     Bachelor'sdegree|            2|  Bachelor's degree|         NULL|              NULL|              1|Full-time (> 32 h...|                   8|                   8|        false|  NULL|          0|         On-Site|               year|   170000|     160000|\"lat\": 33.5185892...|QmlybWluZ2hhbSwgQUw=|    Birmingham, AL|  1073|       Jefferson, AL|13820|Birmingham-Hoover...|    1|      Alabama|           1073|       Jefferson, AL|           1073|       Jefferson, AL|       13820|Birmingham-Hoover...|       13820|      Birmingham, AL|    62|Health Care and S...|   621|Ambulatory Health...|  6214|Outpatient Care C...| 62149|Other Outpatient ...|621493|Freestanding Ambu...|ET7767EEDBF263F7B7|Principal Architects| principal architect|ES99B020D66F6670B...|BusinessObjective...|ES4B99FD0FD70AC92...|   InfrastructureArc...|KS125K065BR2Y4TWV...|JuniperNetworksCe...|ES99B020D66F6670B...|BusinessObjective...|KS120V86MZWV9Z9LK...|MicrosoftAzure, T...|15-2051.01|Business Intellig...|15-2051.01|Business Intellig...|                NULL|                NULL|                NULL|                NULL|          NULL|                NULL|   15-0000|Computer and Math...|   15-2000|Mathematical Scie...|   15-2050|Data Scientists|   15-2051|Data Scientists|             23|Information Techn...|        231510|Computer Systems ...|                  23151012|           Enterprise Architect|                2315|     Network and Syste...|                     23151012|              Enterprise Architect|           231510|  Computer Systems ...|                   2315|        Network and Syste...|                23|   Information Techn...|15-0000|Computer and Math...|15-2000|Mathematical Scie...|15-2050|Data Scientists|15-2051|Data Scientists|                5|         Cybersecurity|          62|Health Care and S...|         621|Ambulatory Health...|        6214|Outpatient Care C...|       62149|Other Outpatient ...|      621493|Freestanding Ambu...|\n",
      "|b4e618e8d2a2b6744...|       2024-10-09|  2024-10-10 02:07:...|         2|2024-06-02|2024-08-11|      70|            JobBoard|castrovalleyrecru...|https://www.simpl...|         []|               NULL|Principal growth ...|Principal growth ...|     2024-07-27|              55| 40794223|Aircall Internati...|             Aircall|              false|              99|    NoEducationListed|           99|No Education Listed|         NULL|              NULL|              1|Full-time (> 32 h...|                   6|                NULL|        false|170000|          0|         On-Site|               year|   220000|     120000|\"lat\": 37.7749295...|U2FuIEZyYW5jaXNjb...| San Francisco, CA|  6075|   San Francisco, CA|41860|San Francisco-Oak...|    6|   California|           6075|   San Francisco, CA|           6075|   San Francisco, CA|       41860|San Francisco-Oak...|       41860|San Francisco-Oak...|    99|Unclassified Indu...|   999|Unclassified Indu...|  9999|Unclassified Indu...| 99999|Unclassified Indu...|999999|Unclassified Indu...|ET54F46C4290228B21|     Growth Analysts|principal growth ...|ESA420F05EBBD34B3...|Curiosity, Busine...|KS1218H6QYLZC35BY...|   BusinessContinuit...|                NULL|                NULL|ESA420F05EBBD34B3...|Curiosity, Interp...|KS1200364C9C1LK3V...|C(ProgrammingLang...|15-2051.01|Business Intellig...|15-2051.01|Business Intellig...|                NULL|                NULL|                NULL|                NULL|          NULL|                NULL|   15-0000|Computer and Math...|   15-2000|Mathematical Scie...|   15-2050|Data Scientists|   15-2051|Data Scientists|             23|Information Techn...|        231113|Data / Data Minin...|                  23111310|                   Data Analyst|                2311|     Data Analysis and...|                     23111310|                      Data Analyst|           231113|  Data / Data Minin...|                   2311|        Data Analysis and...|                23|   Information Techn...|15-0000|Computer and Math...|15-2000|Mathematical Scie...|15-2050|Data Scientists|15-2051|Data Scientists|                6|  DataPrivacy/Prote...|          99|Unclassified Indu...|         999|Unclassified Indu...|        9999|Unclassified Indu...|       99999|Unclassified Indu...|      999999|Unclassified Indu...|\n",
      "+--------------------+-----------------+----------------------+----------+----------+----------+--------+--------------------+--------------------+--------------------+-----------+-------------------+--------------------+--------------------+---------------+----------------+---------+--------------------+--------------------+-------------------+----------------+---------------------+-------------+-------------------+-------------+------------------+---------------+--------------------+--------------------+--------------------+-------------+------+-----------+----------------+-------------------+---------+-----------+--------------------+--------------------+------------------+------+--------------------+-----+--------------------+-----+-------------+---------------+--------------------+---------------+--------------------+------------+--------------------+------------+--------------------+------+--------------------+------+--------------------+------+--------------------+------+--------------------+------+--------------------+------------------+--------------------+--------------------+--------------------+--------------------+--------------------+-----------------------+--------------------+--------------------+--------------------+--------------------+--------------------+--------------------+----------+--------------------+----------+--------------------+--------------------+--------------------+--------------------+--------------------+--------------+--------------------+----------+--------------------+----------+--------------------+----------+---------------+----------+---------------+---------------+--------------------+--------------+--------------------+--------------------------+-------------------------------+--------------------+-------------------------+-----------------------------+----------------------------------+-----------------+----------------------+-----------------------+----------------------------+------------------+-----------------------+-------+--------------------+-------+--------------------+-------+---------------+-------+---------------+-----------------+----------------------+------------+--------------------+------------+--------------------+------------+--------------------+------------+--------------------+------------+--------------------+\n",
      "only showing top 20 rows\n",
      "\n"
     ]
    },
    {
     "name": "stderr",
     "output_type": "stream",
     "text": [
      "                                                                                \r"
     ]
    }
   ],
   "source": [
    "import pandas as pd\n",
    "import plotly.express as px\n",
    "import plotly.io as pio\n",
    "pio.renderers.default = \"vscode\"\n",
    "from pyspark.sql import SparkSession\n",
    "from pyspark.sql.functions import split, explode, col, regexp_replace, transform, isnan\n",
    "\n",
    "spark = SparkSession.builder.appName(\"LightcastCleanedData\").getOrCreate()\n",
    "\n",
    "# 重新加载处理后的数据\n",
    "df_cleaned = spark.read.option(\"header\", \"true\").option(\"inferSchema\", \"true\").option(\"multiLine\",\"true\").csv(\"data/lightcast_cleaned.csv\")\n",
    "\n",
    "# 查看数据结构和样本\n",
    "df_cleaned.show()"
   ]
  },
  {
   "cell_type": "code",
   "execution_count": 26,
   "id": "eb4b40d2",
   "metadata": {},
   "outputs": [
    {
     "name": "stdout",
     "output_type": "stream",
     "text": [
      "+----------+------------------------------+----------+------------------------------+\n",
      "|ONET      |ONET_NAME                     |ONET_2019 |ONET_2019_NAME                |\n",
      "+----------+------------------------------+----------+------------------------------+\n",
      "|15-2051.01|Business Intelligence Analysts|15-2051.01|Business Intelligence Analysts|\n",
      "|15-2051.01|Business Intelligence Analysts|15-2051.01|Business Intelligence Analysts|\n",
      "|15-2051.01|Business Intelligence Analysts|15-2051.01|Business Intelligence Analysts|\n",
      "|15-2051.01|Business Intelligence Analysts|15-2051.01|Business Intelligence Analysts|\n",
      "|15-2051.01|Business Intelligence Analysts|15-2051.01|Business Intelligence Analysts|\n",
      "|15-2051.01|Business Intelligence Analysts|15-2051.01|Business Intelligence Analysts|\n",
      "|15-2051.01|Business Intelligence Analysts|15-2051.01|Business Intelligence Analysts|\n",
      "|15-2051.01|Business Intelligence Analysts|15-2051.01|Business Intelligence Analysts|\n",
      "|15-2051.01|Business Intelligence Analysts|15-2051.01|Business Intelligence Analysts|\n",
      "|15-2051.01|Business Intelligence Analysts|15-2051.01|Business Intelligence Analysts|\n",
      "+----------+------------------------------+----------+------------------------------+\n",
      "only showing top 10 rows\n",
      "\n"
     ]
    }
   ],
   "source": [
    "df_cleaned.select(\"ONET\", \"ONET_NAME\", \"ONET_2019\", \"ONET_2019_NAME\").show(10, False)"
   ]
  },
  {
   "cell_type": "code",
   "execution_count": 8,
   "id": "d4f8d2aa",
   "metadata": {},
   "outputs": [
    {
     "name": "stdout",
     "output_type": "stream",
     "text": [
      "+----------+----------+---------+\n",
      "|ONET      |ONET_2019 |EDU_MATCH|\n",
      "+----------+----------+---------+\n",
      "|15-2051.01|15-2051.01|Match    |\n",
      "|15-2051.01|15-2051.01|Match    |\n",
      "|15-2051.01|15-2051.01|Match    |\n",
      "|15-2051.01|15-2051.01|Match    |\n",
      "|15-2051.01|15-2051.01|Match    |\n",
      "|15-2051.01|15-2051.01|Match    |\n",
      "|15-2051.01|15-2051.01|Match    |\n",
      "|15-2051.01|15-2051.01|Match    |\n",
      "|15-2051.01|15-2051.01|Match    |\n",
      "|15-2051.01|15-2051.01|Match    |\n",
      "|15-2051.01|15-2051.01|Match    |\n",
      "|15-2051.01|15-2051.01|Match    |\n",
      "|15-2051.01|15-2051.01|Match    |\n",
      "|15-2051.01|15-2051.01|Match    |\n",
      "|15-2051.01|15-2051.01|Match    |\n",
      "|15-2051.01|15-2051.01|Match    |\n",
      "|15-2051.01|15-2051.01|Match    |\n",
      "|15-2051.01|15-2051.01|Match    |\n",
      "|15-2051.01|15-2051.01|Match    |\n",
      "|15-2051.01|15-2051.01|Match    |\n",
      "+----------+----------+---------+\n",
      "only showing top 20 rows\n",
      "\n"
     ]
    },
    {
     "name": "stderr",
     "output_type": "stream",
     "text": [
      "[Stage 17:>                                                         (0 + 1) / 1]\r"
     ]
    },
    {
     "name": "stdout",
     "output_type": "stream",
     "text": [
      "Not Match: 0\n"
     ]
    },
    {
     "name": "stderr",
     "output_type": "stream",
     "text": [
      "                                                                                \r"
     ]
    }
   ],
   "source": [
    "from pyspark.sql.functions import col, when\n",
    "# Create a new column EDU_MATCH, mark it as a match or not\n",
    "df_compare = df_cleaned.withColumn(\n",
    "    \"EDU_MATCH\",\n",
    "    when(col(\"ONET\") == col(\"ONET_2019\"), \"Match\").otherwise(\"Mismatch\")\n",
    ")\n",
    "\n",
    "df_compare.select(\"ONET\", \"ONET_2019\", \"EDU_MATCH\").show(truncate=False)\n",
    "\n",
    "# 统计不匹配的行数\n",
    "unmatched_count = df_cleaned.filter(col(\"MIN_EDULEVELS\") != col(\"EDUCATION_LEVELS\")).count()\n",
    "print(f\"Not Match: {unmatched_count}\")"
   ]
  },
  {
   "cell_type": "code",
   "execution_count": 9,
   "id": "fdf130dd",
   "metadata": {},
   "outputs": [
    {
     "name": "stdout",
     "output_type": "stream",
     "text": [
      "+------------------------------+------------------------------+---------+\n",
      "|ONET_NAME                     |ONET_2019_NAME                |EDU_MATCH|\n",
      "+------------------------------+------------------------------+---------+\n",
      "|Business Intelligence Analysts|Business Intelligence Analysts|Match    |\n",
      "|Business Intelligence Analysts|Business Intelligence Analysts|Match    |\n",
      "|Business Intelligence Analysts|Business Intelligence Analysts|Match    |\n",
      "|Business Intelligence Analysts|Business Intelligence Analysts|Match    |\n",
      "|Business Intelligence Analysts|Business Intelligence Analysts|Match    |\n",
      "|Business Intelligence Analysts|Business Intelligence Analysts|Match    |\n",
      "|Business Intelligence Analysts|Business Intelligence Analysts|Match    |\n",
      "|Business Intelligence Analysts|Business Intelligence Analysts|Match    |\n",
      "|Business Intelligence Analysts|Business Intelligence Analysts|Match    |\n",
      "|Business Intelligence Analysts|Business Intelligence Analysts|Match    |\n",
      "|Business Intelligence Analysts|Business Intelligence Analysts|Match    |\n",
      "|Business Intelligence Analysts|Business Intelligence Analysts|Match    |\n",
      "|Business Intelligence Analysts|Business Intelligence Analysts|Match    |\n",
      "|Business Intelligence Analysts|Business Intelligence Analysts|Match    |\n",
      "|Business Intelligence Analysts|Business Intelligence Analysts|Match    |\n",
      "|Business Intelligence Analysts|Business Intelligence Analysts|Match    |\n",
      "|Business Intelligence Analysts|Business Intelligence Analysts|Match    |\n",
      "|Business Intelligence Analysts|Business Intelligence Analysts|Match    |\n",
      "|Business Intelligence Analysts|Business Intelligence Analysts|Match    |\n",
      "|Business Intelligence Analysts|Business Intelligence Analysts|Match    |\n",
      "+------------------------------+------------------------------+---------+\n",
      "only showing top 20 rows\n",
      "\n"
     ]
    },
    {
     "name": "stderr",
     "output_type": "stream",
     "text": [
      "[Stage 21:>                                                         (0 + 1) / 1]\r"
     ]
    },
    {
     "name": "stdout",
     "output_type": "stream",
     "text": [
      "Not Match: 0\n"
     ]
    },
    {
     "name": "stderr",
     "output_type": "stream",
     "text": [
      "                                                                                \r"
     ]
    }
   ],
   "source": [
    "from pyspark.sql.functions import col, when\n",
    "# Create a new column EDU_MATCH, mark it as a match or not\n",
    "df_compare = df_cleaned.withColumn(\n",
    "    \"EDU_MATCH\",\n",
    "    when(col(\"ONET_NAME\") == col(\"ONET_2019_NAME\"), \"Match\").otherwise(\"Mismatch\")\n",
    ")\n",
    "\n",
    "df_compare.select(\"ONET_NAME\", \"ONET_2019_NAME\", \"EDU_MATCH\").show(truncate=False)\n",
    "\n",
    "# 统计不匹配的行数\n",
    "unmatched_count = df_cleaned.filter(col(\"MIN_EDULEVELS\") != col(\"EDUCATION_LEVELS\")).count()\n",
    "print(f\"Not Match: {unmatched_count}\")"
   ]
  },
  {
   "cell_type": "code",
   "execution_count": 28,
   "id": "8e7f09af",
   "metadata": {},
   "outputs": [
    {
     "name": "stderr",
     "output_type": "stream",
     "text": [
      "25/04/20 06:10:09 WARN DAGScheduler: Broadcasting large task binary with size 7.1 MiB\n",
      "25/04/20 06:10:11 WARN DAGScheduler: Broadcasting large task binary with size 7.1 MiB\n",
      "25/04/20 06:10:11 WARN DAGScheduler: Broadcasting large task binary with size 7.2 MiB\n",
      "25/04/20 06:10:14 WARN DAGScheduler: Broadcasting large task binary with size 7.2 MiB\n",
      "25/04/20 06:10:14 WARN DAGScheduler: Broadcasting large task binary with size 7.2 MiB\n",
      "25/04/20 06:10:15 WARN DAGScheduler: Broadcasting large task binary with size 7.2 MiB\n",
      "25/04/20 06:10:16 WARN DAGScheduler: Broadcasting large task binary with size 7.2 MiB\n",
      "25/04/20 06:10:16 WARN DAGScheduler: Broadcasting large task binary with size 7.2 MiB\n",
      "25/04/20 06:10:17 WARN DAGScheduler: Broadcasting large task binary with size 7.2 MiB\n",
      "25/04/20 06:10:17 WARN DAGScheduler: Broadcasting large task binary with size 7.2 MiB\n",
      "25/04/20 06:10:18 WARN DAGScheduler: Broadcasting large task binary with size 7.2 MiB\n",
      "25/04/20 06:10:19 WARN DAGScheduler: Broadcasting large task binary with size 7.2 MiB\n",
      "25/04/20 06:10:19 WARN DAGScheduler: Broadcasting large task binary with size 7.2 MiB\n",
      "25/04/20 06:10:20 WARN DAGScheduler: Broadcasting large task binary with size 8.0 MiB\n",
      "25/04/20 06:10:22 WARN DAGScheduler: Broadcasting large task binary with size 8.0 MiB\n",
      "25/04/20 06:10:22 WARN DAGScheduler: Broadcasting large task binary with size 4.2 MiB\n",
      "                                                                                \r"
     ]
    },
    {
     "name": "stdout",
     "output_type": "stream",
     "text": [
      "\n",
      "✅ KMeans Clustering Evaluation:\n",
      "NMI: 0.5791\n",
      "ARI: 0.6408\n",
      "\n",
      "Dominant ONET_NAME per cluster:\n",
      "cluster\n",
      "0    Business Intelligence Analysts\n",
      "1    Business Intelligence Analysts\n",
      "2                           15-2050\n",
      "3    Business Intelligence Analysts\n",
      "4    Business Intelligence Analysts\n",
      "Name: ONET_NAME, dtype: object\n"
     ]
    }
   ],
   "source": [
    "# ====== Step 1: Import Libraries ======\n",
    "from pyspark.sql import SparkSession\n",
    "from pyspark.ml.feature import StringIndexer, OneHotEncoder, VectorAssembler\n",
    "from pyspark.ml.clustering import KMeans\n",
    "from pyspark.ml import Pipeline\n",
    "from pyspark.sql.functions import col\n",
    "from pyspark.sql.types import DoubleType\n",
    "from sklearn.metrics import normalized_mutual_info_score, adjusted_rand_score\n",
    "import pandas as pd\n",
    "\n",
    "# ====== Step 4: Select & Clean Relevant Fields ======\n",
    "df_kmeans = df.select(\"TITLE\", \"STATE_NAME\", \"SOFTWARE_SKILLS_NAME\", \"ONET\", \"ONET_NAME\").dropna()\n",
    "\n",
    "# ====== Step 5: Indexing & One-Hot Encoding ======\n",
    "indexers = [\n",
    "    StringIndexer(inputCol=\"TITLE\", outputCol=\"TITLE_IDX\"),\n",
    "    StringIndexer(inputCol=\"STATE_NAME\", outputCol=\"STATE_IDX\"),\n",
    "    StringIndexer(inputCol=\"SOFTWARE_SKILLS_NAME\", outputCol=\"SKILL_IDX\")\n",
    "]\n",
    "\n",
    "encoder = OneHotEncoder(\n",
    "    inputCols=[\"TITLE_IDX\", \"STATE_IDX\", \"SKILL_IDX\"],\n",
    "    outputCols=[\"TITLE_VEC\", \"STATE_VEC\", \"SKILL_VEC\"]\n",
    ")\n",
    "\n",
    "# ====== Step 6: Assemble Features ======\n",
    "assembler = VectorAssembler(\n",
    "    inputCols=[\"TITLE_VEC\", \"STATE_VEC\", \"SKILL_VEC\"],\n",
    "    outputCol=\"features\"\n",
    ")\n",
    "\n",
    "# ====== Step 7: Train KMeans Model ======\n",
    "kmeans = KMeans(k=5, seed=42, featuresCol=\"features\", predictionCol=\"cluster\")\n",
    "pipeline = Pipeline(stages=indexers + [encoder, assembler, kmeans])\n",
    "model = pipeline.fit(df_kmeans)\n",
    "\n",
    "# ====== Step 8: Predict Clusters ======\n",
    "clustered = model.transform(df_kmeans)\n",
    "\n",
    "# ====== Step 9: Collect for Evaluation ======\n",
    "rows = clustered.select(\"ONET\", \"ONET_NAME\", \"cluster\").collect()\n",
    "df_clustered = pd.DataFrame([row.asDict() for row in rows])\n",
    "\n",
    "# ====== Step 10: Evaluation (NMI & ARI) ======\n",
    "from sklearn.preprocessing import LabelEncoder\n",
    "le = LabelEncoder()\n",
    "true_labels = le.fit_transform(df_clustered[\"ONET\"])\n",
    "pred_labels = df_clustered[\"cluster\"]\n",
    "\n",
    "nmi = normalized_mutual_info_score(true_labels, pred_labels)\n",
    "ari = adjusted_rand_score(true_labels, pred_labels)\n",
    "print(f\"\\n✅ KMeans Clustering Evaluation:\")\n",
    "print(f\"NMI: {nmi:.4f}\")\n",
    "print(f\"ARI: {ari:.4f}\")\n",
    "\n",
    "# ====== Step 11: Show Dominant ONET_NAME per Cluster ======\n",
    "print(\"\\nDominant ONET_NAME per cluster:\")\n",
    "print(df_clustered.groupby(\"cluster\")[\"ONET_NAME\"].agg(lambda x: x.value_counts().index[0]))"
   ]
  },
  {
   "cell_type": "code",
   "execution_count": 30,
   "id": "b13e35b7",
   "metadata": {},
   "outputs": [
    {
     "name": "stderr",
     "output_type": "stream",
     "text": [
      "25/04/20 06:11:37 WARN Instrumentation: [f4357b8e] regParam is zero, which might cause numerical instability and overfitting.\n",
      "25/04/20 06:11:38 WARN InstanceBuilder: Failed to load implementation from:dev.ludovic.netlib.lapack.JNILAPACK\n",
      "[Stage 644:>                                                      (0 + 16) / 16]\r"
     ]
    },
    {
     "name": "stdout",
     "output_type": "stream",
     "text": [
      "\n",
      "✅ Linear Regression Evaluation:\n",
      "R² Score: 0.9994\n",
      "RMSE: 1103.76\n"
     ]
    },
    {
     "name": "stderr",
     "output_type": "stream",
     "text": [
      "                                                                                \r"
     ]
    }
   ],
   "source": [
    "# ====== Step 1: Import Libraries ======\n",
    "from pyspark.sql import SparkSession\n",
    "from pyspark.sql.functions import col\n",
    "from pyspark.sql.types import DoubleType\n",
    "from pyspark.ml.feature import StringIndexer, OneHotEncoder, VectorAssembler\n",
    "from pyspark.ml.regression import LinearRegression\n",
    "from pyspark.ml import Pipeline\n",
    "from pyspark.ml.evaluation import RegressionEvaluator\n",
    "\n",
    "# ====== Step 4: Select Fields & Drop Nulls ======\n",
    "df_lr = df.select(\n",
    "    \"DURATION\", \"EDUCATION_LEVELS\", \"EMPLOYMENT_TYPE\", \"SALARY\",\n",
    "    \"REMOTE_TYPE\", \"SALARY_FROM\", \"SALARY_TO\", \"STATE_NAME\"\n",
    ").dropna()\n",
    "\n",
    "# ====== Step 5: Type Conversion for Numeric Columns ======\n",
    "df_lr = df_lr \\\n",
    "    .withColumn(\"DURATION\", col(\"DURATION\").cast(DoubleType())) \\\n",
    "    .withColumn(\"EDUCATION_LEVELS\", col(\"EDUCATION_LEVELS\").cast(DoubleType())) \\\n",
    "    .withColumn(\"SALARY\", col(\"SALARY\").cast(DoubleType())) \\\n",
    "    .withColumn(\"SALARY_FROM\", col(\"SALARY_FROM\").cast(DoubleType())) \\\n",
    "    .withColumn(\"SALARY_TO\", col(\"SALARY_TO\").cast(DoubleType()))\n",
    "\n",
    "# ====== Step 6: Encode Categorical Features ======\n",
    "indexers = [\n",
    "    StringIndexer(inputCol=\"EMPLOYMENT_TYPE\", outputCol=\"EMPLOYMENT_TYPE_IDX\"),\n",
    "    StringIndexer(inputCol=\"REMOTE_TYPE\", outputCol=\"REMOTE_TYPE_IDX\"),\n",
    "    StringIndexer(inputCol=\"STATE_NAME\", outputCol=\"STATE_IDX\")\n",
    "]\n",
    "\n",
    "encoder = OneHotEncoder(\n",
    "    inputCols=[\"EMPLOYMENT_TYPE_IDX\", \"REMOTE_TYPE_IDX\", \"STATE_IDX\"],\n",
    "    outputCols=[\"EMPLOYMENT_VEC\", \"REMOTE_VEC\", \"STATE_VEC\"]\n",
    ")\n",
    "\n",
    "# ====== Step 7: Assemble Feature Vector ======\n",
    "assembler = VectorAssembler(\n",
    "    inputCols=[\"DURATION\", \"EDUCATION_LEVELS\", \"SALARY_FROM\", \"SALARY_TO\",\n",
    "               \"EMPLOYMENT_VEC\", \"REMOTE_VEC\", \"STATE_VEC\"],\n",
    "    outputCol=\"features\"\n",
    ")\n",
    "\n",
    "# ====== Step 8: Build Linear Regression Model ======\n",
    "lr = LinearRegression(featuresCol=\"features\", labelCol=\"SALARY\")\n",
    "\n",
    "# ====== Step 9: Pipeline & Train/Test Split ======\n",
    "from pyspark.ml.tuning import TrainValidationSplit, ParamGridBuilder\n",
    "(train_data, test_data) = df_lr.randomSplit([0.8, 0.2], seed=42)\n",
    "\n",
    "pipeline = Pipeline(stages=indexers + [encoder, assembler, lr])\n",
    "model = pipeline.fit(train_data)\n",
    "\n",
    "# ====== Step 10: Evaluate Model ======\n",
    "predictions = model.transform(test_data)\n",
    "\n",
    "evaluator_r2 = RegressionEvaluator(labelCol=\"SALARY\", predictionCol=\"prediction\", metricName=\"r2\")\n",
    "evaluator_rmse = RegressionEvaluator(labelCol=\"SALARY\", predictionCol=\"prediction\", metricName=\"rmse\")\n",
    "\n",
    "r2 = evaluator_r2.evaluate(predictions)\n",
    "rmse = evaluator_rmse.evaluate(predictions)\n",
    "\n",
    "print(\"\\n✅ Linear Regression Evaluation:\")\n",
    "print(f\"R² Score: {r2:.4f}\")\n",
    "print(f\"RMSE: {rmse:.2f}\")\n"
   ]
  }
 ],
 "metadata": {
  "kernelspec": {
   "display_name": "Python (venv)",
   "language": "python",
   "name": "venv"
  },
  "language_info": {
   "codemirror_mode": {
    "name": "ipython",
    "version": 3
   },
   "file_extension": ".py",
   "mimetype": "text/x-python",
   "name": "python",
   "nbconvert_exporter": "python",
   "pygments_lexer": "ipython3",
   "version": "3.12.3"
  }
 },
 "nbformat": 4,
 "nbformat_minor": 5
}
